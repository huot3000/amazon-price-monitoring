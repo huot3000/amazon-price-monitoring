{
 "cells": [
  {
   "cell_type": "code",
   "execution_count": 15,
   "metadata": {},
   "outputs": [],
   "source": [
    "import requests\n",
    "import time\n",
    "from requests_html import HTML\n",
    "from selenium import webdriver\n",
    "from selenium.webdriver.chrome.options import Options"
   ]
  },
  {
   "cell_type": "code",
   "execution_count": 16,
   "metadata": {},
   "outputs": [],
   "source": [
    "options = Options()\n",
    "options.add_argument('--headless')\n",
    "\n",
    "driver = webdriver.Chrome(options=options)"
   ]
  },
  {
   "cell_type": "code",
   "execution_count": 17,
   "metadata": {},
   "outputs": [],
   "source": [
    "categories = [\n",
    "    'https://www.amazon.ca/Best-Sellers-Music/zgbs/music/',\n",
    "    'https://www.amazon.ca/Best-Sellers-DVD/zgbs/dvd/',\n",
    "    'https://www.amazon.ca/Best-Sellers-Electronics/zgbs/electronics/'\n",
    "]"
   ]
  },
  {
   "cell_type": "code",
   "execution_count": 18,
   "metadata": {},
   "outputs": [
    {
     "output_type": "execute_result",
     "data": {
      "text/plain": "['https://www.amazon.ca/Best-Sellers-Music/zgbs/music/',\n 'https://www.amazon.ca/Best-Sellers-DVD/zgbs/dvd/',\n 'https://www.amazon.ca/Best-Sellers-Electronics/zgbs/electronics/']"
     },
     "metadata": {},
     "execution_count": 18
    }
   ],
   "source": [
    "categories"
   ]
  },
  {
   "cell_type": "code",
   "execution_count": 30,
   "metadata": {},
   "outputs": [],
   "source": [
    "first_url = categories[2]"
   ]
  },
  {
   "cell_type": "code",
   "execution_count": 31,
   "metadata": {},
   "outputs": [],
   "source": [
    "driver.get(first_url)"
   ]
  },
  {
   "cell_type": "code",
   "execution_count": 32,
   "metadata": {},
   "outputs": [],
   "source": [
    "body_el = driver.find_element_by_css_selector('body')\n",
    "html_str = body_el.get_attribute('innerHTML')"
   ]
  },
  {
   "cell_type": "code",
   "execution_count": 33,
   "metadata": {},
   "outputs": [],
   "source": [
    "html_obj = HTML(html=html_str)"
   ]
  },
  {
   "cell_type": "code",
   "execution_count": 34,
   "metadata": {},
   "outputs": [],
   "source": [
    "new_links = [x for x in html_obj.links if x.startswith('/')]\n",
    "new_links = [x for x in new_links if 'product-reviews/' not in x]"
   ]
  },
  {
   "cell_type": "code",
   "execution_count": 35,
   "metadata": {},
   "outputs": [],
   "source": [
    "page_links = [f'https://www.amazon.ca{x}' for x in new_links]"
   ]
  },
  {
   "cell_type": "code",
   "execution_count": 36,
   "metadata": {},
   "outputs": [],
   "source": [
    "# page_links"
   ]
  },
  {
   "cell_type": "code",
   "execution_count": 37,
   "metadata": {},
   "outputs": [],
   "source": [
    "def scrape_product_page(url, title_lookup = '#productTitle', price_lookup = '#priceblock_ourprice'):\n",
    "    driver.get(url)\n",
    "    time.sleep(1.2)\n",
    "    body_el = driver.find_element_by_css_selector('body')\n",
    "    html_str = body_el.get_attribute('innerHTML')\n",
    "    html_obj = HTML(html=html_str)\n",
    "    product_title = html_obj.find(title_lookup, first=True).text\n",
    "    product_price = html_obj.find(price_lookup, first=True).text\n",
    "    return product_title, product_price\n"
   ]
  },
  {
   "cell_type": "code",
   "execution_count": 38,
   "metadata": {},
   "outputs": [
    {
     "output_type": "execute_result",
     "data": {
      "text/plain": "'https://www.amazon.ca/gp/help/customer/display.html?ie=UTF8&nodeId=918816&ref_=footer_cou'"
     },
     "metadata": {},
     "execution_count": 38
    }
   ],
   "source": [
    "first_product_link = page_links[0]\n",
    "first_product_link"
   ]
  },
  {
   "cell_type": "code",
   "execution_count": 39,
   "metadata": {
    "tags": []
   },
   "outputs": [
    {
     "output_type": "stream",
     "name": "stdout",
     "text": "https://www.amazon.ca/Bluetooth-Transmitter-Receiver-TaoTronics-Simultaneously/dp/B013ULOP10/ref=zg_bs_electronics_26?_encoding=UTF8&psc=1&refRID=D66VA5KSQADS1KSA0KS3 Bluetooth 5.0 Transmitter/Receiver, TaoTronics 2-in-1 Wireless 3.5mm Audio Adapter (aptX Low Latency, 2 Devices Simultaneously, for TV/Home Sound System) CDN$ 29.99\nhttps://www.amazon.ca/Processeurs-Ryzen-ordinateurs-bureau-3700X/dp/B07SXMZLPK/ref=zg_bs_electronics_43?_encoding=UTF8&psc=1&refRID=D66VA5KSQADS1KSA0KS3 AMD Ryzen 7 3700X 8-Core, 16-Thread Unlocked Desktop Processor with Wraith Prism LED Cooler CDN$ 406.99\nhttps://www.amazon.ca/Keyboard-Universal-Keyboards-Calculators-ColorCoral/dp/B07GW9TJ3G/ref=zg_bs_electronics_40?_encoding=UTF8&psc=1&refRID=D66VA5KSQADS1KSA0KS3 ColorCoral Keyboard Cleaner Universal Cleaning Gel for PC Tablet Laptop Keyboards, Car Vents, Cameras, Printers, 160G CDN$ 13.99\nhttps://www.amazon.ca/AMD-Ryzen-3600-12-thread-processor/dp/B07STGGQ18/ref=zg_bs_electronics_23?_encoding=UTF8&psc=1&refRID=D66VA5KSQADS1KSA0KS3 AMD Ryzen 5 3600 6-Core, 12-Thread Unlocked Desktop Processor with Wraith Stealth Cooler CDN$ 260.43\nhttps://www.amazon.ca/Seagate-Barracuda-Internal-Drive-3-5-Inch/dp/B07H2RR55Q/ref=zg_bs_electronics_20?_encoding=UTF8&psc=1&refRID=D66VA5KSQADS1KSA0KS3 Seagate BarraCuda 2TB Internal Hard Drive HDD 3.5 Inch SATA 6Gb/s 7200 RPM 256MB Cache 3.5-Inch Frustration Free Packaging CDN$ 74.34\nhttps://www.amazon.ca/All-new-Blink-Outdoor-Security-included/dp/B07M5HX8Q8/ref=zg_bs_electronics_28?_encoding=UTF8&psc=1&refRID=D66VA5KSQADS1KSA0KS3 Blink XT2 Outdoor/Indoor Smart Security Camera with cloud storage included, 2-way audio, 2-year battery life – 1 camera kit CDN$ 129.99\n"
    }
   ],
   "source": [
    "for link in page_links:\n",
    "    title, price = (None, None)\n",
    "    try:\n",
    "        title, price = scrape_product_page(link)\n",
    "    except:\n",
    "        pass\n",
    "    if title != None and price != None:\n",
    "        print(link, title, price)"
   ]
  },
  {
   "cell_type": "code",
   "execution_count": null,
   "metadata": {},
   "outputs": [],
   "source": [
    "# https://www.amazon.ca/FEA-Eagles-Hotel-California-Black/dp/B001RNO2ZI/"
   ]
  },
  {
   "cell_type": "code",
   "execution_count": null,
   "metadata": {},
   "outputs": [],
   "source": []
  }
 ],
 "metadata": {
  "kernelspec": {
   "display_name": "Python 3",
   "language": "python",
   "name": "python3"
  },
  "language_info": {
   "codemirror_mode": {
    "name": "ipython",
    "version": 3
   },
   "file_extension": ".py",
   "mimetype": "text/x-python",
   "name": "python",
   "nbconvert_exporter": "python",
   "pygments_lexer": "ipython3",
   "version": "3.7.7"
  }
 },
 "nbformat": 4,
 "nbformat_minor": 4
}