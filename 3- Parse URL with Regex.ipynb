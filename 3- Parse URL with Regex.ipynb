{
 "cells": [
  {
   "cell_type": "code",
   "execution_count": 12,
   "metadata": {},
   "outputs": [],
   "source": [
    "from pathlib import Path\n",
    "import re\n",
    "import requests\n",
    "import time\n",
    "\n",
    "import pandas as pd\n",
    "from requests_html import HTML\n",
    "from selenium import webdriver\n",
    "from selenium.webdriver.chrome.options import Options"
   ]
  },
  {
   "cell_type": "code",
   "execution_count": 13,
   "metadata": {},
   "outputs": [],
   "source": [
    "BASE_DIR = Path.cwd()\n",
    "DATA_DIR = BASE_DIR / 'data' # os.path.join(BASE_DIR, 'data')\n",
    "if not DATA_DIR.exists(): #os.path.exists(DATA_DIR)\n",
    "    DATA_DIR.mkdir(exist_ok=True) #os.makedirs(DATA_DIR, exist_ok=True)\n",
    "\n",
    "product_category_links_output = DATA_DIR / 'category-products.csv'\n",
    "product_output = DATA_DIR / 'products.csv'\n"
   ]
  },
  {
   "cell_type": "code",
   "execution_count": 4,
   "metadata": {},
   "outputs": [],
   "source": [
    "options = Options()\n",
    "options.add_argument('--headless')\n",
    "\n",
    "driver = webdriver.Chrome(options=options)"
   ]
  },
  {
   "cell_type": "code",
   "execution_count": 5,
   "metadata": {},
   "outputs": [],
   "source": [
    "categories = [\n",
    "    {'name': 'toys-and-games', 'url':\"https://www.amazon.com/Best-Sellers-Toys-Games/zgbs/toys-and-games/\"},\n",
    "    {'name': 'electronics', 'url': \"https://www.amazon.com/Best-Sellers-Electronics/zgbs/electronics/\"},\n",
    "    {'name': 'fashion', 'url':\"https://www.amazon.com/Best-Sellers/zgbs/fashion/\"}\n",
    "]"
   ]
  },
  {
   "cell_type": "code",
   "execution_count": 6,
   "metadata": {},
   "outputs": [],
   "source": [
    "regex_options = [\n",
    "    r\"https://www.amazon.com/gp/product/(?P<product_id>[\\w-]+)/\",\n",
    "    r\"https://www.amazon.com/dp/(?P<product_id>[\\w-]+)/\",\n",
    "    r\"https://www.amazon.com/(?P<slug>[\\w-]+)/dp/(?P<product_id>[\\w-]+)/\",\n",
    "]\n",
    "\n",
    "def extract_product_id_from_url(url):\n",
    "    product_id = None\n",
    "    for regex_str in regex_options:\n",
    "        regex = re.compile(regex_str)\n",
    "        match = regex.match(url)\n",
    "        if match != None:\n",
    "            try:\n",
    "                product_id = match['product_id']\n",
    "            except:\n",
    "                pass\n",
    "    return product_id"
   ]
  },
  {
   "cell_type": "code",
   "execution_count": 7,
   "metadata": {},
   "outputs": [],
   "source": [
    "def clean_page_links(page_links=[]):\n",
    "    final_page_links = []\n",
    "    for url in page_links:\n",
    "        product_id = extract_product_id_from_url(url)\n",
    "        if product_id != None:\n",
    "            final_page_links.append({\"url\": url, \"product_id\": product_id})\n",
    "    return final_page_links"
   ]
  },
  {
   "cell_type": "code",
   "execution_count": 9,
   "metadata": {},
   "outputs": [],
   "source": [
    "def scrape_category_product_links(categories=[]):\n",
    "    all_product_links = []\n",
    "    for category in categories:\n",
    "        time.sleep(1.5)\n",
    "        url = category.get('url')\n",
    "        driver.get(url)\n",
    "        body_el = driver.find_element_by_css_selector('body')\n",
    "        html_str = body_el.get_attribute('innerHTML')\n",
    "        html_obj = HTML(html=html_str)\n",
    "        page_links = [f'https://www.amazon.com{x}' for x in html_obj.links if x.startswith('/')]\n",
    "        cleaned_links = clean_page_links(page_links=page_links)\n",
    "        all_product_links += cleaned_links\n",
    "    return all_product_links\n",
    "\n",
    "all_product_links = scrape_category_product_links(categories)"
   ]
  },
  {
   "cell_type": "code",
   "execution_count": 16,
   "metadata": {},
   "outputs": [],
   "source": [
    "category_df = pd.DataFrame(all_product_links)\n",
    "category_df.to_csv(product_category_links_output, index=False)"
   ]
  },
  {
   "cell_type": "code",
   "execution_count": 10,
   "metadata": {},
   "outputs": [
    {
     "name": "stdout",
     "output_type": "stream",
     "text": [
      "[{'url': 'https://www.amazon.com/Crayola-Adult-Face-Mask-Reusable/dp/B08B2J4J46/ref=zg_bs_toys-and-games_3?_encoding=UTF8&psc=1&refRID=HERZ0C3GGF1W43NQ77QA', 'product_id': 'B08B2J4J46'}, {'url': 'https://www.amazon.com/Crayola-Shark-Coloring-Pages-Wonder/dp/B07PMLL5L7/ref=zg_bs_toys-and-games_38?_encoding=UTF8&psc=1&refRID=HERZ0C3GGF1W43NQ77QA', 'product_id': 'B07PMLL5L7'}, {'url': 'https://www.amazon.com/Cards-Against-Humanity-LLC-CAHUS/dp/B004S8F7QM/ref=zg_bs_toys-and-games_49?_encoding=UTF8&psc=1&refRID=HERZ0C3GGF1W43NQ77QA', 'product_id': 'B004S8F7QM'}, {'url': 'https://www.amazon.com/Elmers-Liquid-School-Washable-Ounces/dp/B072MHQZT1/ref=zg_bs_toys-and-games_31?_encoding=UTF8&psc=1&refRID=HERZ0C3GGF1W43NQ77QA', 'product_id': 'B072MHQZT1'}, {'url': 'https://www.amazon.com/Bobor-Trampoline-Sprinklers-Outdoor-Summer/dp/B07QZFS4CY/ref=zg_bs_toys-and-games_35?_encoding=UTF8&psc=1&refRID=HERZ0C3GGF1W43NQ77QA', 'product_id': 'B07QZFS4CY'}, {'url': 'https://www.amazon.com/Max-Liquidator-3-Pack-Water-Blaster/dp/B082FY363S/ref=zg_bs_toys-and-games_33?_encoding=UTF8&psc=1&refRID=HERZ0C3GGF1W43NQ77QA', 'product_id': 'B082FY363S'}, {'url': 'https://www.amazon.com/Klutz-LEGO-Chain-Reactions-Craft/dp/0545703301/ref=zg_bs_toys-and-games_23?_encoding=UTF8&psc=1&refRID=HERZ0C3GGF1W43NQ77QA', 'product_id': '0545703301'}, {'url': 'https://www.amazon.com/L-L-Surprise-Present-Surprises/dp/B085B23C3X/ref=zg_bs_toys-and-games_50?_encoding=UTF8&psc=1&refRID=HERZ0C3GGF1W43NQ77QA', 'product_id': 'B085B23C3X'}, {'url': 'https://www.amazon.com/Play-Doh-Modeling-Compound-Non-Toxic-Exclusive/dp/B00JM5GW10/ref=zg_bs_toys-and-games_6?_encoding=UTF8&psc=1&refRID=HERZ0C3GGF1W43NQ77QA', 'product_id': 'B00JM5GW10'}, {'url': 'https://www.amazon.com/SupMLC-Backpack-Holding-Children-Grocery/dp/B07PHCWJ9W/ref=zg_bs_toys-and-games_27?_encoding=UTF8&psc=1&refRID=HERZ0C3GGF1W43NQ77QA', 'product_id': 'B07PHCWJ9W'}, {'url': 'https://www.amazon.com/Creativity-Kids-Glow-Dark-Painting/dp/B07SXLYQ6S/ref=zg_bs_toys-and-games_11?_encoding=UTF8&psc=1&refRID=HERZ0C3GGF1W43NQ77QA', 'product_id': 'B07SXLYQ6S'}, {'url': 'https://www.amazon.com/Mattel-Games-Official-Amazon-Exclusive/dp/B07P6MZPK3/ref=zg_bs_toys-and-games_13?_encoding=UTF8&psc=1&refRID=HERZ0C3GGF1W43NQ77QA', 'product_id': 'B07P6MZPK3'}, {'url': 'https://www.amazon.com/Intex-Lounge-Swimming-Lounger-Headrest/dp/B00AY2KDS8/ref=zg_bs_toys-and-games_43?_encoding=UTF8&psc=1&refRID=HERZ0C3GGF1W43NQ77QA', 'product_id': 'B00AY2KDS8'}, {'url': 'https://www.amazon.com/Nuby-Floating-Purple-Octopus-Interactive/dp/B083ZZSGLR/ref=zg_bs_toys-and-games_14?_encoding=UTF8&psc=1&refRID=HERZ0C3GGF1W43NQ77QA', 'product_id': 'B083ZZSGLR'}, {'url': 'https://www.amazon.com/Regal-Games-Chalk-City-Washable/dp/B071CKSMS7/ref=zg_bs_toys-and-games_20?_encoding=UTF8&psc=1&refRID=HERZ0C3GGF1W43NQ77QA', 'product_id': 'B071CKSMS7'}, {'url': 'https://www.amazon.com/Jasonwell-Inflatable-Rideable-Swimming-Decorations/dp/B07BMM7JY8/ref=zg_bs_toys-and-games_46?_encoding=UTF8&psc=1&refRID=HERZ0C3GGF1W43NQ77QA', 'product_id': 'B07BMM7JY8'}, {'url': 'https://www.amazon.com/Darice-Solution-Top-Works-Machines-Birthdays/dp/B07RYBB4NZ/ref=zg_bs_toys-and-games_4?_encoding=UTF8&psc=1&refRID=HERZ0C3GGF1W43NQ77QA', 'product_id': 'B07RYBB4NZ'}, {'url': 'https://www.amazon.com/First-Years-Stack-Up-Cups/dp/B00005C5H4/ref=zg_bs_toys-and-games_12?_encoding=UTF8&psc=1&refRID=HERZ0C3GGF1W43NQ77QA', 'product_id': 'B00005C5H4'}, {'url': 'https://www.amazon.com/Barbie-FWV25-Travel-Doll/dp/B07GLMHSS8/ref=zg_bs_toys-and-games_30?_encoding=UTF8&psc=1&refRID=HERZ0C3GGF1W43NQ77QA', 'product_id': 'B07GLMHSS8'}, {'url': 'https://www.amazon.com/LeapFrog-80-609540-100-Animals-Book/dp/B085KTQKNC/ref=zg_bs_toys-and-games_7?_encoding=UTF8&psc=1&refRID=HERZ0C3GGF1W43NQ77QA', 'product_id': 'B085KTQKNC'}, {'url': 'https://www.amazon.com/Little-Tikes-First-Slide-Blue/dp/B008MH5H4M/ref=zg_bs_toys-and-games_45?_encoding=UTF8&psc=1&refRID=HERZ0C3GGF1W43NQ77QA', 'product_id': 'B008MH5H4M'}, {'url': 'https://www.amazon.com/LEGO-Classic-Green-Baseplate-Supplement/dp/B00NHQF65S/ref=zg_bs_toys-and-games_47?_encoding=UTF8&psc=1&refRID=HERZ0C3GGF1W43NQ77QA', 'product_id': 'B00NHQF65S'}, {'url': 'https://www.amazon.com/First-Princess-Make-Kit-Everything/dp/B07FPWYY79/ref=zg_bs_toys-and-games_25?_encoding=UTF8&psc=1&refRID=HERZ0C3GGF1W43NQ77QA', 'product_id': 'B07FPWYY79'}, {'url': 'https://www.amazon.com/SplashEZ-Sprinkler-Splash-Wading-Learning/dp/B07MNMT3M7/ref=zg_bs_toys-and-games_5?_encoding=UTF8&psc=1&refRID=HERZ0C3GGF1W43NQ77QA', 'product_id': 'B07MNMT3M7'}, {'url': 'https://www.amazon.com/Waterproof-Stickers-Luggage-Scrapbook-Postcard/dp/B07QR3NWGK/ref=zg_bs_toys-and-games_39?_encoding=UTF8&psc=1&refRID=HERZ0C3GGF1W43NQ77QA', 'product_id': 'B07QR3NWGK'}, {'url': 'https://www.amazon.com/Fix-Find-flexible-colorful-Noodles/dp/B004UHED0C/ref=zg_bs_toys-and-games_29?_encoding=UTF8&psc=1&refRID=HERZ0C3GGF1W43NQ77QA', 'product_id': 'B004UHED0C'}, {'url': 'https://www.amazon.com/Tara-Toys-Barbie-Necklace-Activity/dp/B07WWZBF5G/ref=zg_bs_toys-and-games_15?_encoding=UTF8&psc=1&refRID=HERZ0C3GGF1W43NQ77QA', 'product_id': 'B07WWZBF5G'}, {'url': 'https://www.amazon.com/L-L-Surprise-Surprises-Including/dp/B07XSPCBVP/ref=zg_bs_toys-and-games_18?_encoding=UTF8&psc=1&refRID=HERZ0C3GGF1W43NQ77QA', 'product_id': 'B07XSPCBVP'}, {'url': 'https://www.amazon.com/Outward-Hound-Stimulating-Interactive-Dispensing/dp/B087DMVC6J/ref=zg_bs_toys-and-games_16?_encoding=UTF8&psc=1&refRID=HERZ0C3GGF1W43NQ77QA', 'product_id': 'B087DMVC6J'}, {'url': 'https://www.amazon.com/FindUWill-Swimming-Multi-Purpose-Inflatable-Lightblue/dp/B083Q1TTBJ/ref=zg_bs_toys-and-games_9?_encoding=UTF8&psc=1&refRID=HERZ0C3GGF1W43NQ77QA', 'product_id': 'B083Q1TTBJ'}, {'url': 'https://www.amazon.com/HITOP-Blaster-Children-Swimming-Fighting/dp/B07R6GZQBV/ref=zg_bs_toys-and-games_17?_encoding=UTF8&psc=1&refRID=HERZ0C3GGF1W43NQ77QA', 'product_id': 'B07R6GZQBV'}, {'url': 'https://www.amazon.com/Spikeball-Ball-Kit-Playing-Drawstring/dp/B002V7A7MQ/ref=zg_bs_toys-and-games_41?_encoding=UTF8&psc=1&refRID=HERZ0C3GGF1W43NQ77QA', 'product_id': 'B002V7A7MQ'}, {'url': 'https://www.amazon.com/Transformers-TRA-EARTHRISE-EARTHMODE-Pack/dp/B07ZPL7DXZ/ref=zg_bs_toys-and-games_26?_encoding=UTF8&psc=1&refRID=HERZ0C3GGF1W43NQ77QA', 'product_id': 'B07ZPL7DXZ'}, {'url': 'https://www.amazon.com/Juego-conector-Hasbro-talla-Multicolor/dp/B00D8STBHY/ref=zg_bs_toys-and-games_32?_encoding=UTF8&psc=1&refRID=HERZ0C3GGF1W43NQ77QA', 'product_id': 'B00D8STBHY'}, {'url': 'https://www.amazon.com/Fisher-Price-Rattle-Rock-Maracas-Orange/dp/B071FLSWBS/ref=zg_bs_toys-and-games_22?_encoding=UTF8&psc=1&refRID=HERZ0C3GGF1W43NQ77QA', 'product_id': 'B071FLSWBS'}, {'url': 'https://www.amazon.com/Hasbro-B0965-Monopoly-Deal-Card/dp/B00NQQTZCO/ref=zg_bs_toys-and-games_44?_encoding=UTF8&psc=1&refRID=HERZ0C3GGF1W43NQ77QA', 'product_id': 'B00NQQTZCO'}, {'url': 'https://www.amazon.com/Homech-Inflatable-Swimming-Full-Sized-Toddlers/dp/B083PRCZDM/ref=zg_bs_toys-and-games_19?_encoding=UTF8&psc=1&refRID=HERZ0C3GGF1W43NQ77QA', 'product_id': 'B083PRCZDM'}, {'url': 'https://www.amazon.com/Bunch-Balloons-Pack-Amazon-Exclusive/dp/B07GW2QQWN/ref=zg_bs_toys-and-games_2?_encoding=UTF8&psc=1&refRID=HERZ0C3GGF1W43NQ77QA', 'product_id': 'B07GW2QQWN'}, {'url': 'https://www.amazon.com/ELONGDI-Rainbow-Growing-Sensory-Wedding/dp/B06XZNMMKC/ref=zg_bs_toys-and-games_24?_encoding=UTF8&psc=1&refRID=HERZ0C3GGF1W43NQ77QA', 'product_id': 'B06XZNMMKC'}, {'url': 'https://www.amazon.com/Crayola-Twistables-Classrooms-Preschools-Self-Sharpening/dp/B00062J99K/ref=zg_bs_toys-and-games_34?_encoding=UTF8&psc=1&refRID=HERZ0C3GGF1W43NQ77QA', 'product_id': 'B00062J99K'}, {'url': 'https://www.amazon.com/Disney-Classic-Characters-Matching-Game/dp/B007DW6F34/ref=zg_bs_toys-and-games_28?_encoding=UTF8&psc=1&refRID=HERZ0C3GGF1W43NQ77QA', 'product_id': 'B007DW6F34'}, {'url': 'https://www.amazon.com/Akaho-Inflatable-Swimming-Thickened-Blue-2Fly/dp/B089GQW4RJ/ref=zg_bs_toys-and-games_40?_encoding=UTF8&psc=1&refRID=HERZ0C3GGF1W43NQ77QA', 'product_id': 'B089GQW4RJ'}, {'url': 'https://www.amazon.com/First-Years-Disney-Mickey-Squirt/dp/B06Y1G2MH9/ref=zg_bs_toys-and-games_48?_encoding=UTF8&psc=1&refRID=HERZ0C3GGF1W43NQ77QA', 'product_id': 'B06Y1G2MH9'}, {'url': 'https://www.amazon.com/Exploding-Kittens-LLC-EKG-ORG1-1-Card/dp/B010TQY7A8/ref=zg_bs_toys-and-games_37?_encoding=UTF8&psc=1&refRID=HERZ0C3GGF1W43NQ77QA', 'product_id': 'B010TQY7A8'}, {'url': 'https://www.amazon.com/SwimWays-Noodle-Chair-Colors-Vary/dp/B019C2COVO/ref=zg_bs_toys-and-games_10?_encoding=UTF8&psc=1&refRID=HERZ0C3GGF1W43NQ77QA', 'product_id': 'B019C2COVO'}, {'url': 'https://www.amazon.com/Jenga-A2120EU4-Classic-Game/dp/B00ABA0ZOA/ref=zg_bs_toys-and-games_42?_encoding=UTF8&psc=1&refRID=HERZ0C3GGF1W43NQ77QA', 'product_id': 'B00ABA0ZOA'}, {'url': 'https://www.amazon.com/Winning-Hape-Dynamo-Wooden-Domino/dp/B00NU9VNDQ/ref=zg_bs_toys-and-games_36?_encoding=UTF8&psc=1&refRID=HERZ0C3GGF1W43NQ77QA', 'product_id': 'B00NU9VNDQ'}, {'url': 'https://www.amazon.com/Long-Lasting-Pre-Sharpened-Non-Toxic-Coloring-Gradation/dp/B0816T2XKL/ref=zg_bs_toys-and-games_8?_encoding=UTF8&psc=1&refRID=HERZ0C3GGF1W43NQ77QA', 'product_id': 'B0816T2XKL'}, {'url': 'https://www.amazon.com/Aqua-Monterey-Multi-Purpose-Inflatable-Portable/dp/B01CETEZ78/ref=zg_bs_toys-and-games_1?_encoding=UTF8&psc=1&refRID=HERZ0C3GGF1W43NQ77QA', 'product_id': 'B01CETEZ78'}, {'url': 'https://www.amazon.com/Obuby-Sprinkle-Sprinkler-Upgraded-Toddlers/dp/B085ZH5VGR/ref=zg_bs_toys-and-games_21?_encoding=UTF8&psc=1&refRID=HERZ0C3GGF1W43NQ77QA', 'product_id': 'B085ZH5VGR'}, {'url': 'https://www.amazon.com/GE-Outlet-Protector-Extension-14092/dp/B00DOMYL24/ref=zg_bs_electronics_24?_encoding=UTF8&psc=1&refRID=S4RV0K4TPXNG0VJEVQDH', 'product_id': 'B00DOMYL24'}, {'url': 'https://www.amazon.com/Roku-Streaming-Stick-HDR-Streaming-Long-range/dp/B075XLWML4/ref=zg_bs_electronics_8?_encoding=UTF8&psc=1&refRID=S4RV0K4TPXNG0VJEVQDH', 'product_id': 'B075XLWML4'}, {'url': 'https://www.amazon.com/Fire-TV-Stick-with-Alexa-Voice-Remote/dp/B0791TX5P5/ref=zg_bs_electronics_4?_encoding=UTF8&psc=1&refRID=S4RV0K4TPXNG0VJEVQDH', 'product_id': 'B0791TX5P5'}, {'url': 'https://www.amazon.com/all-new-Echo/dp/B07NFTVP7P/ref=zg_bs_electronics_26?_encoding=UTF8&psc=1&refRID=S4RV0K4TPXNG0VJEVQDH', 'product_id': 'B07NFTVP7P'}, {'url': 'https://www.amazon.com/Ring-Video-Doorbell/dp/B07WGJ8XWZ/ref=zg_bs_electronics_19?_encoding=UTF8&psc=1&refRID=S4RV0K4TPXNG0VJEVQDH', 'product_id': 'B07WGJ8XWZ'}, {'url': 'https://www.amazon.com/Apple-Watch-GPS-42mm-Space-Aluminium/dp/B07K387Y7K/ref=zg_bs_electronics_35?_encoding=UTF8&psc=1&refRID=S4RV0K4TPXNG0VJEVQDH', 'product_id': 'B07K387Y7K'}, {'url': 'https://www.amazon.com/Fire-HD-10/dp/B07K1RZWMC/ref=zg_bs_electronics_5?_encoding=UTF8&psc=1&refRID=S4RV0K4TPXNG0VJEVQDH', 'product_id': 'B07K1RZWMC'}, {'url': 'https://www.amazon.com/Blink-Smart-Security-Camera/dp/B07MMZ2LTB/ref=zg_bs_electronics_17?_encoding=UTF8&psc=1&refRID=S4RV0K4TPXNG0VJEVQDH', 'product_id': 'B07MMZ2LTB'}, {'url': 'https://www.amazon.com/Wyze-1080p-Indoor-Camera-Vision/dp/B07DGR98VQ/ref=zg_bs_electronics_31?_encoding=UTF8&psc=1&refRID=S4RV0K4TPXNG0VJEVQDH', 'product_id': 'B07DGR98VQ'}, {'url': 'https://www.amazon.com/Echo-Dot/dp/B07N8RPRF7/ref=zg_bs_electronics_12?_encoding=UTF8&psc=1&refRID=S4RV0K4TPXNG0VJEVQDH', 'product_id': 'B07N8RPRF7'}, {'url': 'https://www.amazon.com/all-new-fire-tv-cube-with-alexa-voice-remote/dp/B07KGVB6D6/ref=zg_bs_electronics_40?_encoding=UTF8&psc=1&refRID=S4RV0K4TPXNG0VJEVQDH', 'product_id': 'B07KGVB6D6'}, {'url': 'https://www.amazon.com/Letsfit-Activity-Waterproof-Pedometer-Smartwatch/dp/B07X2KLTJ2/ref=zg_bs_electronics_45?_encoding=UTF8&psc=1&refRID=S4RV0K4TPXNG0VJEVQDH', 'product_id': 'B07X2KLTJ2'}, {'url': 'https://www.amazon.com/JBL-Bluetooth-Portable-Stereo-Speaker/dp/B01MSYQWNY/ref=zg_bs_electronics_39?_encoding=UTF8&psc=1&refRID=S4RV0K4TPXNG0VJEVQDH', 'product_id': 'B01MSYQWNY'}, {'url': 'https://www.amazon.com/AmazonBasics-6-Outlet-Protector-2-Pack-2-Foot/dp/B00TP1BWMK/ref=zg_bs_electronics_23?_encoding=UTF8&psc=1&refRID=S4RV0K4TPXNG0VJEVQDH', 'product_id': 'B00TP1BWMK'}, {'url': 'https://www.amazon.com/Blink-Mini-Indoor-Camera/dp/B07X6C9RMF/ref=zg_bs_electronics_29?_encoding=UTF8&psc=1&refRID=S4RV0K4TPXNG0VJEVQDH', 'product_id': 'B07X6C9RMF'}, {'url': 'https://www.amazon.com/All-New-Fire-HD-8-Kids-Edition-Tablet/dp/B07WDDT3G5/ref=zg_bs_electronics_10?_encoding=UTF8&psc=1&refRID=S4RV0K4TPXNG0VJEVQDH', 'product_id': 'B07WDDT3G5'}, {'url': 'https://www.amazon.com/Fire-7-Kids-Edition-Tablet/dp/B07H8WS1FT/ref=zg_bs_electronics_9?_encoding=UTF8&psc=1&refRID=S4RV0K4TPXNG0VJEVQDH', 'product_id': 'B07H8WS1FT'}, {'url': 'https://www.amazon.com/All-new-Ring-Stick-Up-Cam-Battery-HD-security-camera-with-two-way-talk-Works-with-Alexa-/dp/B07Q6ZZFLS/ref=zg_bs_electronics_48?_encoding=UTF8&psc=1&refRID=S4RV0K4TPXNG0VJEVQDH', 'product_id': 'B07Q6ZZFLS'}, {'url': 'https://www.amazon.com/amFilm-Tempered-Screen-Protector-Nintendo-Switch/dp/B01N3ASPNV/ref=zg_bs_electronics_36?_encoding=UTF8&psc=1&refRID=S4RV0K4TPXNG0VJEVQDH', 'product_id': 'B01N3ASPNV'}, {'url': 'https://www.amazon.com/Apple-Watch-GPS-38mm-Silver-Aluminium/dp/B07K37HKT8/ref=zg_bs_electronics_18?_encoding=UTF8&psc=1&refRID=S4RV0K4TPXNG0VJEVQDH', 'product_id': 'B07K37HKT8'}, {'url': 'https://www.amazon.com/Fujifilm-INSTAX-Instant-Twin-Pack/dp/B00EB4ADQW/ref=zg_bs_electronics_30?_encoding=UTF8&psc=1&refRID=S4RV0K4TPXNG0VJEVQDH', 'product_id': 'B00EB4ADQW'}, {'url': 'https://www.amazon.com/Introducing-Ring-Indoor-Cam-Compact-Plug-In-HD-security-camera-with-two-way-talk-White-Works-with-Alexa-/dp/B07Q9VBYV8/ref=zg_bs_electronics_41?_encoding=UTF8&psc=1&refRID=S4RV0K4TPXNG0VJEVQDH', 'product_id': 'B07Q9VBYV8'}, {'url': 'https://www.amazon.com/SanDisk-MicroSDXC-Nintendo-Switch-SDSQXAO-128G-GNCZN/dp/B07KXQX3S3/ref=zg_bs_electronics_42?_encoding=UTF8&psc=1&refRID=S4RV0K4TPXNG0VJEVQDH', 'product_id': 'B07KXQX3S3'}, {'url': 'https://www.amazon.com/Roku-Premiere-HDR-Streaming-Player-Premium/dp/B07HDBZN7Q/ref=zg_bs_electronics_21?_encoding=UTF8&psc=1&refRID=S4RV0K4TPXNG0VJEVQDH', 'product_id': 'B07HDBZN7Q'}, {'url': 'https://www.amazon.com/Fitbit-Fitness-Smartwatch-Tracking-Included/dp/B07TWFVDWT/ref=zg_bs_electronics_34?_encoding=UTF8&psc=1&refRID=S4RV0K4TPXNG0VJEVQDH', 'product_id': 'B07TWFVDWT'}, {'url': 'https://www.amazon.com/Acer-SB220Q-Ultra-Thin-Frame-Monitor/dp/B07CVL2D2S/ref=zg_bs_electronics_25?_encoding=UTF8&psc=1&refRID=S4RV0K4TPXNG0VJEVQDH', 'product_id': 'B07CVL2D2S'}, {'url': 'https://www.amazon.com/Roku-Streaming-Player-Premium-Headphones/dp/B07WVF9SL5/ref=zg_bs_electronics_14?_encoding=UTF8&psc=1&refRID=S4RV0K4TPXNG0VJEVQDH', 'product_id': 'B07WVF9SL5'}, {'url': 'https://www.amazon.com/Apple-TV-32GB-4th-generation/dp/B075NFX24M/ref=zg_bs_electronics_47?_encoding=UTF8&psc=1&refRID=S4RV0K4TPXNG0VJEVQDH', 'product_id': 'B075NFX24M'}, {'url': 'https://www.amazon.com/OHill-Organizer-Management-Organizing-Adhesive/dp/B071FXZBMV/ref=zg_bs_electronics_33?_encoding=UTF8&psc=1&refRID=S4RV0K4TPXNG0VJEVQDH', 'product_id': 'B071FXZBMV'}, {'url': 'https://www.amazon.com/Fire-TV-Stick-4K-with-Alexa-Voice-Remote/dp/B079QHML21/ref=zg_bs_electronics_2?_encoding=UTF8&psc=1&refRID=S4RV0K4TPXNG0VJEVQDH', 'product_id': 'B079QHML21'}, {'url': 'https://www.amazon.com/Ring-8AB1S7-0EU0-Rechargeable-Battery-Pack/dp/B076JKHDQT/ref=zg_bs_electronics_27?_encoding=UTF8&psc=1&refRID=S4RV0K4TPXNG0VJEVQDH', 'product_id': 'B076JKHDQT'}, {'url': 'https://www.amazon.com/Echo-Show-8/dp/B07PF1Y28C/ref=zg_bs_electronics_22?_encoding=UTF8&psc=1&refRID=S4RV0K4TPXNG0VJEVQDH', 'product_id': 'B07PF1Y28C'}, {'url': 'https://www.amazon.com/Fire-HD-10-Kids-Edition/dp/B07KD7K4B1/ref=zg_bs_electronics_37?_encoding=UTF8&psc=1&refRID=S4RV0K4TPXNG0VJEVQDH', 'product_id': 'B07KD7K4B1'}, {'url': 'https://www.amazon.com/Introducing-Echo-Show-Compact-Charcoal/dp/B07HZLHPKP/ref=zg_bs_electronics_20?_encoding=UTF8&psc=1&refRID=S4RV0K4TPXNG0VJEVQDH', 'product_id': 'B07HZLHPKP'}, {'url': 'https://www.amazon.com/Nintendo-Console-Resolution-802-11ac-Surround/dp/B07RGFF98S/ref=zg_bs_electronics_44?_encoding=UTF8&psc=1&refRID=S4RV0K4TPXNG0VJEVQDH', 'product_id': 'B07RGFF98S'}, {'url': 'https://www.amazon.com/Kindle-Paperwhite-Waterproof-Unlimited-auto-renewal/dp/B07PP49ZDW/ref=zg_bs_electronics_13?_encoding=UTF8&psc=1&refRID=S4RV0K4TPXNG0VJEVQDH', 'product_id': 'B07PP49ZDW'}, {'url': 'https://www.amazon.com/TP-Link-AC1200-Smart-WiFi-Router/dp/B07N1L5HX1/ref=zg_bs_electronics_49?_encoding=UTF8&psc=1&refRID=S4RV0K4TPXNG0VJEVQDH', 'product_id': 'B07N1L5HX1'}, {'url': 'https://www.amazon.com/Apple-Watch-GPS-38mm-Space-Aluminium/dp/B07K39FRSL/ref=zg_bs_electronics_16?_encoding=UTF8&psc=1&refRID=S4RV0K4TPXNG0VJEVQDH', 'product_id': 'B07K39FRSL'}, {'url': 'https://www.amazon.com/Acer-Display-Graphics-Keyboard-A515-43-R19L/dp/B07RF1XD36/ref=zg_bs_electronics_28?_encoding=UTF8&psc=1&refRID=S4RV0K4TPXNG0VJEVQDH', 'product_id': 'B07RF1XD36'}, {'url': 'https://www.amazon.com/NETGEAR-R6700-Nighthawk-Gigabit-Ethernet/dp/B00R2AZLD2/ref=zg_bs_electronics_43?_encoding=UTF8&psc=1&refRID=S4RV0K4TPXNG0VJEVQDH', 'product_id': 'B00R2AZLD2'}, {'url': 'https://www.amazon.com/Gskyer-Telescope-AZ-Astronomical-Refracting/dp/B081RJ8DW1/ref=zg_bs_electronics_38?_encoding=UTF8&psc=1&refRID=S4RV0K4TPXNG0VJEVQDH', 'product_id': 'B081RJ8DW1'}, {'url': 'https://www.amazon.com/Raceway-Management-Channel-Paintable-Concealer/dp/B07GPFDL1K/ref=zg_bs_electronics_50?_encoding=UTF8&psc=1&refRID=S4RV0K4TPXNG0VJEVQDH', 'product_id': 'B07GPFDL1K'}, {'url': 'https://www.amazon.com/Sceptre-E248W-19203R-Monitor-Speakers-Metallic/dp/B0773ZY26F/ref=zg_bs_electronics_46?_encoding=UTF8&psc=1&refRID=S4RV0K4TPXNG0VJEVQDH', 'product_id': 'B0773ZY26F'}, {'url': 'https://www.amazon.com/Roku-Express-Streaming-Media-Player/dp/B07WVFCVJN/ref=zg_bs_electronics_7?_encoding=UTF8&psc=1&refRID=S4RV0K4TPXNG0VJEVQDH', 'product_id': 'B07WVFCVJN'}, {'url': 'https://www.amazon.com/Echo-Dot/dp/B07FZ8S74R/ref=zg_bs_electronics_1?_encoding=UTF8&psc=1&refRID=S4RV0K4TPXNG0VJEVQDH', 'product_id': 'B07FZ8S74R'}, {'url': 'https://www.amazon.com/All-New-Fire-HD-8-Tablet/dp/B07TMJ1R3X/ref=zg_bs_electronics_6?_encoding=UTF8&psc=1&refRID=S4RV0K4TPXNG0VJEVQDH', 'product_id': 'B07TMJ1R3X'}, {'url': 'https://www.amazon.com/Insignia-NS-24DF311SE21-24-inch-Smart-HD/dp/B0874Y42B7/ref=zg_bs_electronics_32?_encoding=UTF8&psc=1&refRID=S4RV0K4TPXNG0VJEVQDH', 'product_id': 'B0874Y42B7'}, {'url': 'https://www.amazon.com/Fire-Tablet-7/dp/B07FKR6KXF/ref=zg_bs_electronics_3?_encoding=UTF8&psc=1&refRID=S4RV0K4TPXNG0VJEVQDH', 'product_id': 'B07FKR6KXF'}, {'url': 'https://www.amazon.com/ODODOS-Control-Workout-Running-Leggings/dp/B07KVNCKXY/ref=zg_bs_fashion_45?_encoding=UTF8&psc=1&refRID=ETG055FRXADG96H4BBDY', 'product_id': 'B07KVNCKXY'}, {'url': 'https://www.amazon.com/MERRYS-Polarized-Aluminum-Sunglasses-Vintage/dp/B01MQ08MTS/ref=zg_bs_fashion_15?_encoding=UTF8&psc=1&refRID=ETG055FRXADG96H4BBDY', 'product_id': 'B01MQ08MTS'}, {'url': 'https://www.amazon.com/Champion-Short-Pockets-Athletic-Small/dp/B000J6ZYL0/ref=zg_bs_fashion_18?_encoding=UTF8&psc=1&refRID=ETG055FRXADG96H4BBDY', 'product_id': 'B000J6ZYL0'}, {'url': 'https://www.amazon.com/FAYBOX-Wicking-Headbands-Headwear-Motorcycling/dp/B07TB33P1J/ref=zg_bs_fashion_44?_encoding=UTF8&psc=1&refRID=ETG055FRXADG96H4BBDY', 'product_id': 'B07TB33P1J'}, {'url': 'https://www.amazon.com/adidas-Adilette-Shower-Slide-Sandal/dp/B07S8KY8Z4/ref=zg_bs_fashion_16?_encoding=UTF8&psc=1&refRID=ETG055FRXADG96H4BBDY', 'product_id': 'B07S8KY8Z4'}, {'url': 'https://www.amazon.com/Crocs-Classic-Comfortable-Casual-cantaloupe/dp/B07S854C5B/ref=zg_bs_fashion_6?_encoding=UTF8&psc=1&refRID=ETG055FRXADG96H4BBDY', 'product_id': 'B07S854C5B'}, {'url': 'https://www.amazon.com/iHeartRaves-Skeleton-Multi-functional-Seamless-Bandana/dp/B015YGSG0U/ref=zg_bs_fashion_3?_encoding=UTF8&psc=1&refRID=ETG055FRXADG96H4BBDY', 'product_id': 'B015YGSG0U'}, {'url': 'https://www.amazon.com/Lemedy-Padded-Fitness-Workout-Running/dp/B07TSCZ7XQ/ref=zg_bs_fashion_13?_encoding=UTF8&psc=1&refRID=ETG055FRXADG96H4BBDY', 'product_id': 'B07TSCZ7XQ'}, {'url': 'https://www.amazon.com/Under-Armour-Shorts-Graphite-X-Small/dp/B017HTKLFU/ref=zg_bs_fashion_40?_encoding=UTF8&psc=1&refRID=ETG055FRXADG96H4BBDY', 'product_id': 'B017HTKLFU'}, {'url': 'https://www.amazon.com/INTO-AM-Europa-Seamless-Bandana/dp/B01DUTYGXE/ref=zg_bs_fashion_5?_encoding=UTF8&psc=1&refRID=ETG055FRXADG96H4BBDY', 'product_id': 'B01DUTYGXE'}, {'url': 'https://www.amazon.com/Under-Armour-Sleeve-T-Shirt-Baroque/dp/B07YXLFYQ3/ref=zg_bs_fashion_14?_encoding=UTF8&psc=1&refRID=ETG055FRXADG96H4BBDY', 'product_id': 'B07YXLFYQ3'}, {'url': 'https://www.amazon.com/ODODOS-Control-Workout-Athletic-See-Through/dp/B07KVXBFZL/ref=zg_bs_fashion_29?_encoding=UTF8&psc=1&refRID=ETG055FRXADG96H4BBDY', 'product_id': 'B07KVXBFZL'}, {'url': 'https://www.amazon.com/YunJey-sleeve-triple-stripe-T-shirt/dp/B074T31XSC/ref=zg_bs_fashion_48?_encoding=UTF8&psc=1&refRID=ETG055FRXADG96H4BBDY', 'product_id': 'B074T31XSC'}, {'url': 'https://www.amazon.com/Gildan-Ultra-Cotton-Black-Small/dp/B01LZ2WFDA/ref=zg_bs_fashion_26?_encoding=UTF8&psc=1&refRID=ETG055FRXADG96H4BBDY', 'product_id': 'B01LZ2WFDA'}, {'url': 'https://www.amazon.com/Viishow-Printed-Dresses-Pockets-Wine/dp/B07PNGB9H3/ref=zg_bs_fashion_17?_encoding=UTF8&psc=1&refRID=ETG055FRXADG96H4BBDY', 'product_id': 'B07PNGB9H3'}, {'url': 'https://www.amazon.com/hiitave-Water-Non-Slip-Barefoot-Toddler/dp/B07WJK15X9/ref=zg_bs_fashion_12?_encoding=UTF8&psc=1&refRID=ETG055FRXADG96H4BBDY', 'product_id': 'B07WJK15X9'}, {'url': 'https://www.amazon.com/Under-Armour-Running-Anthracite-Reflective/dp/B07PT8SB9Z/ref=zg_bs_fashion_41?_encoding=UTF8&psc=1&refRID=ETG055FRXADG96H4BBDY', 'product_id': 'B07PT8SB9Z'}, {'url': 'https://www.amazon.com/Fruit-Loom-T-Shirt-Multipack-Assorted/dp/B07BBJKPLZ/ref=zg_bs_fashion_35?_encoding=UTF8&psc=1&refRID=ETG055FRXADG96H4BBDY', 'product_id': 'B07BBJKPLZ'}, {'url': 'https://www.amazon.com/Leggings-Depot-JGA128-BLACK-SMALL/dp/B07B8V774Y/ref=zg_bs_fashion_47?_encoding=UTF8&psc=1&refRID=ETG055FRXADG96H4BBDY', 'product_id': 'B07B8V774Y'}, {'url': 'https://www.amazon.com/Mission-Cooling-Gaiter-Wears-Charcoal/dp/B087D8RBJ1/ref=zg_bs_fashion_20?_encoding=UTF8&psc=1&refRID=ETG055FRXADG96H4BBDY', 'product_id': 'B087D8RBJ1'}, {'url': 'https://www.amazon.com/Womens-V-Neck-Short-Sleeve-Shirt/dp/B079JY5N8W/ref=zg_bs_fashion_21?_encoding=UTF8&psc=1&refRID=ETG055FRXADG96H4BBDY', 'product_id': 'B079JY5N8W'}, {'url': 'https://www.amazon.com/VIFUUR-Water-Sports-Unisex-Shoes/dp/B0859X2PMF/ref=zg_bs_fashion_2?_encoding=UTF8&psc=1&refRID=ETG055FRXADG96H4BBDY', 'product_id': 'B0859X2PMF'}, {'url': 'https://www.amazon.com/FUNKYMONKEY-Waterproof-Adjustable-Sandals-Flipflops/dp/B07X9STSZR/ref=zg_bs_fashion_30?_encoding=UTF8&psc=1&refRID=ETG055FRXADG96H4BBDY', 'product_id': 'B07X9STSZR'}, {'url': 'https://www.amazon.com/Birkenstock-Unisex-Arizona-Essentials-Sandals/dp/B00LFCGHWM/ref=zg_bs_fashion_38?_encoding=UTF8&psc=1&refRID=ETG055FRXADG96H4BBDY', 'product_id': 'B00LFCGHWM'}, {'url': 'https://www.amazon.com/Fruit-Loom-CoolZone-Briefs-Assorted/dp/B07P7FGBGB/ref=zg_bs_fashion_7?_encoding=UTF8&psc=1&refRID=ETG055FRXADG96H4BBDY', 'product_id': 'B07P7FGBGB'}, {'url': 'https://www.amazon.com/Comfort-Colors-Adult-Sleeve-1717/dp/B07M8YFH8V/ref=zg_bs_fashion_42?_encoding=UTF8&psc=1&refRID=ETG055FRXADG96H4BBDY', 'product_id': 'B07M8YFH8V'}, {'url': 'https://www.amazon.com/Kanu-Surf-Barracuda-Trunks-Small/dp/B004DNVP8G/ref=zg_bs_fashion_10?_encoding=UTF8&psc=1&refRID=ETG055FRXADG96H4BBDY', 'product_id': 'B004DNVP8G'}, {'url': 'https://www.amazon.com/Hanes-Womens-T-Shirt-Small-Black/dp/B00KRYLG7U/ref=zg_bs_fashion_46?_encoding=UTF8&psc=1&refRID=ETG055FRXADG96H4BBDY', 'product_id': 'B00KRYLG7U'}, {'url': 'https://www.amazon.com/Hanes-Mens-Sleeve-T-Shirt-X-Small/dp/B06ZZB5M4H/ref=zg_bs_fashion_24?_encoding=UTF8&psc=1&refRID=ETG055FRXADG96H4BBDY', 'product_id': 'B06ZZB5M4H'}, {'url': 'https://www.amazon.com/Summer-2-Pack-Face-Protection-Aerosols/dp/B088WS5WR7/ref=zg_bs_fashion_32?_encoding=UTF8&psc=1&refRID=ETG055FRXADG96H4BBDY', 'product_id': 'B088WS5WR7'}, {'url': 'https://www.amazon.com/MIHOLL-Womens-Summer-Casual-Sleeve/dp/B07N4P8VM9/ref=zg_bs_fashion_33?_encoding=UTF8&psc=1&refRID=ETG055FRXADG96H4BBDY', 'product_id': 'B07N4P8VM9'}, {'url': 'https://www.amazon.com/LOLONG-Bandana-Stylish-Gaiters-Motorcycle/dp/B08772WJHX/ref=zg_bs_fashion_34?_encoding=UTF8&psc=1&refRID=ETG055FRXADG96H4BBDY', 'product_id': 'B08772WJHX'}, {'url': 'https://www.amazon.com/Next-Level-Apparel-Womens-Racerback/dp/B01A4C7BVO/ref=zg_bs_fashion_28?_encoding=UTF8&psc=1&refRID=ETG055FRXADG96H4BBDY', 'product_id': 'B01A4C7BVO'}, {'url': 'https://www.amazon.com/Under-Armour-Graphic-Shorts-Graphite/dp/B072J36KT1/ref=zg_bs_fashion_39?_encoding=UTF8&psc=1&refRID=ETG055FRXADG96H4BBDY', 'product_id': 'B072J36KT1'}, {'url': 'https://www.amazon.com/Dockers-Mens-Classic-Fit-Perfect-Short-Cotton/dp/B009CTUHOY/ref=zg_bs_fashion_22?_encoding=UTF8&psc=1&refRID=ETG055FRXADG96H4BBDY', 'product_id': 'B009CTUHOY'}, {'url': 'https://www.amazon.com/Womens-Water-Barefoot-Quick-Dry-Exercise/dp/B079LZVWX7/ref=zg_bs_fashion_19?_encoding=UTF8&psc=1&refRID=ETG055FRXADG96H4BBDY', 'product_id': 'B079LZVWX7'}, {'url': 'https://www.amazon.com/SUNGAIT-Vintage-Sunglasses-Classic-Designer/dp/B06XNWW2L1/ref=zg_bs_fashion_31?_encoding=UTF8&psc=1&refRID=ETG055FRXADG96H4BBDY', 'product_id': 'B06XNWW2L1'}, {'url': 'https://www.amazon.com/Levis-Bandanas-100-Cotton-Headband/dp/B009YQX1SO/ref=zg_bs_fashion_36?_encoding=UTF8&psc=1&refRID=ETG055FRXADG96H4BBDY', 'product_id': 'B009YQX1SO'}, {'url': 'https://www.amazon.com/Gildan-G2000-Cotton-T-Shirt-2-Pack/dp/B07611Y7NN/ref=zg_bs_fashion_43?_encoding=UTF8&psc=1&refRID=ETG055FRXADG96H4BBDY', 'product_id': 'B07611Y7NN'}, {'url': 'https://www.amazon.com/SOJOS-Polarized-Sunglasses-Polygon-Mirrored/dp/B078JCZ7MX/ref=zg_bs_fashion_27?_encoding=UTF8&psc=1&refRID=ETG055FRXADG96H4BBDY', 'product_id': 'B078JCZ7MX'}, {'url': 'https://www.amazon.com/Dickies-Multi-Pack-Dri-tech-Moisture-Control/dp/B01LWAEPR5/ref=zg_bs_fashion_23?_encoding=UTF8&psc=1&refRID=ETG055FRXADG96H4BBDY', 'product_id': 'B01LWAEPR5'}, {'url': 'https://www.amazon.com/Achiou-Protection-Lightweight-Breathable-All-terrain/dp/B08773DM4H/ref=zg_bs_fashion_4?_encoding=UTF8&psc=1&refRID=ETG055FRXADG96H4BBDY', 'product_id': 'B08773DM4H'}, {'url': 'https://www.amazon.com/Hanes-Comfortsoft-T-Shirt-Black-Small/dp/B00KBZOR94/ref=zg_bs_fashion_25?_encoding=UTF8&psc=1&refRID=ETG055FRXADG96H4BBDY', 'product_id': 'B00KBZOR94'}, {'url': 'https://www.amazon.com/MIRITY-Women-Racerback-Sports-Bras/dp/B07M893LY6/ref=zg_bs_fashion_37?_encoding=UTF8&psc=1&refRID=ETG055FRXADG96H4BBDY', 'product_id': 'B07M893LY6'}, {'url': 'https://www.amazon.com/Womens-Sleeve-Shirts-Summer-Blouses/dp/B08661QD1N/ref=zg_bs_fashion_8?_encoding=UTF8&psc=1&refRID=ETG055FRXADG96H4BBDY', 'product_id': 'B08661QD1N'}, {'url': 'https://www.amazon.com/Balaclava-Bandana-Headwear-Cooling-Outdoors/dp/B087YZTJF8/ref=zg_bs_fashion_11?_encoding=UTF8&psc=1&refRID=ETG055FRXADG96H4BBDY', 'product_id': 'B087YZTJF8'}, {'url': 'https://www.amazon.com/Baleaf-Womens-Workout-Control-Pockets/dp/B07LF27WBQ/ref=zg_bs_fashion_1?_encoding=UTF8&psc=1&refRID=ETG055FRXADG96H4BBDY', 'product_id': 'B07LF27WBQ'}, {'url': 'https://www.amazon.com/Under-Armour-Locker-Sandal-Metallic/dp/B01GSWXE6A/ref=zg_bs_fashion_50?_encoding=UTF8&psc=1&refRID=ETG055FRXADG96H4BBDY', 'product_id': 'B01GSWXE6A'}, {'url': 'https://www.amazon.com/Toddler-Non-Slip-Barefoot-Aqua-Socks-Boys-Girls-Toddler/dp/B07DDG2R7M/ref=zg_bs_fashion_49?_encoding=UTF8&psc=1&refRID=ETG055FRXADG96H4BBDY', 'product_id': 'B07DDG2R7M'}, {'url': 'https://www.amazon.com/Carhartt-Workwear-Pocket-Short-Sleeve-T-Shirt/dp/B0007XB2Y8/ref=zg_bs_fashion_9?_encoding=UTF8&psc=1&refRID=ETG055FRXADG96H4BBDY', 'product_id': 'B0007XB2Y8'}]\n"
     ]
    }
   ],
   "source": [
    "print(all_product_links)"
   ]
  },
  {
   "cell_type": "code",
   "execution_count": null,
   "metadata": {},
   "outputs": [],
   "source": [
    "def scrape_product_page(url, title_lookup = '#productTitle', price_lookup = '#priceblock_ourprice'):\n",
    "    driver.get(url)\n",
    "    time.sleep(1.2)\n",
    "    body_el = driver.find_element_by_css_selector('body')\n",
    "    html_str = body_el.get_attribute('innerHTML')\n",
    "    html_obj = HTML(html=html_str)\n",
    "    product_title = html_obj.find(title_lookup, first=True).text\n",
    "    product_price = html_obj.find(price_lookup, first=True).text\n",
    "    return product_title, product_price\n"
   ]
  },
  {
   "cell_type": "code",
   "execution_count": null,
   "metadata": {},
   "outputs": [],
   "source": [
    "first_product_link = page_links[0]\n",
    "first_product_link"
   ]
  },
  {
   "cell_type": "code",
   "execution_count": null,
   "metadata": {},
   "outputs": [],
   "source": []
  },
  {
   "cell_type": "code",
   "execution_count": null,
   "metadata": {},
   "outputs": [],
   "source": [
    "# https://www.amazon.ca/TP-Link-Extender-Intelligent-Indicator-RE450/dp/B010S6SG3S/ref=zg_bs_electronics_11/135-2776524-4703011?_encoding=UTF8&psc=1&refRID=PZSK781X651YAS3CFZFS\n",
    "\n",
    "# <base-url>/<slug>/<product_id>/"
   ]
  },
  {
   "cell_type": "code",
   "execution_count": null,
   "metadata": {},
   "outputs": [],
   "source": [
    "# my_regex_pattern = r\"https://www.amazon.com/(?P<slug>[\\w-]+)/dp/(?P<product_id>[\\w-]+)/\"\n",
    "# my_url = 'https://www.amazon.com/Crayola-Washable-Watercolors-8-ea/dp/B000HHKAE2/'"
   ]
  },
  {
   "cell_type": "code",
   "execution_count": null,
   "metadata": {},
   "outputs": [],
   "source": [
    "# regex = re.compile(my_regex_pattern)"
   ]
  },
  {
   "cell_type": "code",
   "execution_count": null,
   "metadata": {},
   "outputs": [],
   "source": [
    "# my_match = regex.match(my_url)"
   ]
  },
  {
   "cell_type": "code",
   "execution_count": null,
   "metadata": {},
   "outputs": [],
   "source": [
    "# print(my_match)\n",
    "# my_match['product_id']"
   ]
  },
  {
   "cell_type": "code",
   "execution_count": null,
   "metadata": {},
   "outputs": [],
   "source": [
    "# my_match['slug']"
   ]
  },
  {
   "cell_type": "code",
   "execution_count": null,
   "metadata": {},
   "outputs": [],
   "source": []
  },
  {
   "cell_type": "code",
   "execution_count": null,
   "metadata": {},
   "outputs": [],
   "source": [
    "# final_page_links = [x for x in page_links if extract_product_id_from_url(x) != None]    ### list comprehension\n",
    "\n",
    "cleaned_links = clean_page_links(page_links)"
   ]
  },
  {
   "cell_type": "code",
   "execution_count": null,
   "metadata": {},
   "outputs": [],
   "source": [
    "len(page_links) == len(cleaned_links)"
   ]
  },
  {
   "cell_type": "code",
   "execution_count": null,
   "metadata": {},
   "outputs": [],
   "source": []
  },
  {
   "cell_type": "code",
   "execution_count": null,
   "metadata": {},
   "outputs": [],
   "source": [
    "def perform_scrape(cleaned_items=[]):\n",
    "    data_extracted = []\n",
    "    for obj in cleaned_items:\n",
    "        link = obj['url']\n",
    "        product_id = obj['product_id']\n",
    "        title, price = (None, None)\n",
    "        try:\n",
    "            title, price = scrape_product_page(link)\n",
    "        except:\n",
    "            pass\n",
    "        if title != None and price != None:\n",
    "            print(link, title, price)\n",
    "        product_data = {\n",
    "            'url': link,\n",
    "            'product_id': product_id,\n",
    "            'title': title,\n",
    "            'price': price\n",
    "        }\n",
    "        data_extracted.append(product_data)\n",
    "        return data_extracted"
   ]
  },
  {
   "cell_type": "code",
   "execution_count": null,
   "metadata": {},
   "outputs": [],
   "source": [
    "len(page_links)"
   ]
  },
  {
   "cell_type": "code",
   "execution_count": null,
   "metadata": {},
   "outputs": [],
   "source": [
    "len(cleaned_links)"
   ]
  },
  {
   "cell_type": "code",
   "execution_count": null,
   "metadata": {},
   "outputs": [],
   "source": [
    "extracted_data = perform_scrape(cleaned_items=cleaned_links)"
   ]
  },
  {
   "cell_type": "code",
   "execution_count": null,
   "metadata": {},
   "outputs": [],
   "source": [
    "print(extracted_data)"
   ]
  },
  {
   "cell_type": "code",
   "execution_count": null,
   "metadata": {},
   "outputs": [],
   "source": []
  }
 ],
 "metadata": {
  "kernelspec": {
   "display_name": "Python 3",
   "language": "python",
   "name": "python3"
  },
  "language_info": {
   "codemirror_mode": {
    "name": "ipython",
    "version": 3
   },
   "file_extension": ".py",
   "mimetype": "text/x-python",
   "name": "python",
   "nbconvert_exporter": "python",
   "pygments_lexer": "ipython3",
   "version": "3.7.7"
  }
 },
 "nbformat": 4,
 "nbformat_minor": 4
}
