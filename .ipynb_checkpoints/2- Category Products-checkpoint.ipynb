{
 "cells": [
  {
   "cell_type": "code",
   "execution_count": 20,
   "metadata": {},
   "outputs": [],
   "source": [
    "import requests\n",
    "import time\n",
    "from requests_html import HTML\n",
    "from selenium import webdriver\n",
    "from selenium.webdriver.chrome.options import Options"
   ]
  },
  {
   "cell_type": "code",
   "execution_count": 3,
   "metadata": {},
   "outputs": [],
   "source": [
    "options = Options()\n",
    "options.add_argument('--headless')\n",
    "\n",
    "driver = webdriver.Chrome(options=options)"
   ]
  },
  {
   "cell_type": "code",
   "execution_count": 6,
   "metadata": {},
   "outputs": [],
   "source": [
    "categories = [\n",
    "    'https://www.amazon.ca/Best-Sellers-Music/zgbs/music/',\n",
    "    'https://www.amazon.ca/Best-Sellers-DVD/zgbs/dvd/',\n",
    "    'https://www.amazon.ca/Best-Sellers-Electronics/zgbs/electronics/'\n",
    "]"
   ]
  },
  {
   "cell_type": "code",
   "execution_count": 7,
   "metadata": {},
   "outputs": [
    {
     "data": {
      "text/plain": [
       "['https://www.amazon.ca/Best-Sellers-Music/zgbs/music/',\n",
       " 'https://www.amazon.ca/Best-Sellers-DVD/zgbs/dvd/',\n",
       " 'https://www.amazon.ca/Best-Sellers-Electronics/zgbs/electronics/']"
      ]
     },
     "execution_count": 7,
     "metadata": {},
     "output_type": "execute_result"
    }
   ],
   "source": [
    "categories"
   ]
  },
  {
   "cell_type": "code",
   "execution_count": 8,
   "metadata": {},
   "outputs": [],
   "source": [
    "first_url = categories[0]"
   ]
  },
  {
   "cell_type": "code",
   "execution_count": 9,
   "metadata": {},
   "outputs": [],
   "source": [
    "driver.get(first_url)"
   ]
  },
  {
   "cell_type": "code",
   "execution_count": 10,
   "metadata": {},
   "outputs": [],
   "source": [
    "body_el = driver.find_element_by_css_selector('body')\n",
    "html_str = body_el.get_attribute('innerHTML')"
   ]
  },
  {
   "cell_type": "code",
   "execution_count": 11,
   "metadata": {},
   "outputs": [],
   "source": [
    "html_obj = HTML(html=html_str)"
   ]
  },
  {
   "cell_type": "code",
   "execution_count": 13,
   "metadata": {},
   "outputs": [],
   "source": [
    "new_links = [x for x in html_obj.links if x.startswith('/')]\n",
    "new_links = [x for x in new_links if 'product-reviews/' not in x]"
   ]
  },
  {
   "cell_type": "code",
   "execution_count": 16,
   "metadata": {},
   "outputs": [],
   "source": [
    "page_links = [f'https://www.amazon.ca{x}' for x in new_links]"
   ]
  },
  {
   "cell_type": "code",
   "execution_count": 17,
   "metadata": {},
   "outputs": [
    {
     "data": {
      "text/plain": [
       "['https://www.amazon.ca/dp/B07MJM4F44?_encoding=UTF8&plattr=CACBCCFOOT&ref_=nav_cbcc_ca_footer',\n",
       " 'https://www.amazon.ca/Homegrown-Neil-Young/dp/B0864GHVS3/ref=zg_bs_music_2/130-6649992-4350356?_encoding=UTF8&psc=1&refRID=9215GAPKPRAYY28TJ4HF',\n",
       " 'https://www.amazon.ca/Map-Soul-7-Bts/dp/B0833VRHN3/ref=zg_bs_music_17/130-6649992-4350356?_encoding=UTF8&psc=1&refRID=9215GAPKPRAYY28TJ4HF',\n",
       " 'https://www.amazon.ca/Nct-127-Neo-Zone-Repackage/dp/B087SGC7FW/ref=zg_bs_music_26/130-6649992-4350356?_encoding=UTF8&psc=1&refRID=9215GAPKPRAYY28TJ4HF',\n",
       " 'https://www.amazon.ca/gp/prime?ie=UTF8&ref_=footer_prime',\n",
       " 'https://www.amazon.ca/gp/css/returns/homepage.html?ie=UTF8&ref_=footer_hy_f_4',\n",
       " 'https://www.amazon.ca/Closer-Anniversary-Limited-Crystal-Clear/dp/B0888Z6JJ8/ref=zg_bs_music_36/130-6649992-4350356?_encoding=UTF8&psc=1&refRID=9215GAPKPRAYY28TJ4HF',\n",
       " 'https://www.amazon.ca/product-reviews/B000W00Y0Y/ref=zg_bs_music_cr_40/130-6649992-4350356?ie=UTF8&refRID=9215GAPKPRAYY28TJ4HF',\n",
       " 'https://www.amazon.ca/Essential-Johnny-Cash-Vinyl/dp/B01AEOM7DE/ref=zg_bs_music_38/130-6649992-4350356?_encoding=UTF8&psc=1&refRID=9215GAPKPRAYY28TJ4HF',\n",
       " 'https://www.amazon.ca/Igor-Vinyl-Creator-Tyler/dp/B07T6S1CC1/ref=zg_bs_music_9/130-6649992-4350356?_encoding=UTF8&psc=1&refRID=9215GAPKPRAYY28TJ4HF',\n",
       " 'https://www.amazon.ca/Take-Care-LP-Drake/dp/B005PTNVM0/ref=zg_bs_music_21/130-6649992-4350356?_encoding=UTF8&psc=1&refRID=9215GAPKPRAYY28TJ4HF',\n",
       " 'https://www.amazon.ca/b?ie=UTF8&node=8438004011&ref_=footer_tfx_ca_en',\n",
       " 'https://www.amazon.ca/b?ie=UTF8&node=16055944011&ref_=gno_p_foot',\n",
       " 'https://www.amazon.ca/gp/yourstore?ref_=nav_AccountFlyout_recs',\n",
       " 'https://www.amazon.ca/clouddrive?ref_=nav_AccountFlyout_clddrv',\n",
       " 'https://www.amazon.ca/books-used-books-textbooks/b/?ie=UTF8&node=916520&ref_=nav_cs_books',\n",
       " 'https://www.amazon.ca/gp/digital/fiona/manage?ref_=nav_AccountFlyout_myk',\n",
       " 'https://www.amazon.ca/Monovision-Ray-Lamontagne/dp/B088JC7Z1N/ref=zg_bs_music_37/130-6649992-4350356?_encoding=UTF8&psc=1&refRID=9215GAPKPRAYY28TJ4HF',\n",
       " 'https://www.amazon.ca/Paranoid-Gram-Vinyl-Black-Sabbath/dp/B01H2ROWBG/ref=zg_bs_music_28/130-6649992-4350356?_encoding=UTF8&psc=1&refRID=9215GAPKPRAYY28TJ4HF',\n",
       " 'https://www.amazon.ca/product-reviews/B07629RLTC/ref=zg_bs_music_cr_42/130-6649992-4350356?ie=UTF8&refRID=9215GAPKPRAYY28TJ4HF',\n",
       " 'https://www.amazon.ca/product-reviews/B071F4NBMJ/ref=zg_bs_music_cr_46/130-6649992-4350356?ie=UTF8&refRID=9215GAPKPRAYY28TJ4HF',\n",
       " 'https://www.amazon.ca/product-reviews/B00JSRXE3G/ref=zg_bs_music_cr_30/130-6649992-4350356?ie=UTF8&refRID=9215GAPKPRAYY28TJ4HF',\n",
       " 'https://www.amazon.ca/gp/css/homepage.html?ref_=nav_AccountFlyout_ya',\n",
       " 'https://www.amazon.ca/Back-Black-AC-DC/dp/B000089RV6/ref=zg_bs_music_8/130-6649992-4350356?_encoding=UTF8&psc=1&refRID=9215GAPKPRAYY28TJ4HF',\n",
       " 'https://www.amazon.ca/Rough-Rowdy-Ways-Bob-Dylan/dp/B0884BK38T/ref=zg_bs_music_1/130-6649992-4350356?_encoding=UTF8&psc=1&refRID=9215GAPKPRAYY28TJ4HF',\n",
       " 'https://www.amazon.ca/Sounds-Summer-Very-Best-Beach/dp/B000093BDX/ref=zg_bs_music_31/130-6649992-4350356?_encoding=UTF8&psc=1&refRID=9215GAPKPRAYY28TJ4HF',\n",
       " 'https://www.amazon.ca/b/?node=12218500011&ref_=nav_cs_coupons',\n",
       " 'https://www.amazon.ca/product-reviews/B0000088DC/ref=zg_bs_music_cr_39/130-6649992-4350356?ie=UTF8&refRID=9215GAPKPRAYY28TJ4HF',\n",
       " 'https://www.amazon.ca/gp/yourstore/pym/ref=pd_pyml_rhf/130-6649992-4350356',\n",
       " 'https://www.amazon.ca/product-reviews/B0833VRHN3/ref=zg_bs_music_cr_17/130-6649992-4350356?ie=UTF8&refRID=9215GAPKPRAYY28TJ4HF',\n",
       " 'https://www.amazon.ca/product-reviews/B000093BDX/ref=zg_bs_music_cr_31/130-6649992-4350356?ie=UTF8&refRID=9215GAPKPRAYY28TJ4HF',\n",
       " 'https://www.amazon.ca/gp/digital/fiona/manage?ie=UTF8&ref_=footer_myk',\n",
       " 'https://www.amazon.ca/product-reviews/B000089RV6/ref=zg_bs_music_cr_8/130-6649992-4350356?ie=UTF8&refRID=9215GAPKPRAYY28TJ4HF',\n",
       " 'https://www.amazon.ca/Hamilton-Original-Broadway-Cast-Recording/dp/B013JLBPGE/ref=zg_bs_music_7/130-6649992-4350356?_encoding=UTF8&psc=1&refRID=9215GAPKPRAYY28TJ4HF',\n",
       " 'https://www.amazon.ca/BOB-WAILERS-MARLEY/dp/B000V7J82S/ref=zg_bs_music_15/130-6649992-4350356?_encoding=UTF8&psc=1&refRID=9215GAPKPRAYY28TJ4HF',\n",
       " 'https://www.amazon.ca/gp/help/customer/display.html?ie=UTF8&nodeId=918814&ref_=footer_privacy',\n",
       " 'https://www.amazon.ca/Ordinary-Man-Ozzy-Osbourne/dp/B083PKY8JF/ref=zg_bs_music_19/130-6649992-4350356?_encoding=UTF8&psc=1&refRID=9215GAPKPRAYY28TJ4HF',\n",
       " 'https://www.amazon.ca/product-reviews/B000RL2208/ref=zg_bs_music_cr_14/130-6649992-4350356?ie=UTF8&refRID=9215GAPKPRAYY28TJ4HF',\n",
       " 'https://www.amazon.ca/Guardians-Galaxy-Motion-Picture-Deluxe/dp/B00LICGSFU/ref=zg_bs_music_27/130-6649992-4350356?_encoding=UTF8&psc=1&refRID=9215GAPKPRAYY28TJ4HF',\n",
       " 'https://www.amazon.ca/gcx/-/gfhz/?_encoding=UTF8&ref_=nav_wishlist_gf',\n",
       " 'https://www.amazon.ca/product-reviews/B001RNO30W/ref=zg_bs_music_cr_4/130-6649992-4350356?ie=UTF8&refRID=9215GAPKPRAYY28TJ4HF',\n",
       " 'https://www.amazon.ca/product-reviews/B085DTFTMF/ref=zg_bs_music_cr_23/130-6649992-4350356?ie=UTF8&refRID=9215GAPKPRAYY28TJ4HF',\n",
       " 'https://www.amazon.ca/gp/shopwithpoints/marketing.html?ie=UTF-8&inc=swpamexcamr&pr=swpamexcamr&ref_=footer_swp',\n",
       " 'https://www.amazon.ca/gp/browse.html?node=9230166011&ref_=nav_cs_gc',\n",
       " 'https://www.amazon.ca/Various-Artists/dp/B07Y9BGZ54/ref=zg_bs_music_45/130-6649992-4350356?_encoding=UTF8&psc=1&refRID=9215GAPKPRAYY28TJ4HF',\n",
       " 'https://www.amazon.ca/product-reviews/B07Y9BGZ54/ref=zg_bs_music_cr_45/130-6649992-4350356?ie=UTF8&refRID=9215GAPKPRAYY28TJ4HF',\n",
       " 'https://www.amazon.ca/Legend-30th-Anniversary-Tricolor-Vinyl/dp/B00K6D20SG/ref=zg_bs_music_49/130-6649992-4350356?_encoding=UTF8&psc=1&refRID=9215GAPKPRAYY28TJ4HF',\n",
       " 'https://www.amazon.ca/Computers-Accessories/b/?ie=UTF8&node=2404990011&ref_=nav_cs_pc',\n",
       " 'https://www.amazon.ca/product-reviews/B084DGWQ2J/ref=zg_bs_music_cr_11/130-6649992-4350356?ie=UTF8&refRID=9215GAPKPRAYY28TJ4HF',\n",
       " 'https://www.amazon.ca/product-reviews/B0857BHKPW/ref=zg_bs_music_cr_20/130-6649992-4350356?ie=UTF8&refRID=9215GAPKPRAYY28TJ4HF',\n",
       " 'https://www.amazon.ca/gp/help/customer/display.html?ie=UTF8&nodeId=508510&ref_=footer_gw_m_b_he',\n",
       " 'https://www.amazon.ca/Sigh-More-Vinyl-Mumford-Sons/dp/B003KZZ49E/ref=zg_bs_music_41/130-6649992-4350356?_encoding=UTF8&psc=1&refRID=9215GAPKPRAYY28TJ4HF',\n",
       " 'https://www.amazon.ca/baby-reg/homepage?ref_=nav_ListFlyout_gno_listpop_br',\n",
       " 'https://www.amazon.ca/hz5/yourmembershipsandsubscriptions?ref_=nav_AccountFlyout_digital_subscriptions',\n",
       " 'https://www.amazon.ca/Styles-Music/b/?ie=UTF8&node=962454&ref_=sv_m_7',\n",
       " 'https://www.amazon.ca/Vinyl-Records/b/?ie=UTF8&node=1292212011&ref_=sv_m_1',\n",
       " 'https://www.amazon.ca/Greatest-Showman-Original-Picture-Soundtrack/dp/B07629RLTC/ref=zg_bs_music_42/130-6649992-4350356?_encoding=UTF8&psc=1&refRID=9215GAPKPRAYY28TJ4HF',\n",
       " 'https://www.amazon.ca/?_encoding=UTF8&ref_=footer_logo',\n",
       " 'https://www.amazon.ca/Queen/dp/B000W00Y0Y/ref=zg_bs_music_40/130-6649992-4350356?_encoding=UTF8&psc=1&refRID=9215GAPKPRAYY28TJ4HF',\n",
       " 'https://www.amazon.ca/Lamb-God/dp/B084DGWQ2J/ref=zg_bs_music_11/130-6649992-4350356?_encoding=UTF8&psc=1&refRID=9215GAPKPRAYY28TJ4HF',\n",
       " 'https://www.amazon.ca/product-reviews/B07T6S1CC1/ref=zg_bs_music_cr_9/130-6649992-4350356?ie=UTF8&refRID=9215GAPKPRAYY28TJ4HF',\n",
       " 'https://www.amazon.ca/product-reviews/B083PKY8JF/ref=zg_bs_music_cr_19/130-6649992-4350356?ie=UTF8&refRID=9215GAPKPRAYY28TJ4HF',\n",
       " 'https://www.amazon.ca/Women-Music-Pt-Iii-Vinyl/dp/B0858TVHNG/ref=zg_bs_music_44/130-6649992-4350356?_encoding=UTF8&psc=1&refRID=9215GAPKPRAYY28TJ4HF',\n",
       " 'https://www.amazon.ca/Guardians-Galaxy-Vol-2LP-Deluxe/dp/B071F4NBMJ/ref=zg_bs_music_46/130-6649992-4350356?_encoding=UTF8&psc=1&refRID=9215GAPKPRAYY28TJ4HF',\n",
       " 'https://www.amazon.ca/product-reviews/B0833VRR3T/ref=zg_bs_music_cr_47/130-6649992-4350356?ie=UTF8&refRID=9215GAPKPRAYY28TJ4HF',\n",
       " 'https://www.amazon.ca/gp/customer-preferences/select-language/ref=footer_lang_t1?ie=UTF8&preferencesReturnUrl=%2FBest-Sellers-Music%2Fzgbs%2Fmusic%2F',\n",
       " 'https://www.amazon.ca/gp/help/customer/display.html?ie=UTF8&nodeId=GDFU3JS5AL6SYHRD&ref_=footer_covid',\n",
       " 'https://www.amazon.ca/b/?_encoding=UTF8&ld=AZCASOA-footer&node=15664730011&ref_=footer_sell',\n",
       " 'https://www.amazon.ca/Canadian-Music/b/?ie=UTF8&node=13779501&ref_=sv_m_5',\n",
       " 'https://www.amazon.ca/Music-Deals-CD/b/?ie=UTF8&node=236416011&ref_=sv_m_2',\n",
       " 'https://www.amazon.ca/gp/help/customer/display.html?ie=UTF8&nodeId=915470&ref_=footer_shiprates',\n",
       " 'https://www.amazon.ca/gp/navigation-country/select-country/ref=footer_icp_cp_t1?ie=UTF8&preferencesReturnUrl=%2FBest-Sellers-Music%2Fzgbs%2Fmusic%2F',\n",
       " 'https://www.amazon.ca/wishlist/universal?ref_=nav_ListFlyout_gno_listpop_uwl',\n",
       " 'https://www.amazon.ca/product-reviews/B013JLBPGE/ref=zg_bs_music_cr_7/130-6649992-4350356?ie=UTF8&refRID=9215GAPKPRAYY28TJ4HF',\n",
       " 'https://www.amazon.ca/Doctor-Zhivago-Anniversary-Anniversaire-Bilingual/dp/B00392FO5C/ref=zg_bs_music_48/130-6649992-4350356?_encoding=UTF8&psc=1&refRID=9215GAPKPRAYY28TJ4HF',\n",
       " 'https://www.amazon.ca/Nevermind-Vinyl-Nirvana/dp/B0000088DC/ref=zg_bs_music_39/130-6649992-4350356?_encoding=UTF8&psc=1&refRID=9215GAPKPRAYY28TJ4HF',\n",
       " 'https://www.amazon.ca/Best-Sellers-generic/zgbs/?ref_=nav_cs_bestsellers',\n",
       " 'https://www.amazon.ca/gp/help/customer/display.html?ie=UTF8&nodeId=202146130&ref_=footer_iba',\n",
       " 'https://www.amazon.ca/gp/navigation/redirector.html/ref=sign-in-redirect?ie=UTF8&associationHandle=caflex&currentPageURL=https%3A%2F%2Fwww.amazon.ca%2FBest-Sellers-Music%2Fzgbs%2Fmusic%2F%3Fref_%3Dnav_custrec_signin&pageType=zeitgeist&switchAccount=&yshURL=https%3A%2F%2Fwww.amazon.ca%2Fgp%2Fyourstore%2Fhome%3Fie%3DUTF8%26ref_%3Dnav_custrec_signin',\n",
       " 'https://www.amazon.ca/gp/browse.html?node=2206275011&ref_=nav_cs_home',\n",
       " 'https://www.amazon.ca/product-reviews/B00006JIA4/ref=zg_bs_music_cr_16/130-6649992-4350356?ie=UTF8&refRID=9215GAPKPRAYY28TJ4HF',\n",
       " 'https://www.amazon.ca/product-reviews/B06ZY1VXRB/ref=zg_bs_music_cr_6/130-6649992-4350356?ie=UTF8&refRID=9215GAPKPRAYY28TJ4HF',\n",
       " 'https://www.amazon.ca/WHEN-FALL-ASLEEP-WHERE-Yellow/dp/B07N3RG76T/ref=zg_bs_music_22/130-6649992-4350356?_encoding=UTF8&psc=1&refRID=9215GAPKPRAYY28TJ4HF',\n",
       " 'https://www.amazon.ca/dp/B07MJM4F44?plattr=CACBCCNAVACC&ref_=nav_cbcc_ca_account',\n",
       " 'https://www.amazon.ca/b/?node=15664730011&ld=AZCASOA-sell&ref_=nav_cs_sell',\n",
       " 'https://www.amazon.ca/product-reviews/B000ASDF6S/ref=zg_bs_music_cr_25/130-6649992-4350356?ie=UTF8&refRID=9215GAPKPRAYY28TJ4HF',\n",
       " 'https://www.amazon.ca/Diamonds-2LP-Vinyl-Elton-John/dp/B075VWFYFS/ref=zg_bs_music_18/130-6649992-4350356?_encoding=UTF8&psc=1&refRID=9215GAPKPRAYY28TJ4HF',\n",
       " 'https://www.amazon.ca/musique-cd-francophone-classique-occasion/b/?ie=UTF8&node=962500&ref_=sv_m_9',\n",
       " 'https://www.amazon.ca/product-reviews/B0007TKHRA/ref=zg_bs_music_cr_12/130-6649992-4350356?ie=UTF8&refRID=9215GAPKPRAYY28TJ4HF',\n",
       " 'https://www.amazon.ca/product-reviews/B004OKFISQ/ref=zg_bs_music_cr_5/130-6649992-4350356?ie=UTF8&refRID=9215GAPKPRAYY28TJ4HF',\n",
       " 'https://www.amazon.ca/gp/bestsellers/music/?ie=UTF8&ref_=sv_m_4',\n",
       " 'https://www.amazon.ca/Post-Malone/dp/B085DTFTMF/ref=zg_bs_music_23/130-6649992-4350356?_encoding=UTF8&psc=1&refRID=9215GAPKPRAYY28TJ4HF',\n",
       " 'https://www.amazon.ca/b?ie=UTF8&node=16055945011&ref_=ca_footer_drive',\n",
       " 'https://www.amazon.ca/gp/css/order-history?ref_=nav_orders_first',\n",
       " 'https://www.amazon.ca/product-reviews/B0884BK38T/ref=zg_bs_music_cr_1/130-6649992-4350356?ie=UTF8&refRID=9215GAPKPRAYY28TJ4HF',\n",
       " 'https://www.amazon.ca/discover',\n",
       " 'https://www.amazon.ca/Wolastoqiyik-Lintuwakonawa-Jeremy-Dutcher/dp/B079ZQZPQN/ref=zg_bs_music_32/130-6649992-4350356?_encoding=UTF8&psc=1&refRID=9215GAPKPRAYY28TJ4HF',\n",
       " 'https://www.amazon.ca/product-reviews/B07F99WH5Y/ref=zg_bs_music_cr_33/130-6649992-4350356?ie=UTF8&refRID=9215GAPKPRAYY28TJ4HF',\n",
       " 'https://www.amazon.ca/gp/video/ssoredirect?pvp=/ref%3Dnav_youraccount_apv&ref_=nav_AccountFlyout__apv',\n",
       " 'https://www.amazon.ca/gp/help/customer/display.html?ref_=nav_cs_help',\n",
       " 'https://www.amazon.ca/gp/subscribe-and-save/manager/viewsubscriptions?ref_=nav_AccountFlyout_sns',\n",
       " 'https://www.amazon.ca/ref=nav_logo',\n",
       " 'https://www.amazon.ca/Love-Yourself-Answer-Bts/dp/B07F99WH5Y/ref=zg_bs_music_33/130-6649992-4350356?_encoding=UTF8&psc=1&refRID=9215GAPKPRAYY28TJ4HF',\n",
       " 'https://www.amazon.ca/gp/mas/your-account/myapps?ref_=nav_AccountFlyout_aad',\n",
       " 'https://www.amazon.ca/prime?ref_=nav_prime_try_btn',\n",
       " 'https://www.amazon.ca/product-reviews/B00392FO5C/ref=zg_bs_music_cr_48/130-6649992-4350356?ie=UTF8&refRID=9215GAPKPRAYY28TJ4HF',\n",
       " 'https://www.amazon.ca/b?ie=UTF8&node=8929975011&ref_=footer_warehouse_deals',\n",
       " 'https://www.amazon.ca/Yer-Favourites-2CD-Tragically-Hip/dp/B000ASDF6S/ref=zg_bs_music_25/130-6649992-4350356?_encoding=UTF8&psc=1&refRID=9215GAPKPRAYY28TJ4HF',\n",
       " 'https://www.amazon.ca/Back-Black-Vinyl-Amy-Winehouse/dp/B000RL2208/ref=zg_bs_music_14/130-6649992-4350356?_encoding=UTF8&psc=1&refRID=9215GAPKPRAYY28TJ4HF',\n",
       " 'https://www.amazon.ca/amazonsecondchance?_encoding=UTF8&ref_=footer_asc',\n",
       " 'https://www.amazon.ca/Classical-Music/b/?ie=UTF8&node=962464&ref_=sv_m_6',\n",
       " 'https://www.amazon.ca/product-reviews/B0864GHVS3/ref=zg_bs_music_cr_2/130-6649992-4350356?ie=UTF8&refRID=9215GAPKPRAYY28TJ4HF',\n",
       " 'https://www.amazon.ca/gp/help/customer/display.html?ie=UTF8&nodeId=918816&ref_=footer_cou',\n",
       " 'https://www.amazon.ca/gp/help/customer/display.html?ie=UTF8&nodeId=200700220&ref_=footer_corpres',\n",
       " 'https://www.amazon.ca/gp/registry/wishlist?triggerElementID=createList&ref_=nav_ListFlyout_gno_createwl',\n",
       " 'https://www.amazon.ca/gp/primecentral?ref_=nav_AccountFlyout_prime',\n",
       " 'https://www.amazon.ca/Best-Sellers-Music/zgbs/music/uedata/unsticky/130-6649992-4350356/zeitgeist/ntpoffrw?tepes=1&id=9215GAPKPRAYY28TJ4HF',\n",
       " 'https://www.amazon.ca/Whoosh-Deep-Purple/dp/B0857C18JQ/ref=zg_bs_music_50/130-6649992-4350356?_encoding=UTF8&psc=1&refRID=9215GAPKPRAYY28TJ4HF',\n",
       " 'https://www.amazon.ca/gp/prime/ref=nav_prime_ajax_err/130-6649992-4350356',\n",
       " 'https://www.amazon.ca/gp/new-releases/?ref_=nav_cs_newreleases',\n",
       " 'https://www.amazon.ca/Corb-Lund/dp/B084DGFV95/ref=zg_bs_music_29/130-6649992-4350356?_encoding=UTF8&psc=1&refRID=9215GAPKPRAYY28TJ4HF',\n",
       " 'https://www.amazon.ca/b/?_encoding=UTF8&ld=AZCAHND-footer&node=16927192011&ref_=footer_sell',\n",
       " 'https://www.amazon.ca/product-reviews/B079ZQZPQN/ref=zg_bs_music_cr_32/130-6649992-4350356?ie=UTF8&refRID=9215GAPKPRAYY28TJ4HF',\n",
       " 'https://www.amazon.ca/gp/registry/search.html?type=wishlist&ref_=nav_ListFlyout_gno_listpop_find',\n",
       " 'https://www.amazon.ca/product-reviews/B01DB0EBMS/ref=zg_bs_music_cr_13/130-6649992-4350356?ie=UTF8&refRID=9215GAPKPRAYY28TJ4HF',\n",
       " 'https://www.amazon.ca/gp/gc/create?ie=UTF8&ref_=footer_reload_ca',\n",
       " 'https://www.amazon.ca/product-reviews/B07ZWBNZR4/ref=zg_bs_music_cr_3/130-6649992-4350356?ie=UTF8&refRID=9215GAPKPRAYY28TJ4HF',\n",
       " 'https://www.amazon.ca/First-Rose-Spring-Willie-Nelson/dp/B084WMZ48M/ref=zg_bs_music_10/130-6649992-4350356?_encoding=UTF8&psc=1&refRID=9215GAPKPRAYY28TJ4HF',\n",
       " 'https://www.amazon.ca/American-Standard-James-Taylor/dp/B0833VRR3T/ref=zg_bs_music_47/130-6649992-4350356?_encoding=UTF8&psc=1&refRID=9215GAPKPRAYY28TJ4HF',\n",
       " 'https://www.amazon.ca/gp/browse.html?node=18993177011&ref_=nav_AccountFlyout_b2b_reg',\n",
       " 'https://www.amazon.ca/product-reviews/B087SGC7FW/ref=zg_bs_music_cr_26/130-6649992-4350356?ie=UTF8&refRID=9215GAPKPRAYY28TJ4HF',\n",
       " 'https://www.amazon.ca/product-reviews/B005PTNVM0/ref=zg_bs_music_cr_21/130-6649992-4350356?ie=UTF8&refRID=9215GAPKPRAYY28TJ4HF',\n",
       " 'https://www.amazon.ca/gp/browse.html?node=19700946011&ref_=nav_cs_registry',\n",
       " 'https://www.amazon.ca/gp/customer-preferences/select-language/ref=topnav_lang_t1?preferencesReturnUrl=%2FBest-Sellers-Music%2Fzgbs%2Fmusic%2F',\n",
       " 'https://www.amazon.ca/Rumours-Vinyl-Fleetwood-Mac/dp/B004OKFISQ/ref=zg_bs_music_5/130-6649992-4350356?_encoding=UTF8&psc=1&refRID=9215GAPKPRAYY28TJ4HF',\n",
       " 'https://www.amazon.ca/gp/yourstore/recs/?ie=UTF8&ie=UTF8&nodeID=916514&rGroup=music&ref_=sv_m_8',\n",
       " 'https://www.amazon.ca/Harry-Styles-Vinyl/dp/B06ZY1VXRB/ref=zg_bs_music_6/130-6649992-4350356?_encoding=UTF8&psc=1&refRID=9215GAPKPRAYY28TJ4HF',\n",
       " 'https://www.amazon.ca/gp/css/order-history?ref_=nav_AccountFlyout_orders',\n",
       " 'https://www.amazon.ca/product-reviews/B00U1Z5NAQ/ref=zg_bs_music_cr_43/130-6649992-4350356?ie=UTF8&refRID=9215GAPKPRAYY28TJ4HF',\n",
       " 'https://www.amazon.ca/product-reviews/B01H2ROWBG/ref=zg_bs_music_cr_28/130-6649992-4350356?ie=UTF8&refRID=9215GAPKPRAYY28TJ4HF',\n",
       " 'https://www.amazon.ca/product-reviews/B01LTHN0DG/ref=zg_bs_music_cr_24/130-6649992-4350356?ie=UTF8&refRID=9215GAPKPRAYY28TJ4HF',\n",
       " 'https://www.amazon.ca/Electronics-Accessories/b/?ie=UTF8&node=667823011&ref_=nav_cs_electronics',\n",
       " 'https://www.amazon.ca/gcx/-/gfhz/?ref_=nav_cs_giftfinder',\n",
       " 'https://www.amazon.ca/Chromatica-Lady-Gaga/dp/B0857BHKPW/ref=zg_bs_music_20/130-6649992-4350356?_encoding=UTF8&psc=1&refRID=9215GAPKPRAYY28TJ4HF',\n",
       " 'https://www.amazon.ca/Fine-Line-Vinyl-Harry-Styles/dp/B07ZWBNZR4/ref=zg_bs_music_3/130-6649992-4350356?_encoding=UTF8&psc=1&refRID=9215GAPKPRAYY28TJ4HF',\n",
       " 'https://www.amazon.ca/Disneys-Lullaby-Album-Vol-2/dp/B0007TKHRA/ref=zg_bs_music_12/130-6649992-4350356?_encoding=UTF8&psc=1&refRID=9215GAPKPRAYY28TJ4HF',\n",
       " 'https://www.amazon.ca/showroom?ref_=nav_ListFlyout_srm_your_desk_wl_ca',\n",
       " 'https://www.amazon.ca/Queen-Greatest-Hits-Platinum-Collection/dp/B00006JIA4/ref=zg_bs_music_16/130-6649992-4350356?_encoding=UTF8&psc=1&refRID=9215GAPKPRAYY28TJ4HF',\n",
       " 'https://www.amazon.ca/product-reviews/B075VWFYFS/ref=zg_bs_music_cr_18/130-6649992-4350356?ie=UTF8&refRID=9215GAPKPRAYY28TJ4HF',\n",
       " 'https://www.amazon.ca/b/?_encoding=UTF8&node=10184139011&ref_=nav_swm_EGG_GW_desk_SWM&pf_rd_p=293dee8f-f906-4013-9413-bd7f775bf81f&pf_rd_s=nav-sitewide-msg&pf_rd_t=4201&pf_rd_i=navbar-4201&pf_rd_m=A2EUQ1WTGCTBG2&pf_rd_r=9215GAPKPRAYY28TJ4HF',\n",
       " 'https://www.amazon.ca/b?ie=UTF8&node=17351028011&ref_=footer_carenew',\n",
       " 'https://www.amazon.ca/Pink-Floyd/dp/B01LTHN0DG/ref=zg_bs_music_24/130-6649992-4350356?_encoding=UTF8&psc=1&refRID=9215GAPKPRAYY28TJ4HF',\n",
       " 'https://www.amazon.ca/Gold-Greatest-Hits-2LP-Vinyl/dp/B00JSRXE3G/ref=zg_bs_music_30/130-6649992-4350356?_encoding=UTF8&psc=1&refRID=9215GAPKPRAYY28TJ4HF',\n",
       " 'https://www.amazon.ca/product-reviews/B07N3RG76T/ref=zg_bs_music_cr_22/130-6649992-4350356?ie=UTF8&refRID=9215GAPKPRAYY28TJ4HF',\n",
       " 'https://www.amazon.ca/wedding/home?ref_=nav_ListFlyout_wr',\n",
       " 'https://www.amazon.ca/product-reviews/B00008BXJG/ref=zg_bs_music_cr_34/130-6649992-4350356?ie=UTF8&refRID=9215GAPKPRAYY28TJ4HF',\n",
       " 'https://www.amazon.ca/New-Future-Releases-Music/b/?ie=UTF8&node=1003050&ref_=sv_m_3',\n",
       " 'https://www.amazon.ca/Pet-Sounds-Anniversary-Stereo-Vinyl/dp/B01DB0EBMS/ref=zg_bs_music_13/130-6649992-4350356?_encoding=UTF8&psc=1&refRID=9215GAPKPRAYY28TJ4HF',\n",
       " 'https://www.amazon.ca/gp/goldbox?ref_=nav_cs_gb',\n",
       " 'https://www.amazon.ca/FEA-Eagles-Hotel-California-Black/dp/B001RNO2ZI/ref=zg_bs_music_4/130-6649992-4350356?_encoding=UTF8&psc=1&refRID=9215GAPKPRAYY28TJ4HF',\n",
       " 'https://www.amazon.ca/product-reviews/B00K6D20SG/ref=zg_bs_music_cr_49/130-6649992-4350356?ie=UTF8&refRID=9215GAPKPRAYY28TJ4HF',\n",
       " 'https://www.amazon.ca/gift-cards-store/b?ie=UTF8&node=9230166011&ref_=footer_gift_cards_ca_en',\n",
       " 'https://www.amazon.ca/b?ie=UTF8&node=17321486011&ref_=footer_cash_ca_en',\n",
       " 'https://www.amazon.ca/product-reviews/B00LICGSFU/ref=zg_bs_music_cr_27/130-6649992-4350356?ie=UTF8&refRID=9215GAPKPRAYY28TJ4HF',\n",
       " 'https://www.amazon.ca/music-rock-classical-pop-jazz/b/?ie=UTF8&node=916514&ref_=topnav_storetab_m',\n",
       " 'https://www.amazon.ca/Highway-Hell-Acdc/dp/B00008BXJG/ref=zg_bs_music_34/130-6649992-4350356?_encoding=UTF8&psc=1&refRID=9215GAPKPRAYY28TJ4HF',\n",
       " 'https://www.amazon.ca/product-reviews/B003KZZ49E/ref=zg_bs_music_cr_41/130-6649992-4350356?ie=UTF8&refRID=9215GAPKPRAYY28TJ4HF',\n",
       " 'https://www.amazon.ca/Ultimate-Sinatra-2LP-Vinyl-Frank/dp/B00U1Z5NAQ/ref=zg_bs_music_43/130-6649992-4350356?_encoding=UTF8&psc=1&refRID=9215GAPKPRAYY28TJ4HF',\n",
       " 'https://www.amazon.ca/product-reviews/B000V7J82S/ref=zg_bs_music_cr_15/130-6649992-4350356?ie=UTF8&refRID=9215GAPKPRAYY28TJ4HF',\n",
       " 'https://www.amazon.ca/Alanis-Morissette/dp/B084Z82DKW/ref=zg_bs_music_35/130-6649992-4350356?_encoding=UTF8&psc=1&refRID=9215GAPKPRAYY28TJ4HF',\n",
       " 'https://www.amazon.ca/product-reviews/B01AEOM7DE/ref=zg_bs_music_cr_38/130-6649992-4350356?ie=UTF8&refRID=9215GAPKPRAYY28TJ4HF',\n",
       " 'https://www.amazon.ca/prime/ref=nav_tooltip_redirect/130-6649992-4350356']"
      ]
     },
     "execution_count": 17,
     "metadata": {},
     "output_type": "execute_result"
    }
   ],
   "source": [
    "# page_links"
   ]
  },
  {
   "cell_type": "code",
   "execution_count": 21,
   "metadata": {},
   "outputs": [],
   "source": [
    "def scrape_product_page(url, title_lookup = '#productTitle', price_lookup = '#priceblock_ourprice'):\n",
    "    driver.get(url)\n",
    "    time.sleep(1.2)\n",
    "    body_el = driver.find_element_by_css_selector('body')\n",
    "    html_str = body_el.get_attribute('innerHTML')\n",
    "    html_obj = HTML(html=html_str)\n",
    "    product_title = html_obj.find(title_lookup, first=True).text\n",
    "    product_price = html_obj.find(price_lookup, first=True).text\n",
    "    return product_title, product_price\n"
   ]
  },
  {
   "cell_type": "code",
   "execution_count": 22,
   "metadata": {},
   "outputs": [
    {
     "data": {
      "text/plain": [
       "'https://www.amazon.ca/dp/B07MJM4F44?_encoding=UTF8&plattr=CACBCCFOOT&ref_=nav_cbcc_ca_footer'"
      ]
     },
     "execution_count": 22,
     "metadata": {},
     "output_type": "execute_result"
    }
   ],
   "source": [
    "first_product_link = page_links[0]\n",
    "first_product_link"
   ]
  },
  {
   "cell_type": "code",
   "execution_count": null,
   "metadata": {},
   "outputs": [],
   "source": [
    "for link in page_links:\n",
    "    title, price = (None, None)\n",
    "    try:\n",
    "        scrape_product_page(link)\n",
    "    except:\n",
    "        pass\n",
    "    if title != None and price != None:\n",
    "        print(link, title, price)"
   ]
  },
  {
   "cell_type": "code",
   "execution_count": null,
   "metadata": {},
   "outputs": [],
   "source": []
  }
 ],
 "metadata": {
  "kernelspec": {
   "display_name": "Python 3",
   "language": "python",
   "name": "python3"
  },
  "language_info": {
   "codemirror_mode": {
    "name": "ipython",
    "version": 3
   },
   "file_extension": ".py",
   "mimetype": "text/x-python",
   "name": "python",
   "nbconvert_exporter": "python",
   "pygments_lexer": "ipython3",
   "version": "3.7.7"
  }
 },
 "nbformat": 4,
 "nbformat_minor": 4
}
