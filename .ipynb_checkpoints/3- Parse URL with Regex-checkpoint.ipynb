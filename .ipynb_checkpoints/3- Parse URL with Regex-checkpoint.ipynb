{
 "cells": [
  {
   "cell_type": "code",
   "execution_count": 27,
   "metadata": {},
   "outputs": [],
   "source": [
    "from pathlib import Path\n",
    "import re\n",
    "import requests\n",
    "import time\n",
    "import datetime\n",
    "\n",
    "import pandas as pd\n",
    "from requests_html import HTML\n",
    "from selenium import webdriver\n",
    "from selenium.webdriver.chrome.options import Options"
   ]
  },
  {
   "cell_type": "code",
   "execution_count": 13,
   "metadata": {},
   "outputs": [],
   "source": [
    "BASE_DIR = Path.cwd()\n",
    "DATA_DIR = BASE_DIR / 'data' # os.path.join(BASE_DIR, 'data')\n",
    "if not DATA_DIR.exists(): #os.path.exists(DATA_DIR)\n",
    "    DATA_DIR.mkdir(exist_ok=True) #os.makedirs(DATA_DIR, exist_ok=True)\n",
    "\n",
    "product_category_links_output = DATA_DIR / 'category-products.csv'\n",
    "product_output = DATA_DIR / 'products.csv'\n"
   ]
  },
  {
   "cell_type": "code",
   "execution_count": 4,
   "metadata": {},
   "outputs": [],
   "source": [
    "options = Options()\n",
    "options.add_argument('--headless')\n",
    "\n",
    "driver = webdriver.Chrome(options=options)"
   ]
  },
  {
   "cell_type": "code",
   "execution_count": 5,
   "metadata": {},
   "outputs": [],
   "source": [
    "categories = [\n",
    "    {'name': 'toys-and-games', 'url':\"https://www.amazon.com/Best-Sellers-Toys-Games/zgbs/toys-and-games/\"},\n",
    "    {'name': 'electronics', 'url': \"https://www.amazon.com/Best-Sellers-Electronics/zgbs/electronics/\"},\n",
    "    {'name': 'fashion', 'url':\"https://www.amazon.com/Best-Sellers/zgbs/fashion/\"}\n",
    "]"
   ]
  },
  {
   "cell_type": "code",
   "execution_count": 6,
   "metadata": {},
   "outputs": [],
   "source": [
    "regex_options = [\n",
    "    r\"https://www.amazon.com/gp/product/(?P<product_id>[\\w-]+)/\",\n",
    "    r\"https://www.amazon.com/dp/(?P<product_id>[\\w-]+)/\",\n",
    "    r\"https://www.amazon.com/(?P<slug>[\\w-]+)/dp/(?P<product_id>[\\w-]+)/\",\n",
    "]\n",
    "\n",
    "def extract_product_id_from_url(url):\n",
    "    product_id = None\n",
    "    for regex_str in regex_options:\n",
    "        regex = re.compile(regex_str)\n",
    "        match = regex.match(url)\n",
    "        if match != None:\n",
    "            try:\n",
    "                product_id = match['product_id']\n",
    "            except:\n",
    "                pass\n",
    "    return product_id"
   ]
  },
  {
   "cell_type": "code",
   "execution_count": 29,
   "metadata": {},
   "outputs": [],
   "source": [
    "def clean_page_links(page_links=[], category=None):\n",
    "    final_page_links = []\n",
    "    for url in page_links:\n",
    "        product_id = extract_product_id_from_url(url)\n",
    "        if product_id != None:\n",
    "            final_page_links.append({\"url\": url, \"product_id\": product_id, \"category\": category})\n",
    "    return final_page_links"
   ]
  },
  {
   "cell_type": "code",
   "execution_count": 30,
   "metadata": {},
   "outputs": [],
   "source": [
    "def scrace_category_product_links(categories=[]):\n",
    "    all_product_links = []\n",
    "    for category in categories:\n",
    "        time.sleep(1.5)\n",
    "        url = category.get(\"url\")\n",
    "        driver.get(url)\n",
    "        body_el = driver.find_element_by_css_selector(\"body\")\n",
    "        html_str = body_el.get_attribute(\"innerHTML\")\n",
    "        html_obj = HTML(html=html_str)\n",
    "        page_links = [f\"https://www.amazon.com{x}\" for x in html_obj.links if x.startswith(\"/\")]\n",
    "        cleaned_links = clean_page_links(page_links=page_links, category=category)\n",
    "        all_product_links += cleaned_links\n",
    "    return all_product_links\n"
   ]
  },
  {
   "cell_type": "code",
   "execution_count": 31,
   "metadata": {},
   "outputs": [],
   "source": [
    "def extract_categories_and_save(categories=[]):\n",
    "    all_product_links = scrape_category_product_links(categories)\n",
    "    category_df = pd.DataFrame(all_product_links)\n",
    "    category_df.to_csv(product_category_links_output, index=False)\n",
    "    "
   ]
  },
  {
   "cell_type": "code",
   "execution_count": 32,
   "metadata": {},
   "outputs": [],
   "source": [
    "extract_categories_and_save(categories=categories)"
   ]
  },
  {
   "cell_type": "code",
   "execution_count": 10,
   "metadata": {},
   "outputs": [
    {
     "name": "stdout",
     "output_type": "stream",
     "text": [
      "[{'url': 'https://www.amazon.com/Crayola-Adult-Face-Mask-Reusable/dp/B08B2J4J46/ref=zg_bs_toys-and-games_3?_encoding=UTF8&psc=1&refRID=HERZ0C3GGF1W43NQ77QA', 'product_id': 'B08B2J4J46'}, {'url': 'https://www.amazon.com/Crayola-Shark-Coloring-Pages-Wonder/dp/B07PMLL5L7/ref=zg_bs_toys-and-games_38?_encoding=UTF8&psc=1&refRID=HERZ0C3GGF1W43NQ77QA', 'product_id': 'B07PMLL5L7'}, {'url': 'https://www.amazon.com/Cards-Against-Humanity-LLC-CAHUS/dp/B004S8F7QM/ref=zg_bs_toys-and-games_49?_encoding=UTF8&psc=1&refRID=HERZ0C3GGF1W43NQ77QA', 'product_id': 'B004S8F7QM'}, {'url': 'https://www.amazon.com/Elmers-Liquid-School-Washable-Ounces/dp/B072MHQZT1/ref=zg_bs_toys-and-games_31?_encoding=UTF8&psc=1&refRID=HERZ0C3GGF1W43NQ77QA', 'product_id': 'B072MHQZT1'}, {'url': 'https://www.amazon.com/Bobor-Trampoline-Sprinklers-Outdoor-Summer/dp/B07QZFS4CY/ref=zg_bs_toys-and-games_35?_encoding=UTF8&psc=1&refRID=HERZ0C3GGF1W43NQ77QA', 'product_id': 'B07QZFS4CY'}, {'url': 'https://www.amazon.com/Max-Liquidator-3-Pack-Water-Blaster/dp/B082FY363S/ref=zg_bs_toys-and-games_33?_encoding=UTF8&psc=1&refRID=HERZ0C3GGF1W43NQ77QA', 'product_id': 'B082FY363S'}, {'url': 'https://www.amazon.com/Klutz-LEGO-Chain-Reactions-Craft/dp/0545703301/ref=zg_bs_toys-and-games_23?_encoding=UTF8&psc=1&refRID=HERZ0C3GGF1W43NQ77QA', 'product_id': '0545703301'}, {'url': 'https://www.amazon.com/L-L-Surprise-Present-Surprises/dp/B085B23C3X/ref=zg_bs_toys-and-games_50?_encoding=UTF8&psc=1&refRID=HERZ0C3GGF1W43NQ77QA', 'product_id': 'B085B23C3X'}, {'url': 'https://www.amazon.com/Play-Doh-Modeling-Compound-Non-Toxic-Exclusive/dp/B00JM5GW10/ref=zg_bs_toys-and-games_6?_encoding=UTF8&psc=1&refRID=HERZ0C3GGF1W43NQ77QA', 'product_id': 'B00JM5GW10'}, {'url': 'https://www.amazon.com/SupMLC-Backpack-Holding-Children-Grocery/dp/B07PHCWJ9W/ref=zg_bs_toys-and-games_27?_encoding=UTF8&psc=1&refRID=HERZ0C3GGF1W43NQ77QA', 'product_id': 'B07PHCWJ9W'}, {'url': 'https://www.amazon.com/Creativity-Kids-Glow-Dark-Painting/dp/B07SXLYQ6S/ref=zg_bs_toys-and-games_11?_encoding=UTF8&psc=1&refRID=HERZ0C3GGF1W43NQ77QA', 'product_id': 'B07SXLYQ6S'}, {'url': 'https://www.amazon.com/Mattel-Games-Official-Amazon-Exclusive/dp/B07P6MZPK3/ref=zg_bs_toys-and-games_13?_encoding=UTF8&psc=1&refRID=HERZ0C3GGF1W43NQ77QA', 'product_id': 'B07P6MZPK3'}, {'url': 'https://www.amazon.com/Intex-Lounge-Swimming-Lounger-Headrest/dp/B00AY2KDS8/ref=zg_bs_toys-and-games_43?_encoding=UTF8&psc=1&refRID=HERZ0C3GGF1W43NQ77QA', 'product_id': 'B00AY2KDS8'}, {'url': 'https://www.amazon.com/Nuby-Floating-Purple-Octopus-Interactive/dp/B083ZZSGLR/ref=zg_bs_toys-and-games_14?_encoding=UTF8&psc=1&refRID=HERZ0C3GGF1W43NQ77QA', 'product_id': 'B083ZZSGLR'}, {'url': 'https://www.amazon.com/Regal-Games-Chalk-City-Washable/dp/B071CKSMS7/ref=zg_bs_toys-and-games_20?_encoding=UTF8&psc=1&refRID=HERZ0C3GGF1W43NQ77QA', 'product_id': 'B071CKSMS7'}, {'url': 'https://www.amazon.com/Jasonwell-Inflatable-Rideable-Swimming-Decorations/dp/B07BMM7JY8/ref=zg_bs_toys-and-games_46?_encoding=UTF8&psc=1&refRID=HERZ0C3GGF1W43NQ77QA', 'product_id': 'B07BMM7JY8'}, {'url': 'https://www.amazon.com/Darice-Solution-Top-Works-Machines-Birthdays/dp/B07RYBB4NZ/ref=zg_bs_toys-and-games_4?_encoding=UTF8&psc=1&refRID=HERZ0C3GGF1W43NQ77QA', 'product_id': 'B07RYBB4NZ'}, {'url': 'https://www.amazon.com/First-Years-Stack-Up-Cups/dp/B00005C5H4/ref=zg_bs_toys-and-games_12?_encoding=UTF8&psc=1&refRID=HERZ0C3GGF1W43NQ77QA', 'product_id': 'B00005C5H4'}, {'url': 'https://www.amazon.com/Barbie-FWV25-Travel-Doll/dp/B07GLMHSS8/ref=zg_bs_toys-and-games_30?_encoding=UTF8&psc=1&refRID=HERZ0C3GGF1W43NQ77QA', 'product_id': 'B07GLMHSS8'}, {'url': 'https://www.amazon.com/LeapFrog-80-609540-100-Animals-Book/dp/B085KTQKNC/ref=zg_bs_toys-and-games_7?_encoding=UTF8&psc=1&refRID=HERZ0C3GGF1W43NQ77QA', 'product_id': 'B085KTQKNC'}, {'url': 'https://www.amazon.com/Little-Tikes-First-Slide-Blue/dp/B008MH5H4M/ref=zg_bs_toys-and-games_45?_encoding=UTF8&psc=1&refRID=HERZ0C3GGF1W43NQ77QA', 'product_id': 'B008MH5H4M'}, {'url': 'https://www.amazon.com/LEGO-Classic-Green-Baseplate-Supplement/dp/B00NHQF65S/ref=zg_bs_toys-and-games_47?_encoding=UTF8&psc=1&refRID=HERZ0C3GGF1W43NQ77QA', 'product_id': 'B00NHQF65S'}, {'url': 'https://www.amazon.com/First-Princess-Make-Kit-Everything/dp/B07FPWYY79/ref=zg_bs_toys-and-games_25?_encoding=UTF8&psc=1&refRID=HERZ0C3GGF1W43NQ77QA', 'product_id': 'B07FPWYY79'}, {'url': 'https://www.amazon.com/SplashEZ-Sprinkler-Splash-Wading-Learning/dp/B07MNMT3M7/ref=zg_bs_toys-and-games_5?_encoding=UTF8&psc=1&refRID=HERZ0C3GGF1W43NQ77QA', 'product_id': 'B07MNMT3M7'}, {'url': 'https://www.amazon.com/Waterproof-Stickers-Luggage-Scrapbook-Postcard/dp/B07QR3NWGK/ref=zg_bs_toys-and-games_39?_encoding=UTF8&psc=1&refRID=HERZ0C3GGF1W43NQ77QA', 'product_id': 'B07QR3NWGK'}, {'url': 'https://www.amazon.com/Fix-Find-flexible-colorful-Noodles/dp/B004UHED0C/ref=zg_bs_toys-and-games_29?_encoding=UTF8&psc=1&refRID=HERZ0C3GGF1W43NQ77QA', 'product_id': 'B004UHED0C'}, {'url': 'https://www.amazon.com/Tara-Toys-Barbie-Necklace-Activity/dp/B07WWZBF5G/ref=zg_bs_toys-and-games_15?_encoding=UTF8&psc=1&refRID=HERZ0C3GGF1W43NQ77QA', 'product_id': 'B07WWZBF5G'}, {'url': 'https://www.amazon.com/L-L-Surprise-Surprises-Including/dp/B07XSPCBVP/ref=zg_bs_toys-and-games_18?_encoding=UTF8&psc=1&refRID=HERZ0C3GGF1W43NQ77QA', 'product_id': 'B07XSPCBVP'}, {'url': 'https://www.amazon.com/Outward-Hound-Stimulating-Interactive-Dispensing/dp/B087DMVC6J/ref=zg_bs_toys-and-games_16?_encoding=UTF8&psc=1&refRID=HERZ0C3GGF1W43NQ77QA', 'product_id': 'B087DMVC6J'}, {'url': 'https://www.amazon.com/FindUWill-Swimming-Multi-Purpose-Inflatable-Lightblue/dp/B083Q1TTBJ/ref=zg_bs_toys-and-games_9?_encoding=UTF8&psc=1&refRID=HERZ0C3GGF1W43NQ77QA', 'product_id': 'B083Q1TTBJ'}, {'url': 'https://www.amazon.com/HITOP-Blaster-Children-Swimming-Fighting/dp/B07R6GZQBV/ref=zg_bs_toys-and-games_17?_encoding=UTF8&psc=1&refRID=HERZ0C3GGF1W43NQ77QA', 'product_id': 'B07R6GZQBV'}, {'url': 'https://www.amazon.com/Spikeball-Ball-Kit-Playing-Drawstring/dp/B002V7A7MQ/ref=zg_bs_toys-and-games_41?_encoding=UTF8&psc=1&refRID=HERZ0C3GGF1W43NQ77QA', 'product_id': 'B002V7A7MQ'}, {'url': 'https://www.amazon.com/Transformers-TRA-EARTHRISE-EARTHMODE-Pack/dp/B07ZPL7DXZ/ref=zg_bs_toys-and-games_26?_encoding=UTF8&psc=1&refRID=HERZ0C3GGF1W43NQ77QA', 'product_id': 'B07ZPL7DXZ'}, {'url': 'https://www.amazon.com/Juego-conector-Hasbro-talla-Multicolor/dp/B00D8STBHY/ref=zg_bs_toys-and-games_32?_encoding=UTF8&psc=1&refRID=HERZ0C3GGF1W43NQ77QA', 'product_id': 'B00D8STBHY'}, {'url': 'https://www.amazon.com/Fisher-Price-Rattle-Rock-Maracas-Orange/dp/B071FLSWBS/ref=zg_bs_toys-and-games_22?_encoding=UTF8&psc=1&refRID=HERZ0C3GGF1W43NQ77QA', 'product_id': 'B071FLSWBS'}, {'url': 'https://www.amazon.com/Hasbro-B0965-Monopoly-Deal-Card/dp/B00NQQTZCO/ref=zg_bs_toys-and-games_44?_encoding=UTF8&psc=1&refRID=HERZ0C3GGF1W43NQ77QA', 'product_id': 'B00NQQTZCO'}, {'url': 'https://www.amazon.com/Homech-Inflatable-Swimming-Full-Sized-Toddlers/dp/B083PRCZDM/ref=zg_bs_toys-and-games_19?_encoding=UTF8&psc=1&refRID=HERZ0C3GGF1W43NQ77QA', 'product_id': 'B083PRCZDM'}, {'url': 'https://www.amazon.com/Bunch-Balloons-Pack-Amazon-Exclusive/dp/B07GW2QQWN/ref=zg_bs_toys-and-games_2?_encoding=UTF8&psc=1&refRID=HERZ0C3GGF1W43NQ77QA', 'product_id': 'B07GW2QQWN'}, {'url': 'https://www.amazon.com/ELONGDI-Rainbow-Growing-Sensory-Wedding/dp/B06XZNMMKC/ref=zg_bs_toys-and-games_24?_encoding=UTF8&psc=1&refRID=HERZ0C3GGF1W43NQ77QA', 'product_id': 'B06XZNMMKC'}, {'url': 'https://www.amazon.com/Crayola-Twistables-Classrooms-Preschools-Self-Sharpening/dp/B00062J99K/ref=zg_bs_toys-and-games_34?_encoding=UTF8&psc=1&refRID=HERZ0C3GGF1W43NQ77QA', 'product_id': 'B00062J99K'}, {'url': 'https://www.amazon.com/Disney-Classic-Characters-Matching-Game/dp/B007DW6F34/ref=zg_bs_toys-and-games_28?_encoding=UTF8&psc=1&refRID=HERZ0C3GGF1W43NQ77QA', 'product_id': 'B007DW6F34'}, {'url': 'https://www.amazon.com/Akaho-Inflatable-Swimming-Thickened-Blue-2Fly/dp/B089GQW4RJ/ref=zg_bs_toys-and-games_40?_encoding=UTF8&psc=1&refRID=HERZ0C3GGF1W43NQ77QA', 'product_id': 'B089GQW4RJ'}, {'url': 'https://www.amazon.com/First-Years-Disney-Mickey-Squirt/dp/B06Y1G2MH9/ref=zg_bs_toys-and-games_48?_encoding=UTF8&psc=1&refRID=HERZ0C3GGF1W43NQ77QA', 'product_id': 'B06Y1G2MH9'}, {'url': 'https://www.amazon.com/Exploding-Kittens-LLC-EKG-ORG1-1-Card/dp/B010TQY7A8/ref=zg_bs_toys-and-games_37?_encoding=UTF8&psc=1&refRID=HERZ0C3GGF1W43NQ77QA', 'product_id': 'B010TQY7A8'}, {'url': 'https://www.amazon.com/SwimWays-Noodle-Chair-Colors-Vary/dp/B019C2COVO/ref=zg_bs_toys-and-games_10?_encoding=UTF8&psc=1&refRID=HERZ0C3GGF1W43NQ77QA', 'product_id': 'B019C2COVO'}, {'url': 'https://www.amazon.com/Jenga-A2120EU4-Classic-Game/dp/B00ABA0ZOA/ref=zg_bs_toys-and-games_42?_encoding=UTF8&psc=1&refRID=HERZ0C3GGF1W43NQ77QA', 'product_id': 'B00ABA0ZOA'}, {'url': 'https://www.amazon.com/Winning-Hape-Dynamo-Wooden-Domino/dp/B00NU9VNDQ/ref=zg_bs_toys-and-games_36?_encoding=UTF8&psc=1&refRID=HERZ0C3GGF1W43NQ77QA', 'product_id': 'B00NU9VNDQ'}, {'url': 'https://www.amazon.com/Long-Lasting-Pre-Sharpened-Non-Toxic-Coloring-Gradation/dp/B0816T2XKL/ref=zg_bs_toys-and-games_8?_encoding=UTF8&psc=1&refRID=HERZ0C3GGF1W43NQ77QA', 'product_id': 'B0816T2XKL'}, {'url': 'https://www.amazon.com/Aqua-Monterey-Multi-Purpose-Inflatable-Portable/dp/B01CETEZ78/ref=zg_bs_toys-and-games_1?_encoding=UTF8&psc=1&refRID=HERZ0C3GGF1W43NQ77QA', 'product_id': 'B01CETEZ78'}, {'url': 'https://www.amazon.com/Obuby-Sprinkle-Sprinkler-Upgraded-Toddlers/dp/B085ZH5VGR/ref=zg_bs_toys-and-games_21?_encoding=UTF8&psc=1&refRID=HERZ0C3GGF1W43NQ77QA', 'product_id': 'B085ZH5VGR'}, {'url': 'https://www.amazon.com/GE-Outlet-Protector-Extension-14092/dp/B00DOMYL24/ref=zg_bs_electronics_24?_encoding=UTF8&psc=1&refRID=S4RV0K4TPXNG0VJEVQDH', 'product_id': 'B00DOMYL24'}, {'url': 'https://www.amazon.com/Roku-Streaming-Stick-HDR-Streaming-Long-range/dp/B075XLWML4/ref=zg_bs_electronics_8?_encoding=UTF8&psc=1&refRID=S4RV0K4TPXNG0VJEVQDH', 'product_id': 'B075XLWML4'}, {'url': 'https://www.amazon.com/Fire-TV-Stick-with-Alexa-Voice-Remote/dp/B0791TX5P5/ref=zg_bs_electronics_4?_encoding=UTF8&psc=1&refRID=S4RV0K4TPXNG0VJEVQDH', 'product_id': 'B0791TX5P5'}, {'url': 'https://www.amazon.com/all-new-Echo/dp/B07NFTVP7P/ref=zg_bs_electronics_26?_encoding=UTF8&psc=1&refRID=S4RV0K4TPXNG0VJEVQDH', 'product_id': 'B07NFTVP7P'}, {'url': 'https://www.amazon.com/Ring-Video-Doorbell/dp/B07WGJ8XWZ/ref=zg_bs_electronics_19?_encoding=UTF8&psc=1&refRID=S4RV0K4TPXNG0VJEVQDH', 'product_id': 'B07WGJ8XWZ'}, {'url': 'https://www.amazon.com/Apple-Watch-GPS-42mm-Space-Aluminium/dp/B07K387Y7K/ref=zg_bs_electronics_35?_encoding=UTF8&psc=1&refRID=S4RV0K4TPXNG0VJEVQDH', 'product_id': 'B07K387Y7K'}, {'url': 'https://www.amazon.com/Fire-HD-10/dp/B07K1RZWMC/ref=zg_bs_electronics_5?_encoding=UTF8&psc=1&refRID=S4RV0K4TPXNG0VJEVQDH', 'product_id': 'B07K1RZWMC'}, {'url': 'https://www.amazon.com/Blink-Smart-Security-Camera/dp/B07MMZ2LTB/ref=zg_bs_electronics_17?_encoding=UTF8&psc=1&refRID=S4RV0K4TPXNG0VJEVQDH', 'product_id': 'B07MMZ2LTB'}, {'url': 'https://www.amazon.com/Wyze-1080p-Indoor-Camera-Vision/dp/B07DGR98VQ/ref=zg_bs_electronics_31?_encoding=UTF8&psc=1&refRID=S4RV0K4TPXNG0VJEVQDH', 'product_id': 'B07DGR98VQ'}, {'url': 'https://www.amazon.com/Echo-Dot/dp/B07N8RPRF7/ref=zg_bs_electronics_12?_encoding=UTF8&psc=1&refRID=S4RV0K4TPXNG0VJEVQDH', 'product_id': 'B07N8RPRF7'}, {'url': 'https://www.amazon.com/all-new-fire-tv-cube-with-alexa-voice-remote/dp/B07KGVB6D6/ref=zg_bs_electronics_40?_encoding=UTF8&psc=1&refRID=S4RV0K4TPXNG0VJEVQDH', 'product_id': 'B07KGVB6D6'}, {'url': 'https://www.amazon.com/Letsfit-Activity-Waterproof-Pedometer-Smartwatch/dp/B07X2KLTJ2/ref=zg_bs_electronics_45?_encoding=UTF8&psc=1&refRID=S4RV0K4TPXNG0VJEVQDH', 'product_id': 'B07X2KLTJ2'}, {'url': 'https://www.amazon.com/JBL-Bluetooth-Portable-Stereo-Speaker/dp/B01MSYQWNY/ref=zg_bs_electronics_39?_encoding=UTF8&psc=1&refRID=S4RV0K4TPXNG0VJEVQDH', 'product_id': 'B01MSYQWNY'}, {'url': 'https://www.amazon.com/AmazonBasics-6-Outlet-Protector-2-Pack-2-Foot/dp/B00TP1BWMK/ref=zg_bs_electronics_23?_encoding=UTF8&psc=1&refRID=S4RV0K4TPXNG0VJEVQDH', 'product_id': 'B00TP1BWMK'}, {'url': 'https://www.amazon.com/Blink-Mini-Indoor-Camera/dp/B07X6C9RMF/ref=zg_bs_electronics_29?_encoding=UTF8&psc=1&refRID=S4RV0K4TPXNG0VJEVQDH', 'product_id': 'B07X6C9RMF'}, {'url': 'https://www.amazon.com/All-New-Fire-HD-8-Kids-Edition-Tablet/dp/B07WDDT3G5/ref=zg_bs_electronics_10?_encoding=UTF8&psc=1&refRID=S4RV0K4TPXNG0VJEVQDH', 'product_id': 'B07WDDT3G5'}, {'url': 'https://www.amazon.com/Fire-7-Kids-Edition-Tablet/dp/B07H8WS1FT/ref=zg_bs_electronics_9?_encoding=UTF8&psc=1&refRID=S4RV0K4TPXNG0VJEVQDH', 'product_id': 'B07H8WS1FT'}, {'url': 'https://www.amazon.com/All-new-Ring-Stick-Up-Cam-Battery-HD-security-camera-with-two-way-talk-Works-with-Alexa-/dp/B07Q6ZZFLS/ref=zg_bs_electronics_48?_encoding=UTF8&psc=1&refRID=S4RV0K4TPXNG0VJEVQDH', 'product_id': 'B07Q6ZZFLS'}, {'url': 'https://www.amazon.com/amFilm-Tempered-Screen-Protector-Nintendo-Switch/dp/B01N3ASPNV/ref=zg_bs_electronics_36?_encoding=UTF8&psc=1&refRID=S4RV0K4TPXNG0VJEVQDH', 'product_id': 'B01N3ASPNV'}, {'url': 'https://www.amazon.com/Apple-Watch-GPS-38mm-Silver-Aluminium/dp/B07K37HKT8/ref=zg_bs_electronics_18?_encoding=UTF8&psc=1&refRID=S4RV0K4TPXNG0VJEVQDH', 'product_id': 'B07K37HKT8'}, {'url': 'https://www.amazon.com/Fujifilm-INSTAX-Instant-Twin-Pack/dp/B00EB4ADQW/ref=zg_bs_electronics_30?_encoding=UTF8&psc=1&refRID=S4RV0K4TPXNG0VJEVQDH', 'product_id': 'B00EB4ADQW'}, {'url': 'https://www.amazon.com/Introducing-Ring-Indoor-Cam-Compact-Plug-In-HD-security-camera-with-two-way-talk-White-Works-with-Alexa-/dp/B07Q9VBYV8/ref=zg_bs_electronics_41?_encoding=UTF8&psc=1&refRID=S4RV0K4TPXNG0VJEVQDH', 'product_id': 'B07Q9VBYV8'}, {'url': 'https://www.amazon.com/SanDisk-MicroSDXC-Nintendo-Switch-SDSQXAO-128G-GNCZN/dp/B07KXQX3S3/ref=zg_bs_electronics_42?_encoding=UTF8&psc=1&refRID=S4RV0K4TPXNG0VJEVQDH', 'product_id': 'B07KXQX3S3'}, {'url': 'https://www.amazon.com/Roku-Premiere-HDR-Streaming-Player-Premium/dp/B07HDBZN7Q/ref=zg_bs_electronics_21?_encoding=UTF8&psc=1&refRID=S4RV0K4TPXNG0VJEVQDH', 'product_id': 'B07HDBZN7Q'}, {'url': 'https://www.amazon.com/Fitbit-Fitness-Smartwatch-Tracking-Included/dp/B07TWFVDWT/ref=zg_bs_electronics_34?_encoding=UTF8&psc=1&refRID=S4RV0K4TPXNG0VJEVQDH', 'product_id': 'B07TWFVDWT'}, {'url': 'https://www.amazon.com/Acer-SB220Q-Ultra-Thin-Frame-Monitor/dp/B07CVL2D2S/ref=zg_bs_electronics_25?_encoding=UTF8&psc=1&refRID=S4RV0K4TPXNG0VJEVQDH', 'product_id': 'B07CVL2D2S'}, {'url': 'https://www.amazon.com/Roku-Streaming-Player-Premium-Headphones/dp/B07WVF9SL5/ref=zg_bs_electronics_14?_encoding=UTF8&psc=1&refRID=S4RV0K4TPXNG0VJEVQDH', 'product_id': 'B07WVF9SL5'}, {'url': 'https://www.amazon.com/Apple-TV-32GB-4th-generation/dp/B075NFX24M/ref=zg_bs_electronics_47?_encoding=UTF8&psc=1&refRID=S4RV0K4TPXNG0VJEVQDH', 'product_id': 'B075NFX24M'}, {'url': 'https://www.amazon.com/OHill-Organizer-Management-Organizing-Adhesive/dp/B071FXZBMV/ref=zg_bs_electronics_33?_encoding=UTF8&psc=1&refRID=S4RV0K4TPXNG0VJEVQDH', 'product_id': 'B071FXZBMV'}, {'url': 'https://www.amazon.com/Fire-TV-Stick-4K-with-Alexa-Voice-Remote/dp/B079QHML21/ref=zg_bs_electronics_2?_encoding=UTF8&psc=1&refRID=S4RV0K4TPXNG0VJEVQDH', 'product_id': 'B079QHML21'}, {'url': 'https://www.amazon.com/Ring-8AB1S7-0EU0-Rechargeable-Battery-Pack/dp/B076JKHDQT/ref=zg_bs_electronics_27?_encoding=UTF8&psc=1&refRID=S4RV0K4TPXNG0VJEVQDH', 'product_id': 'B076JKHDQT'}, {'url': 'https://www.amazon.com/Echo-Show-8/dp/B07PF1Y28C/ref=zg_bs_electronics_22?_encoding=UTF8&psc=1&refRID=S4RV0K4TPXNG0VJEVQDH', 'product_id': 'B07PF1Y28C'}, {'url': 'https://www.amazon.com/Fire-HD-10-Kids-Edition/dp/B07KD7K4B1/ref=zg_bs_electronics_37?_encoding=UTF8&psc=1&refRID=S4RV0K4TPXNG0VJEVQDH', 'product_id': 'B07KD7K4B1'}, {'url': 'https://www.amazon.com/Introducing-Echo-Show-Compact-Charcoal/dp/B07HZLHPKP/ref=zg_bs_electronics_20?_encoding=UTF8&psc=1&refRID=S4RV0K4TPXNG0VJEVQDH', 'product_id': 'B07HZLHPKP'}, {'url': 'https://www.amazon.com/Nintendo-Console-Resolution-802-11ac-Surround/dp/B07RGFF98S/ref=zg_bs_electronics_44?_encoding=UTF8&psc=1&refRID=S4RV0K4TPXNG0VJEVQDH', 'product_id': 'B07RGFF98S'}, {'url': 'https://www.amazon.com/Kindle-Paperwhite-Waterproof-Unlimited-auto-renewal/dp/B07PP49ZDW/ref=zg_bs_electronics_13?_encoding=UTF8&psc=1&refRID=S4RV0K4TPXNG0VJEVQDH', 'product_id': 'B07PP49ZDW'}, {'url': 'https://www.amazon.com/TP-Link-AC1200-Smart-WiFi-Router/dp/B07N1L5HX1/ref=zg_bs_electronics_49?_encoding=UTF8&psc=1&refRID=S4RV0K4TPXNG0VJEVQDH', 'product_id': 'B07N1L5HX1'}, {'url': 'https://www.amazon.com/Apple-Watch-GPS-38mm-Space-Aluminium/dp/B07K39FRSL/ref=zg_bs_electronics_16?_encoding=UTF8&psc=1&refRID=S4RV0K4TPXNG0VJEVQDH', 'product_id': 'B07K39FRSL'}, {'url': 'https://www.amazon.com/Acer-Display-Graphics-Keyboard-A515-43-R19L/dp/B07RF1XD36/ref=zg_bs_electronics_28?_encoding=UTF8&psc=1&refRID=S4RV0K4TPXNG0VJEVQDH', 'product_id': 'B07RF1XD36'}, {'url': 'https://www.amazon.com/NETGEAR-R6700-Nighthawk-Gigabit-Ethernet/dp/B00R2AZLD2/ref=zg_bs_electronics_43?_encoding=UTF8&psc=1&refRID=S4RV0K4TPXNG0VJEVQDH', 'product_id': 'B00R2AZLD2'}, {'url': 'https://www.amazon.com/Gskyer-Telescope-AZ-Astronomical-Refracting/dp/B081RJ8DW1/ref=zg_bs_electronics_38?_encoding=UTF8&psc=1&refRID=S4RV0K4TPXNG0VJEVQDH', 'product_id': 'B081RJ8DW1'}, {'url': 'https://www.amazon.com/Raceway-Management-Channel-Paintable-Concealer/dp/B07GPFDL1K/ref=zg_bs_electronics_50?_encoding=UTF8&psc=1&refRID=S4RV0K4TPXNG0VJEVQDH', 'product_id': 'B07GPFDL1K'}, {'url': 'https://www.amazon.com/Sceptre-E248W-19203R-Monitor-Speakers-Metallic/dp/B0773ZY26F/ref=zg_bs_electronics_46?_encoding=UTF8&psc=1&refRID=S4RV0K4TPXNG0VJEVQDH', 'product_id': 'B0773ZY26F'}, {'url': 'https://www.amazon.com/Roku-Express-Streaming-Media-Player/dp/B07WVFCVJN/ref=zg_bs_electronics_7?_encoding=UTF8&psc=1&refRID=S4RV0K4TPXNG0VJEVQDH', 'product_id': 'B07WVFCVJN'}, {'url': 'https://www.amazon.com/Echo-Dot/dp/B07FZ8S74R/ref=zg_bs_electronics_1?_encoding=UTF8&psc=1&refRID=S4RV0K4TPXNG0VJEVQDH', 'product_id': 'B07FZ8S74R'}, {'url': 'https://www.amazon.com/All-New-Fire-HD-8-Tablet/dp/B07TMJ1R3X/ref=zg_bs_electronics_6?_encoding=UTF8&psc=1&refRID=S4RV0K4TPXNG0VJEVQDH', 'product_id': 'B07TMJ1R3X'}, {'url': 'https://www.amazon.com/Insignia-NS-24DF311SE21-24-inch-Smart-HD/dp/B0874Y42B7/ref=zg_bs_electronics_32?_encoding=UTF8&psc=1&refRID=S4RV0K4TPXNG0VJEVQDH', 'product_id': 'B0874Y42B7'}, {'url': 'https://www.amazon.com/Fire-Tablet-7/dp/B07FKR6KXF/ref=zg_bs_electronics_3?_encoding=UTF8&psc=1&refRID=S4RV0K4TPXNG0VJEVQDH', 'product_id': 'B07FKR6KXF'}, {'url': 'https://www.amazon.com/ODODOS-Control-Workout-Running-Leggings/dp/B07KVNCKXY/ref=zg_bs_fashion_45?_encoding=UTF8&psc=1&refRID=ETG055FRXADG96H4BBDY', 'product_id': 'B07KVNCKXY'}, {'url': 'https://www.amazon.com/MERRYS-Polarized-Aluminum-Sunglasses-Vintage/dp/B01MQ08MTS/ref=zg_bs_fashion_15?_encoding=UTF8&psc=1&refRID=ETG055FRXADG96H4BBDY', 'product_id': 'B01MQ08MTS'}, {'url': 'https://www.amazon.com/Champion-Short-Pockets-Athletic-Small/dp/B000J6ZYL0/ref=zg_bs_fashion_18?_encoding=UTF8&psc=1&refRID=ETG055FRXADG96H4BBDY', 'product_id': 'B000J6ZYL0'}, {'url': 'https://www.amazon.com/FAYBOX-Wicking-Headbands-Headwear-Motorcycling/dp/B07TB33P1J/ref=zg_bs_fashion_44?_encoding=UTF8&psc=1&refRID=ETG055FRXADG96H4BBDY', 'product_id': 'B07TB33P1J'}, {'url': 'https://www.amazon.com/adidas-Adilette-Shower-Slide-Sandal/dp/B07S8KY8Z4/ref=zg_bs_fashion_16?_encoding=UTF8&psc=1&refRID=ETG055FRXADG96H4BBDY', 'product_id': 'B07S8KY8Z4'}, {'url': 'https://www.amazon.com/Crocs-Classic-Comfortable-Casual-cantaloupe/dp/B07S854C5B/ref=zg_bs_fashion_6?_encoding=UTF8&psc=1&refRID=ETG055FRXADG96H4BBDY', 'product_id': 'B07S854C5B'}, {'url': 'https://www.amazon.com/iHeartRaves-Skeleton-Multi-functional-Seamless-Bandana/dp/B015YGSG0U/ref=zg_bs_fashion_3?_encoding=UTF8&psc=1&refRID=ETG055FRXADG96H4BBDY', 'product_id': 'B015YGSG0U'}, {'url': 'https://www.amazon.com/Lemedy-Padded-Fitness-Workout-Running/dp/B07TSCZ7XQ/ref=zg_bs_fashion_13?_encoding=UTF8&psc=1&refRID=ETG055FRXADG96H4BBDY', 'product_id': 'B07TSCZ7XQ'}, {'url': 'https://www.amazon.com/Under-Armour-Shorts-Graphite-X-Small/dp/B017HTKLFU/ref=zg_bs_fashion_40?_encoding=UTF8&psc=1&refRID=ETG055FRXADG96H4BBDY', 'product_id': 'B017HTKLFU'}, {'url': 'https://www.amazon.com/INTO-AM-Europa-Seamless-Bandana/dp/B01DUTYGXE/ref=zg_bs_fashion_5?_encoding=UTF8&psc=1&refRID=ETG055FRXADG96H4BBDY', 'product_id': 'B01DUTYGXE'}, {'url': 'https://www.amazon.com/Under-Armour-Sleeve-T-Shirt-Baroque/dp/B07YXLFYQ3/ref=zg_bs_fashion_14?_encoding=UTF8&psc=1&refRID=ETG055FRXADG96H4BBDY', 'product_id': 'B07YXLFYQ3'}, {'url': 'https://www.amazon.com/ODODOS-Control-Workout-Athletic-See-Through/dp/B07KVXBFZL/ref=zg_bs_fashion_29?_encoding=UTF8&psc=1&refRID=ETG055FRXADG96H4BBDY', 'product_id': 'B07KVXBFZL'}, {'url': 'https://www.amazon.com/YunJey-sleeve-triple-stripe-T-shirt/dp/B074T31XSC/ref=zg_bs_fashion_48?_encoding=UTF8&psc=1&refRID=ETG055FRXADG96H4BBDY', 'product_id': 'B074T31XSC'}, {'url': 'https://www.amazon.com/Gildan-Ultra-Cotton-Black-Small/dp/B01LZ2WFDA/ref=zg_bs_fashion_26?_encoding=UTF8&psc=1&refRID=ETG055FRXADG96H4BBDY', 'product_id': 'B01LZ2WFDA'}, {'url': 'https://www.amazon.com/Viishow-Printed-Dresses-Pockets-Wine/dp/B07PNGB9H3/ref=zg_bs_fashion_17?_encoding=UTF8&psc=1&refRID=ETG055FRXADG96H4BBDY', 'product_id': 'B07PNGB9H3'}, {'url': 'https://www.amazon.com/hiitave-Water-Non-Slip-Barefoot-Toddler/dp/B07WJK15X9/ref=zg_bs_fashion_12?_encoding=UTF8&psc=1&refRID=ETG055FRXADG96H4BBDY', 'product_id': 'B07WJK15X9'}, {'url': 'https://www.amazon.com/Under-Armour-Running-Anthracite-Reflective/dp/B07PT8SB9Z/ref=zg_bs_fashion_41?_encoding=UTF8&psc=1&refRID=ETG055FRXADG96H4BBDY', 'product_id': 'B07PT8SB9Z'}, {'url': 'https://www.amazon.com/Fruit-Loom-T-Shirt-Multipack-Assorted/dp/B07BBJKPLZ/ref=zg_bs_fashion_35?_encoding=UTF8&psc=1&refRID=ETG055FRXADG96H4BBDY', 'product_id': 'B07BBJKPLZ'}, {'url': 'https://www.amazon.com/Leggings-Depot-JGA128-BLACK-SMALL/dp/B07B8V774Y/ref=zg_bs_fashion_47?_encoding=UTF8&psc=1&refRID=ETG055FRXADG96H4BBDY', 'product_id': 'B07B8V774Y'}, {'url': 'https://www.amazon.com/Mission-Cooling-Gaiter-Wears-Charcoal/dp/B087D8RBJ1/ref=zg_bs_fashion_20?_encoding=UTF8&psc=1&refRID=ETG055FRXADG96H4BBDY', 'product_id': 'B087D8RBJ1'}, {'url': 'https://www.amazon.com/Womens-V-Neck-Short-Sleeve-Shirt/dp/B079JY5N8W/ref=zg_bs_fashion_21?_encoding=UTF8&psc=1&refRID=ETG055FRXADG96H4BBDY', 'product_id': 'B079JY5N8W'}, {'url': 'https://www.amazon.com/VIFUUR-Water-Sports-Unisex-Shoes/dp/B0859X2PMF/ref=zg_bs_fashion_2?_encoding=UTF8&psc=1&refRID=ETG055FRXADG96H4BBDY', 'product_id': 'B0859X2PMF'}, {'url': 'https://www.amazon.com/FUNKYMONKEY-Waterproof-Adjustable-Sandals-Flipflops/dp/B07X9STSZR/ref=zg_bs_fashion_30?_encoding=UTF8&psc=1&refRID=ETG055FRXADG96H4BBDY', 'product_id': 'B07X9STSZR'}, {'url': 'https://www.amazon.com/Birkenstock-Unisex-Arizona-Essentials-Sandals/dp/B00LFCGHWM/ref=zg_bs_fashion_38?_encoding=UTF8&psc=1&refRID=ETG055FRXADG96H4BBDY', 'product_id': 'B00LFCGHWM'}, {'url': 'https://www.amazon.com/Fruit-Loom-CoolZone-Briefs-Assorted/dp/B07P7FGBGB/ref=zg_bs_fashion_7?_encoding=UTF8&psc=1&refRID=ETG055FRXADG96H4BBDY', 'product_id': 'B07P7FGBGB'}, {'url': 'https://www.amazon.com/Comfort-Colors-Adult-Sleeve-1717/dp/B07M8YFH8V/ref=zg_bs_fashion_42?_encoding=UTF8&psc=1&refRID=ETG055FRXADG96H4BBDY', 'product_id': 'B07M8YFH8V'}, {'url': 'https://www.amazon.com/Kanu-Surf-Barracuda-Trunks-Small/dp/B004DNVP8G/ref=zg_bs_fashion_10?_encoding=UTF8&psc=1&refRID=ETG055FRXADG96H4BBDY', 'product_id': 'B004DNVP8G'}, {'url': 'https://www.amazon.com/Hanes-Womens-T-Shirt-Small-Black/dp/B00KRYLG7U/ref=zg_bs_fashion_46?_encoding=UTF8&psc=1&refRID=ETG055FRXADG96H4BBDY', 'product_id': 'B00KRYLG7U'}, {'url': 'https://www.amazon.com/Hanes-Mens-Sleeve-T-Shirt-X-Small/dp/B06ZZB5M4H/ref=zg_bs_fashion_24?_encoding=UTF8&psc=1&refRID=ETG055FRXADG96H4BBDY', 'product_id': 'B06ZZB5M4H'}, {'url': 'https://www.amazon.com/Summer-2-Pack-Face-Protection-Aerosols/dp/B088WS5WR7/ref=zg_bs_fashion_32?_encoding=UTF8&psc=1&refRID=ETG055FRXADG96H4BBDY', 'product_id': 'B088WS5WR7'}, {'url': 'https://www.amazon.com/MIHOLL-Womens-Summer-Casual-Sleeve/dp/B07N4P8VM9/ref=zg_bs_fashion_33?_encoding=UTF8&psc=1&refRID=ETG055FRXADG96H4BBDY', 'product_id': 'B07N4P8VM9'}, {'url': 'https://www.amazon.com/LOLONG-Bandana-Stylish-Gaiters-Motorcycle/dp/B08772WJHX/ref=zg_bs_fashion_34?_encoding=UTF8&psc=1&refRID=ETG055FRXADG96H4BBDY', 'product_id': 'B08772WJHX'}, {'url': 'https://www.amazon.com/Next-Level-Apparel-Womens-Racerback/dp/B01A4C7BVO/ref=zg_bs_fashion_28?_encoding=UTF8&psc=1&refRID=ETG055FRXADG96H4BBDY', 'product_id': 'B01A4C7BVO'}, {'url': 'https://www.amazon.com/Under-Armour-Graphic-Shorts-Graphite/dp/B072J36KT1/ref=zg_bs_fashion_39?_encoding=UTF8&psc=1&refRID=ETG055FRXADG96H4BBDY', 'product_id': 'B072J36KT1'}, {'url': 'https://www.amazon.com/Dockers-Mens-Classic-Fit-Perfect-Short-Cotton/dp/B009CTUHOY/ref=zg_bs_fashion_22?_encoding=UTF8&psc=1&refRID=ETG055FRXADG96H4BBDY', 'product_id': 'B009CTUHOY'}, {'url': 'https://www.amazon.com/Womens-Water-Barefoot-Quick-Dry-Exercise/dp/B079LZVWX7/ref=zg_bs_fashion_19?_encoding=UTF8&psc=1&refRID=ETG055FRXADG96H4BBDY', 'product_id': 'B079LZVWX7'}, {'url': 'https://www.amazon.com/SUNGAIT-Vintage-Sunglasses-Classic-Designer/dp/B06XNWW2L1/ref=zg_bs_fashion_31?_encoding=UTF8&psc=1&refRID=ETG055FRXADG96H4BBDY', 'product_id': 'B06XNWW2L1'}, {'url': 'https://www.amazon.com/Levis-Bandanas-100-Cotton-Headband/dp/B009YQX1SO/ref=zg_bs_fashion_36?_encoding=UTF8&psc=1&refRID=ETG055FRXADG96H4BBDY', 'product_id': 'B009YQX1SO'}, {'url': 'https://www.amazon.com/Gildan-G2000-Cotton-T-Shirt-2-Pack/dp/B07611Y7NN/ref=zg_bs_fashion_43?_encoding=UTF8&psc=1&refRID=ETG055FRXADG96H4BBDY', 'product_id': 'B07611Y7NN'}, {'url': 'https://www.amazon.com/SOJOS-Polarized-Sunglasses-Polygon-Mirrored/dp/B078JCZ7MX/ref=zg_bs_fashion_27?_encoding=UTF8&psc=1&refRID=ETG055FRXADG96H4BBDY', 'product_id': 'B078JCZ7MX'}, {'url': 'https://www.amazon.com/Dickies-Multi-Pack-Dri-tech-Moisture-Control/dp/B01LWAEPR5/ref=zg_bs_fashion_23?_encoding=UTF8&psc=1&refRID=ETG055FRXADG96H4BBDY', 'product_id': 'B01LWAEPR5'}, {'url': 'https://www.amazon.com/Achiou-Protection-Lightweight-Breathable-All-terrain/dp/B08773DM4H/ref=zg_bs_fashion_4?_encoding=UTF8&psc=1&refRID=ETG055FRXADG96H4BBDY', 'product_id': 'B08773DM4H'}, {'url': 'https://www.amazon.com/Hanes-Comfortsoft-T-Shirt-Black-Small/dp/B00KBZOR94/ref=zg_bs_fashion_25?_encoding=UTF8&psc=1&refRID=ETG055FRXADG96H4BBDY', 'product_id': 'B00KBZOR94'}, {'url': 'https://www.amazon.com/MIRITY-Women-Racerback-Sports-Bras/dp/B07M893LY6/ref=zg_bs_fashion_37?_encoding=UTF8&psc=1&refRID=ETG055FRXADG96H4BBDY', 'product_id': 'B07M893LY6'}, {'url': 'https://www.amazon.com/Womens-Sleeve-Shirts-Summer-Blouses/dp/B08661QD1N/ref=zg_bs_fashion_8?_encoding=UTF8&psc=1&refRID=ETG055FRXADG96H4BBDY', 'product_id': 'B08661QD1N'}, {'url': 'https://www.amazon.com/Balaclava-Bandana-Headwear-Cooling-Outdoors/dp/B087YZTJF8/ref=zg_bs_fashion_11?_encoding=UTF8&psc=1&refRID=ETG055FRXADG96H4BBDY', 'product_id': 'B087YZTJF8'}, {'url': 'https://www.amazon.com/Baleaf-Womens-Workout-Control-Pockets/dp/B07LF27WBQ/ref=zg_bs_fashion_1?_encoding=UTF8&psc=1&refRID=ETG055FRXADG96H4BBDY', 'product_id': 'B07LF27WBQ'}, {'url': 'https://www.amazon.com/Under-Armour-Locker-Sandal-Metallic/dp/B01GSWXE6A/ref=zg_bs_fashion_50?_encoding=UTF8&psc=1&refRID=ETG055FRXADG96H4BBDY', 'product_id': 'B01GSWXE6A'}, {'url': 'https://www.amazon.com/Toddler-Non-Slip-Barefoot-Aqua-Socks-Boys-Girls-Toddler/dp/B07DDG2R7M/ref=zg_bs_fashion_49?_encoding=UTF8&psc=1&refRID=ETG055FRXADG96H4BBDY', 'product_id': 'B07DDG2R7M'}, {'url': 'https://www.amazon.com/Carhartt-Workwear-Pocket-Short-Sleeve-T-Shirt/dp/B0007XB2Y8/ref=zg_bs_fashion_9?_encoding=UTF8&psc=1&refRID=ETG055FRXADG96H4BBDY', 'product_id': 'B0007XB2Y8'}]\n"
     ]
    }
   ],
   "source": [
    "print(all_product_links)"
   ]
  },
  {
   "cell_type": "code",
   "execution_count": 33,
   "metadata": {},
   "outputs": [],
   "source": [
    "def scrape_product_page(url, title_lookup = '#productTitle', price_lookup = '#priceblock_ourprice'):\n",
    "    driver.get(url)\n",
    "    time.sleep(1.2)\n",
    "    body_el = driver.find_element_by_css_selector('body')\n",
    "    html_str = body_el.get_attribute('innerHTML')\n",
    "    html_obj = HTML(html=html_str)\n",
    "    product_title = html_obj.find(title_lookup, first=True).text\n",
    "    product_price = html_obj.find(price_lookup, first=True).text\n",
    "    return product_title, product_price\n"
   ]
  },
  {
   "cell_type": "code",
   "execution_count": null,
   "metadata": {},
   "outputs": [],
   "source": [
    "def perform_scrape(cleaned_items=[]):\n",
    "    data_extracted = []\n",
    "    for obj in cleaned_items:\n",
    "        link = obj['url']\n",
    "        product_id = obj['product_id']\n",
    "        title, price = (None, None)\n",
    "        try:\n",
    "            title, price = scrape_product_page(link)\n",
    "        except:\n",
    "            pass\n",
    "        if title != None and price != None:\n",
    "            print(link, title, price)\n",
    "        product_data = {\n",
    "            \"url\": link,\n",
    "            \"product_id\": product_id,\n",
    "            \"title\": title,\n",
    "            \"price\": price\n",
    "        }\n",
    "        data_extracted.append(product_data)\n",
    "    return data_extracted"
   ]
  },
  {
   "cell_type": "code",
   "execution_count": null,
   "metadata": {},
   "outputs": [],
   "source": [
    "# extracted_data = perform_scrape(cleaned_items=cleaned_links)"
   ]
  },
  {
   "cell_type": "code",
   "execution_count": null,
   "metadata": {},
   "outputs": [],
   "source": [
    "# print(extracted_data)"
   ]
  },
  {
   "cell_type": "code",
   "execution_count": 24,
   "metadata": {},
   "outputs": [],
   "source": [
    "def row_scrape_event(row, *args, **kwargs):\n",
    "    link = row['url']\n",
    "    scraped = 0\n",
    "    try:\n",
    "        scraped = row['scraped']\n",
    "    except:\n",
    "        pass\n",
    "    # print(link)\n",
    "    if scraped == 1 or scraped == \"1\":\n",
    "        print(\"skipped\")\n",
    "        return row\n",
    "    product_id = row['product_id']\n",
    "    title, price = (None, None)\n",
    "    try:\n",
    "        title, price = scrape_product_page(link)\n",
    "    except:\n",
    "        pass\n",
    "    row['title'] = title\n",
    "    row['price'] = price\n",
    "    row['scraped'] = 1\n",
    "    row['timestamp'] = datetime.datetime.now().timestamp()\n",
    "    print(link, title, price)\n",
    "    return row"
   ]
  },
  {
   "cell_type": "code",
   "execution_count": 23,
   "metadata": {},
   "outputs": [
    {
     "data": {
      "text/html": [
       "<div>\n",
       "<style scoped>\n",
       "    .dataframe tbody tr th:only-of-type {\n",
       "        vertical-align: middle;\n",
       "    }\n",
       "\n",
       "    .dataframe tbody tr th {\n",
       "        vertical-align: top;\n",
       "    }\n",
       "\n",
       "    .dataframe thead th {\n",
       "        text-align: right;\n",
       "    }\n",
       "</style>\n",
       "<table border=\"1\" class=\"dataframe\">\n",
       "  <thead>\n",
       "    <tr style=\"text-align: right;\">\n",
       "      <th></th>\n",
       "      <th>url</th>\n",
       "      <th>product_id</th>\n",
       "    </tr>\n",
       "  </thead>\n",
       "  <tbody>\n",
       "    <tr>\n",
       "      <th>0</th>\n",
       "      <td>https://www.amazon.com/HITOP-Blaster-Children-...</td>\n",
       "      <td>B07R6GZQBV</td>\n",
       "    </tr>\n",
       "    <tr>\n",
       "      <th>1</th>\n",
       "      <td>https://www.amazon.com/Waterproof-Stickers-Lug...</td>\n",
       "      <td>B07QR3NWGK</td>\n",
       "    </tr>\n",
       "    <tr>\n",
       "      <th>2</th>\n",
       "      <td>https://www.amazon.com/Aqua-Monterey-Multi-Pur...</td>\n",
       "      <td>B01CETEZ78</td>\n",
       "    </tr>\n",
       "    <tr>\n",
       "      <th>3</th>\n",
       "      <td>https://www.amazon.com/Bobor-Trampoline-Sprink...</td>\n",
       "      <td>B07QZFS4CY</td>\n",
       "    </tr>\n",
       "    <tr>\n",
       "      <th>4</th>\n",
       "      <td>https://www.amazon.com/Intex-Lounge-Swimming-L...</td>\n",
       "      <td>B00AY2KDS8</td>\n",
       "    </tr>\n",
       "  </tbody>\n",
       "</table>\n",
       "</div>"
      ],
      "text/plain": [
       "                                                 url  product_id\n",
       "0  https://www.amazon.com/HITOP-Blaster-Children-...  B07R6GZQBV\n",
       "1  https://www.amazon.com/Waterproof-Stickers-Lug...  B07QR3NWGK\n",
       "2  https://www.amazon.com/Aqua-Monterey-Multi-Pur...  B01CETEZ78\n",
       "3  https://www.amazon.com/Bobor-Trampoline-Sprink...  B07QZFS4CY\n",
       "4  https://www.amazon.com/Intex-Lounge-Swimming-L...  B00AY2KDS8"
      ]
     },
     "execution_count": 23,
     "metadata": {},
     "output_type": "execute_result"
    }
   ],
   "source": [
    "df = pd.read_csv(product_category_links_output)\n",
    "df.head()"
   ]
  },
  {
   "cell_type": "code",
   "execution_count": 34,
   "metadata": {},
   "outputs": [
    {
     "data": {
      "text/plain": [
       "(149, 2)"
      ]
     },
     "execution_count": 34,
     "metadata": {},
     "output_type": "execute_result"
    }
   ],
   "source": [
    "df.shape"
   ]
  },
  {
   "cell_type": "code",
   "execution_count": 35,
   "metadata": {},
   "outputs": [],
   "source": [
    "df_sub = df.copy()"
   ]
  },
  {
   "cell_type": "code",
   "execution_count": 36,
   "metadata": {},
   "outputs": [
    {
     "name": "stdout",
     "output_type": "stream",
     "text": [
      "https://www.amazon.com/HITOP-Blaster-Children-Swimming-Fighting/dp/B07R6GZQBV/ref=zg_bs_toys-and-games_17?_encoding=UTF8&psc=1&refRID=1TQPTF23RKE0GFEFZZPJ None None\n",
      "https://www.amazon.com/HITOP-Blaster-Children-Swimming-Fighting/dp/B07R6GZQBV/ref=zg_bs_toys-and-games_17?_encoding=UTF8&psc=1&refRID=1TQPTF23RKE0GFEFZZPJ None None\n",
      "https://www.amazon.com/Waterproof-Stickers-Luggage-Scrapbook-Postcard/dp/B07QR3NWGK/ref=zg_bs_toys-and-games_39?_encoding=UTF8&psc=1&refRID=1TQPTF23RKE0GFEFZZPJ None None\n",
      "https://www.amazon.com/Aqua-Monterey-Multi-Purpose-Inflatable-Portable/dp/B01CETEZ78/ref=zg_bs_toys-and-games_1?_encoding=UTF8&psc=1&refRID=1TQPTF23RKE0GFEFZZPJ Aqua 4-in-1 Monterey Hammock Inflatable Pool Float, Multi-Purpose Pool Hammock (Saddle, Lounge Chair, Hammock, Drifter) Pool Chair, Portable Water Hammock, Light Blue/White Stripe $14.26\n",
      "https://www.amazon.com/Bobor-Trampoline-Sprinklers-Outdoor-Summer/dp/B07QZFS4CY/ref=zg_bs_toys-and-games_35?_encoding=UTF8&psc=1&refRID=1TQPTF23RKE0GFEFZZPJ Bobor Trampoline Sprinkler for Kids, Outdoor Trampoline Backyard Water Park Sprinkler Fun Summer Outdoor Water Toys for Boys Girls. (39ft) $18.99\n",
      "https://www.amazon.com/Intex-Lounge-Swimming-Lounger-Headrest/dp/B00AY2KDS8/ref=zg_bs_toys-and-games_43?_encoding=UTF8&psc=1&refRID=1TQPTF23RKE0GFEFZZPJ Intex King Kool Lounge Swimming Pool Lounger with Headrest - Set of 2 (Pair) $42.99\n",
      "https://www.amazon.com/Hasbro-B0965-Monopoly-Deal-Card/dp/B00NQQTZCO/ref=zg_bs_toys-and-games_44?_encoding=UTF8&psc=1&refRID=1TQPTF23RKE0GFEFZZPJ None None\n",
      "https://www.amazon.com/Tara-Toys-Barbie-Necklace-Activity/dp/B07WWZBF5G/ref=zg_bs_toys-and-games_15?_encoding=UTF8&psc=1&refRID=1TQPTF23RKE0GFEFZZPJ Tara Toys Barbie Necklace Activity Set $12.99\n",
      "https://www.amazon.com/Barbie-FWV25-Travel-Doll/dp/B07GLMHSS8/ref=zg_bs_toys-and-games_30?_encoding=UTF8&psc=1&refRID=1TQPTF23RKE0GFEFZZPJ Barbie Doll and Travel Set with Puppy, Luggage & 10+ Accessories, Multicolor $12.95\n",
      "https://www.amazon.com/Play-Doh-Modeling-Compound-Non-Toxic-Exclusive/dp/B00JM5GW10/ref=zg_bs_toys-and-games_6?_encoding=UTF8&psc=1&refRID=1TQPTF23RKE0GFEFZZPJ Play-Doh Modeling Compound 10 Pack Case of Colors, Non-Toxic, Assorted Colors, 2 Oz Cans, Ages 2 & Up, (Amazon Exclusive), Multicolor $7.99\n",
      "https://www.amazon.com/SupMLC-Backpack-Holding-Children-Grocery/dp/B07PHCWJ9W/ref=zg_bs_toys-and-games_27?_encoding=UTF8&psc=1&refRID=1TQPTF23RKE0GFEFZZPJ None None\n",
      "https://www.amazon.com/LeapFrog-80-609540-100-Animals-Book/dp/B085KTQKNC/ref=zg_bs_toys-and-games_7?_encoding=UTF8&psc=1&refRID=1TQPTF23RKE0GFEFZZPJ None None\n",
      "https://www.amazon.com/Disney-Classic-Characters-Matching-Game/dp/B007DW6F34/ref=zg_bs_toys-and-games_28?_encoding=UTF8&psc=1&refRID=1TQPTF23RKE0GFEFZZPJ Wonder Forge Disney Classic Characters Matching Game for Boys & Girls Age 3 to 5 - A Fun & Fast Disney Memory Game $5.92\n",
      "https://www.amazon.com/First-Princess-Make-Kit-Everything/dp/B07FPWYY79/ref=zg_bs_toys-and-games_25?_encoding=UTF8&psc=1&refRID=1TQPTF23RKE0GFEFZZPJ None None\n",
      "https://www.amazon.com/Little-Tikes-First-Slide-Blue/dp/B008MH5H4M/ref=zg_bs_toys-and-games_45?_encoding=UTF8&psc=1&refRID=1TQPTF23RKE0GFEFZZPJ None None\n",
      "https://www.amazon.com/Klutz-LEGO-Chain-Reactions-Craft/dp/0545703301/ref=zg_bs_toys-and-games_23?_encoding=UTF8&psc=1&refRID=1TQPTF23RKE0GFEFZZPJ Klutz Lego Chain Reactions Science & Building Kit, Age 8, Multicolor $13.08\n",
      "https://www.amazon.com/Elmers-Liquid-School-Washable-Ounces/dp/B072MHQZT1/ref=zg_bs_toys-and-games_31?_encoding=UTF8&psc=1&refRID=1TQPTF23RKE0GFEFZZPJ Elmer's Liquid School Glue, White, Washable, 16 Ounces - Great for Making Slime $14.59\n",
      "https://www.amazon.com/First-Years-Stack-Up-Cups/dp/B00005C5H4/ref=zg_bs_toys-and-games_12?_encoding=UTF8&psc=1&refRID=1TQPTF23RKE0GFEFZZPJ The First Years Stack Up Cup Toys $6.00\n",
      "https://www.amazon.com/Exploding-Kittens-LLC-EKG-ORG1-1-Card/dp/B010TQY7A8/ref=zg_bs_toys-and-games_37?_encoding=UTF8&psc=1&refRID=1TQPTF23RKE0GFEFZZPJ Exploding Kittens Card Game - Family-Friendly Party Games - Card Games For Adults, Teens & Kids $19.99\n",
      "https://www.amazon.com/L-L-Surprise-Surprises-Including/dp/B07XSPCBVP/ref=zg_bs_toys-and-games_18?_encoding=UTF8&psc=1&refRID=1TQPTF23RKE0GFEFZZPJ L.O.L. Surprise! Lights Glitter Doll with 8 Surprises Including Black Light Surprises $9.57\n",
      "https://www.amazon.com/Hasbro-A5640-Connect-4-Game/dp/B00D8STBHY/ref=zg_bs_toys-and-games_32?_encoding=UTF8&psc=1&refRID=1TQPTF23RKE0GFEFZZPJ Hasbro Connect 4 Game $7.99\n",
      "https://www.amazon.com/Cards-Against-Humanity-LLC-CAHUS/dp/B004S8F7QM/ref=zg_bs_toys-and-games_49?_encoding=UTF8&psc=1&refRID=1TQPTF23RKE0GFEFZZPJ Cards Against Humanity $25.00\n",
      "https://www.amazon.com/Fisher-Price-Rattle-Rock-Maracas-Orange/dp/B071FLSWBS/ref=zg_bs_toys-and-games_22?_encoding=UTF8&psc=1&refRID=1TQPTF23RKE0GFEFZZPJ Fisher-Price Rattle 'n Rock Maracas, Blue/Orange [Amazon Exclusive] $6.99\n",
      "https://www.amazon.com/L-L-Surprise-Present-Surprises/dp/B085B23C3X/ref=zg_bs_toys-and-games_50?_encoding=UTF8&psc=1&refRID=1TQPTF23RKE0GFEFZZPJ L.O.L. Surprise! Present Surprise Doll with 8 Surprises $10.88\n",
      "https://www.amazon.com/Regal-Games-Chalk-City-Washable/dp/B071CKSMS7/ref=zg_bs_toys-and-games_20?_encoding=UTF8&psc=1&refRID=1TQPTF23RKE0GFEFZZPJ Chalk City Sidewalk Chalk, 20 Count, 7 Different Colors, Jumbo Chalk, Non-Toxic, Washable, Art Set $10.50\n",
      "https://www.amazon.com/Spikeball-Ball-Kit-Playing-Drawstring/dp/B002V7A7MQ/ref=zg_bs_toys-and-games_41?_encoding=UTF8&psc=1&refRID=1TQPTF23RKE0GFEFZZPJ None None\n",
      "https://www.amazon.com/Crayola-Shark-Coloring-Pages-Wonder/dp/B07PMLL5L7/ref=zg_bs_toys-and-games_38?_encoding=UTF8&psc=1&refRID=1TQPTF23RKE0GFEFZZPJ Crayola Baby Shark Wonder Pages Mess Free Coloring Gift, Kids Indoor Activities at Home $6.97\n",
      "https://www.amazon.com/Crayola-Twistables-Classrooms-Preschools-Self-Sharpening/dp/B00062J99K/ref=zg_bs_toys-and-games_34?_encoding=UTF8&psc=1&refRID=1TQPTF23RKE0GFEFZZPJ Crayola Twistables Crayons Coloring Set, Kids Indoor Activities at Home, 24 Count $4.49\n",
      "https://www.amazon.com/Akaho-Inflatable-Swimming-Thickened-Blue-2Fly/dp/B089GQW4RJ/ref=zg_bs_toys-and-games_40?_encoding=UTF8&psc=1&refRID=1TQPTF23RKE0GFEFZZPJ None None\n",
      "https://www.amazon.com/Long-Lasting-Pre-Sharpened-Non-Toxic-Coloring-Gradation/dp/B0816T2XKL/ref=zg_bs_toys-and-games_8?_encoding=UTF8&psc=1&refRID=1TQPTF23RKE0GFEFZZPJ Colored Pencils, 36 Premium Quality, Long-Lasting, Pre-Sharpened Pencils Non-Toxic Colored Pencil Set For Adult Coloring Books or Kids 4 & Up, Great For Shading, Gradation, Line Art & More (2 Pack) $14.75\n",
      "https://www.amazon.com/SplashEZ-Sprinkler-Splash-Wading-Learning/dp/B07MNMT3M7/ref=zg_bs_toys-and-games_5?_encoding=UTF8&psc=1&refRID=1TQPTF23RKE0GFEFZZPJ None None\n",
      "https://www.amazon.com/Obuby-Sprinkle-Sprinkler-Upgraded-Toddlers/dp/B085ZH5VGR/ref=zg_bs_toys-and-games_21?_encoding=UTF8&psc=1&refRID=1TQPTF23RKE0GFEFZZPJ Obuby Sprinkle & Splash Play Mat, Sprinkler for Kids,Upgraded 68' Summer Outdoor Water Toys Wading Pool Splash pad for Toddlers Baby, Outside Water Play Mat for 1-12 Years Old Children Boys Girls $24.99\n",
      "https://www.amazon.com/Jasonwell-Inflatable-Rideable-Swimming-Decorations/dp/B07BMM7JY8/ref=zg_bs_toys-and-games_46?_encoding=UTF8&psc=1&refRID=1TQPTF23RKE0GFEFZZPJ None None\n",
      "https://www.amazon.com/Homech-Inflatable-Swimming-Full-Sized-Toddlers/dp/B083PRCZDM/ref=zg_bs_toys-and-games_19?_encoding=UTF8&psc=1&refRID=1TQPTF23RKE0GFEFZZPJ Homech Family Inflatable Swimming Pool, 120\" X 72\" X 22\" Full-Sized Inflatable Lounge Pool for Baby, Kiddie, Kids, Adult, Infant, Toddlers for Ages 3+,Outdoor, Garden, Backyard, Summer Water Party $139.99\n",
      "https://www.amazon.com/First-Years-Disney-Mickey-Squirt/dp/B06Y1G2MH9/ref=zg_bs_toys-and-games_48?_encoding=UTF8&psc=1&refRID=1TQPTF23RKE0GFEFZZPJ The First Years Disney Baby Bathtime Squirt Toys, Mickey Mouse $7.99\n",
      "https://www.amazon.com/ELONGDI-Rainbow-Growing-Sensory-Wedding/dp/B06XZNMMKC/ref=zg_bs_toys-and-games_24?_encoding=UTF8&psc=1&refRID=1TQPTF23RKE0GFEFZZPJ None None\n",
      "https://www.amazon.com/Darice-Solution-Top-Works-Machines-Birthdays/dp/B07RYBB4NZ/ref=zg_bs_toys-and-games_4?_encoding=UTF8&psc=1&refRID=1TQPTF23RKE0GFEFZZPJ Darice 64-Ounce Bubble Solution-Includes Wand and Easy Pour Funnel Top-Works with Bubble Machines-for Weddings, Birthdays and Outdoor Events $9.00\n"
     ]
    },
    {
     "name": "stdout",
     "output_type": "stream",
     "text": [
      "https://www.amazon.com/Transformers-TRA-EARTHRISE-EARTHMODE-Pack/dp/B07ZPL7DXZ/ref=zg_bs_toys-and-games_26?_encoding=UTF8&psc=1&refRID=1TQPTF23RKE0GFEFZZPJ Transformers Toys Generations War for Cybertron: Earthrise Deluxe WFC-E31 Autobot Alliance 2-Pack Action Figures - Kids Ages 8 and Up, 5.5-inch $39.99\n",
      "https://www.amazon.com/Bunch-Balloons-Pack-Amazon-Exclusive/dp/B07GW2QQWN/ref=zg_bs_toys-and-games_2?_encoding=UTF8&psc=1&refRID=1TQPTF23RKE0GFEFZZPJ None None\n",
      "https://www.amazon.com/LEGO-Classic-Green-Baseplate-Supplement/dp/B00NHQF65S/ref=zg_bs_toys-and-games_47?_encoding=UTF8&psc=1&refRID=1TQPTF23RKE0GFEFZZPJ None None\n",
      "https://www.amazon.com/FindUWill-Swimming-Multi-Purpose-Inflatable-Lightblue/dp/B083Q1TTBJ/ref=zg_bs_toys-and-games_9?_encoding=UTF8&psc=1&refRID=1TQPTF23RKE0GFEFZZPJ FindUWill 2-Pack Premium Swimming Pool Float Hammock, Multi-Purpose Inflatable Hammock (Saddle, Lounge Chair, Hammock, Drifter), Water Hammock Lounge (Pink and Lightblue) $40.99\n",
      "https://www.amazon.com/Outward-Hound-Stimulating-Interactive-Dispensing/dp/B087DMVC6J/ref=zg_bs_toys-and-games_16?_encoding=UTF8&psc=1&refRID=1TQPTF23RKE0GFEFZZPJ Nina Ottosson By Outward Hound - Interactive Puzzle Game Dog Toys $14.99\n",
      "https://www.amazon.com/Winning-Hape-Dynamo-Wooden-Domino/dp/B00NU9VNDQ/ref=zg_bs_toys-and-games_36?_encoding=UTF8&psc=1&refRID=1TQPTF23RKE0GFEFZZPJ None None\n",
      "https://www.amazon.com/Nuby-Floating-Purple-Octopus-Interactive/dp/B083ZZSGLR/ref=zg_bs_toys-and-games_14?_encoding=UTF8&psc=1&refRID=1TQPTF23RKE0GFEFZZPJ Nuby Floating Purple Octopus with 3 Hoopla Rings Interactive Bath Toy $6.88\n",
      "https://www.amazon.com/SwimWays-Noodle-Chair-Colors-Vary/dp/B019C2COVO/ref=zg_bs_toys-and-games_10?_encoding=UTF8&psc=1&refRID=1TQPTF23RKE0GFEFZZPJ Noodle Sling - Floating Chair $10.54\n",
      "https://www.amazon.com/Crayola-Adult-Face-Mask-Reusable/dp/B08B2J4J46/ref=zg_bs_toys-and-games_3?_encoding=UTF8&psc=1&refRID=1TQPTF23RKE0GFEFZZPJ Crayola Adult Face Mask - 5 Reusable Cloth Face Mask Set, Crayola Stripe, Teacher Supplies $39.99\n",
      "https://www.amazon.com/Creativity-Kids-Glow-Dark-Painting/dp/B07SXLYQ6S/ref=zg_bs_toys-and-games_11?_encoding=UTF8&psc=1&refRID=1TQPTF23RKE0GFEFZZPJ Creativity for Kids Glow In The Dark Rock Painting Kit - Paint 10 Rocks with Water Resistant Glow Paint - Crafts for Kids $12.99\n",
      "https://www.amazon.com/dp/B00ABA0ZOA/ref=zg_bs_toys-and-games_42?_encoding=UTF8&psc=1&refRID=1TQPTF23RKE0GFEFZZPJ None None\n",
      "https://www.amazon.com/Max-Liquidator-3-Pack-Water-Blaster/dp/B082FY363S/ref=zg_bs_toys-and-games_33?_encoding=UTF8&psc=1&refRID=1TQPTF23RKE0GFEFZZPJ Max Liquidator 3-Pack Water Blaster Set by Prime Time Toys $12.82\n",
      "https://www.amazon.com/Mattel-Games-Official-Amazon-Exclusive/dp/B07P6MZPK3/ref=zg_bs_toys-and-games_13?_encoding=UTF8&psc=1&refRID=1TQPTF23RKE0GFEFZZPJ Mattel Games UNO: Family Card Game, with 112 Cards in a Sturdy Storage Tin, Travel-Friendly, Makes a Great Gift for 7 Year Olds and Up [Amazon Exclusive] (GDJ85) $9.65\n",
      "https://www.amazon.com/Fix-Find-flexible-colorful-Noodles/dp/B004UHED0C/ref=zg_bs_toys-and-games_29?_encoding=UTF8&psc=1&refRID=1TQPTF23RKE0GFEFZZPJ None None\n",
      "https://www.amazon.com/Acer-SB220Q-Ultra-Thin-Frame-Monitor/dp/B07CVL2D2S/ref=zg_bs_electronics_25?_encoding=UTF8&psc=1&refRID=0N2NJ4X7R0F0RQXF4X6F Acer SB220Q bi 21.5 Inches Full HD (1920 x 1080) IPS Ultra-Thin Zero Frame Monitor (HDMI & VGA port),Black $83.77\n",
      "https://www.amazon.com/Introducing-Ring-Indoor-Cam-Compact-Plug-In-HD-security-camera-with-two-way-talk-White-Works-with-Alexa-/dp/B07Q9VBYV8/ref=zg_bs_electronics_41?_encoding=UTF8&psc=1&refRID=0N2NJ4X7R0F0RQXF4X6F Ring Indoor Cam, Compact Plug-In HD security camera with two-way talk, Works with Alexa - White $59.99\n",
      "https://www.amazon.com/All-new-Ring-Stick-Up-Cam-Battery-HD-security-camera-with-two-way-talk-Works-with-Alexa-/dp/B07Q6ZZFLS/ref=zg_bs_electronics_48?_encoding=UTF8&psc=1&refRID=0N2NJ4X7R0F0RQXF4X6F Ring Stick Up Cam Battery HD security camera with two-way talk, Works with Alexa - White $99.99\n",
      "https://www.amazon.com/Gskyer-Telescope-AZ-Astronomical-Refracting/dp/B081RJ8DW1/ref=zg_bs_electronics_38?_encoding=UTF8&psc=1&refRID=0N2NJ4X7R0F0RQXF4X6F None None\n",
      "https://www.amazon.com/NETGEAR-R6700-Nighthawk-Gigabit-Ethernet/dp/B00R2AZLD2/ref=zg_bs_electronics_43?_encoding=UTF8&psc=1&refRID=0N2NJ4X7R0F0RQXF4X6F NETGEAR Nighthawk Smart WiFi Router (R6700) - AC1750 Wireless Speed (up to 1750 Mbps) | Up to 1500 sq ft Coverage & 25 Devices | 4 x 1G Ethernet and 1 x 3.0 USB ports | Armor Security $86.12\n",
      "https://www.amazon.com/Roku-Streaming-Player-Premium-Headphones/dp/B07WVF9SL5/ref=zg_bs_electronics_14?_encoding=UTF8&psc=1&refRID=0N2NJ4X7R0F0RQXF4X6F None None\n",
      "https://www.amazon.com/Fitbit-Fitness-Smartwatch-Tracking-Included/dp/B07TWFVDWT/ref=zg_bs_electronics_34?_encoding=UTF8&psc=1&refRID=0N2NJ4X7R0F0RQXF4X6F Fitbit Versa 2 Health and Fitness Smartwatch with Heart Rate, Music, Alexa Built-In, Sleep and Swim Tracking, Black/Carbon, One Size (S and L Bands Included) $149.00\n",
      "https://www.amazon.com/Apple-Watch-GPS-42mm-Space-Aluminium/dp/B07K387Y7K/ref=zg_bs_electronics_35?_encoding=UTF8&psc=1&refRID=0N2NJ4X7R0F0RQXF4X6F None None\n",
      "https://www.amazon.com/Raceway-Management-Channel-Paintable-Concealer/dp/B07GPFDL1K/ref=zg_bs_electronics_50?_encoding=UTF8&psc=1&refRID=0N2NJ4X7R0F0RQXF4X6F Cord Cover Raceway Kit, 157\" Cable Cover Channel, Paintable Cord Concealer System Cable Hider, Cord Wires, Hiding Wall Mount TV Powers Cords in Home Office, 10X L15.7in X W0.95in X 0.55in $17.99\n",
      "https://www.amazon.com/All-New-Fire-HD-8-Kids-Edition-Tablet/dp/B07WDDT3G5/ref=zg_bs_electronics_10?_encoding=UTF8&psc=1&refRID=0N2NJ4X7R0F0RQXF4X6F None None\n",
      "https://www.amazon.com/Nintendo-Console-Resolution-802-11ac-Surround/dp/B07RGFF98S/ref=zg_bs_electronics_44?_encoding=UTF8&psc=1&refRID=0N2NJ4X7R0F0RQXF4X6F Nintendo Switch 32GB Console Video Games w/ 32GB Memory Card | Neon Red/Neon Blue Joy-Con | 1080p Resolution | 802.11ac WiFi | HDMI | Surround Sound | IR Motion Camera $449.98\n",
      "https://www.amazon.com/amFilm-Tempered-Screen-Protector-Nintendo-Switch/dp/B01N3ASPNV/ref=zg_bs_electronics_36?_encoding=UTF8&psc=1&refRID=0N2NJ4X7R0F0RQXF4X6F amFilm Tempered Glass Screen Protector for Nintendo Switch 2017 (2-Pack) $7.99\n",
      "https://www.amazon.com/all-new-Echo/dp/B07NFTVP7P/ref=zg_bs_electronics_26?_encoding=UTF8&psc=1&refRID=0N2NJ4X7R0F0RQXF4X6F Echo (3rd Gen)- Smart speaker with Alexa- Charcoal $99.99\n",
      "https://www.amazon.com/Acer-Display-Graphics-Keyboard-A515-43-R19L/dp/B07RF1XD36/ref=zg_bs_electronics_28?_encoding=UTF8&psc=1&refRID=0N2NJ4X7R0F0RQXF4X6F Acer Aspire 5 Slim Laptop, 15.6 inches Full HD IPS Display, AMD Ryzen 3 3200U, Vega 3 Graphics, 4GB DDR4, 128GB SSD, Backlit Keyboard, Windows 10 in S Mode, A515-43-R19L,Silver $409.55\n",
      "https://www.amazon.com/Apple-TV-32GB-4th-generation/dp/B075NFX24M/ref=zg_bs_electronics_47?_encoding=UTF8&psc=1&refRID=0N2NJ4X7R0F0RQXF4X6F None None\n",
      "https://www.amazon.com/TP-Link-AC1200-Smart-WiFi-Router/dp/B07N1L5HX1/ref=zg_bs_electronics_49?_encoding=UTF8&psc=1&refRID=0N2NJ4X7R0F0RQXF4X6F TP-Link AC1200 Gigabit Smart WiFi Router - 5GHz Gigabit Dual Band MU-MIMO Wireless Internet Router, Supports Beamforming, Guest WiFi and AP mode, Long Range Coverage by 4 Antennas(Archer A6), Black $49.99\n",
      "https://www.amazon.com/All-New-Fire-HD-8-Tablet/dp/B07TMJ1R3X/ref=zg_bs_electronics_6?_encoding=UTF8&psc=1&refRID=0N2NJ4X7R0F0RQXF4X6F None None\n",
      "https://www.amazon.com/Apple-Watch-GPS-38mm-Space-Aluminium/dp/B07K39FRSL/ref=zg_bs_electronics_16?_encoding=UTF8&psc=1&refRID=0N2NJ4X7R0F0RQXF4X6F None None\n",
      "https://www.amazon.com/Roku-Express-Streaming-Media-Player/dp/B07WVFCVJN/ref=zg_bs_electronics_7?_encoding=UTF8&psc=1&refRID=0N2NJ4X7R0F0RQXF4X6F None None\n",
      "https://www.amazon.com/Letsfit-Activity-Waterproof-Pedometer-Smartwatch/dp/B07X2KLTJ2/ref=zg_bs_electronics_45?_encoding=UTF8&psc=1&refRID=0N2NJ4X7R0F0RQXF4X6F None None\n",
      "https://www.amazon.com/Fire-HD-10-Kids-Edition/dp/B07KD7K4B1/ref=zg_bs_electronics_37?_encoding=UTF8&psc=1&refRID=0N2NJ4X7R0F0RQXF4X6F None None\n",
      "https://www.amazon.com/OHill-Organizer-Management-Organizing-Adhesive/dp/B071FXZBMV/ref=zg_bs_electronics_33?_encoding=UTF8&psc=1&refRID=0N2NJ4X7R0F0RQXF4X6F None None\n"
     ]
    },
    {
     "name": "stdout",
     "output_type": "stream",
     "text": [
      "https://www.amazon.com/Insignia-NS-24DF311SE21-24-inch-Smart-HD/dp/B0874Y42B7/ref=zg_bs_electronics_32?_encoding=UTF8&psc=1&refRID=0N2NJ4X7R0F0RQXF4X6F Insignia NS-24DF311SE21 24-inch Smart HD TV - Fire TV Edition $109.99\n",
      "https://www.amazon.com/AmazonBasics-6-Outlet-Protector-2-Pack-2-Foot/dp/B00TP1BWMK/ref=zg_bs_electronics_23?_encoding=UTF8&psc=1&refRID=0N2NJ4X7R0F0RQXF4X6F AmazonBasics 6-Outlet, 200 Joule Surge Protector Power Strip, 2 Foot, White - Pack of 2 $12.99\n",
      "https://www.amazon.com/all-new-fire-tv-cube-with-alexa-voice-remote/dp/B07KGVB6D6/ref=zg_bs_electronics_40?_encoding=UTF8&psc=1&refRID=0N2NJ4X7R0F0RQXF4X6F None None\n",
      "https://www.amazon.com/Apple-Watch-GPS-38mm-Silver-Aluminium/dp/B07K37HKT8/ref=zg_bs_electronics_18?_encoding=UTF8&psc=1&refRID=0N2NJ4X7R0F0RQXF4X6F None None\n",
      "https://www.amazon.com/SanDisk-MicroSDXC-Nintendo-Switch-SDSQXAO-128G-GNCZN/dp/B07KXQX3S3/ref=zg_bs_electronics_42?_encoding=UTF8&psc=1&refRID=0N2NJ4X7R0F0RQXF4X6F SanDisk 128GB MicroSDXC UHS-I Memory Card for Nintendo Switch - SDSQXAO-128G-GNCZN $27.99\n",
      "https://www.amazon.com/Echo-Dot/dp/B07N8RPRF7/ref=zg_bs_electronics_12?_encoding=UTF8&psc=1&refRID=0N2NJ4X7R0F0RQXF4X6F Echo Dot (3rd Gen) - Smart speaker with clock and Alexa - Sandstone $59.99\n",
      "https://www.amazon.com/Blink-Mini-Indoor-Camera/dp/B07X6C9RMF/ref=zg_bs_electronics_29?_encoding=UTF8&psc=1&refRID=0N2NJ4X7R0F0RQXF4X6F Introducing Blink Mini – Compact indoor plug-in smart security camera, 1080 HD video, motion detection, Works with Alexa – 1 camera $34.99\n",
      "https://www.amazon.com/Sceptre-E248W-19203R-Monitor-Speakers-Metallic/dp/B0773ZY26F/ref=zg_bs_electronics_46?_encoding=UTF8&psc=1&refRID=0N2NJ4X7R0F0RQXF4X6F Sceptre E248W-19203R 24\" Ultra Thin 75Hz 1080p LED Monitor 2x HDMI VGA Build-in Speakers, Metallic Black 2018 $104.68\n",
      "https://www.amazon.com/Echo-Dot/dp/B07FZ8S74R/ref=zg_bs_electronics_1?_encoding=UTF8&psc=1&refRID=0N2NJ4X7R0F0RQXF4X6F Echo Dot (3rd Gen) - Smart speaker with Alexa - Charcoal $49.99\n",
      "https://www.amazon.com/Ring-8AB1S7-0EU0-Rechargeable-Battery-Pack/dp/B076JKHDQT/ref=zg_bs_electronics_27?_encoding=UTF8&psc=1&refRID=0N2NJ4X7R0F0RQXF4X6F Ring Rechargeable Battery Pack $29.99\n",
      "https://www.amazon.com/Blink-Smart-Security-Camera/dp/B07MMZ2LTB/ref=zg_bs_electronics_17?_encoding=UTF8&psc=1&refRID=0N2NJ4X7R0F0RQXF4X6F Blink XT2 Outdoor/Indoor Smart Security Camera with cloud storage included, 2-way audio, 2-year battery life – 1 camera kit $99.99\n",
      "https://www.amazon.com/Fire-TV-Stick-4K-with-Alexa-Voice-Remote/dp/B079QHML21/ref=zg_bs_electronics_2?_encoding=UTF8&psc=1&refRID=0N2NJ4X7R0F0RQXF4X6F None None\n",
      "https://www.amazon.com/Kindle-Paperwhite-Waterproof-Unlimited-auto-renewal/dp/B07PP49ZDW/ref=zg_bs_electronics_13?_encoding=UTF8&psc=1&refRID=0N2NJ4X7R0F0RQXF4X6F Kindle Paperwhite – Now Waterproof with more than 2x the Storage – Ad-Supported + Kindle Unlimited (with auto-renewal) $124.99\n",
      "https://www.amazon.com/Presentamos-Echo-Show-Pantalla-inteligente/dp/B07HZLHPKP/ref=zg_bs_electronics_20?_encoding=UTF8&psc=1&refRID=0N2NJ4X7R0F0RQXF4X6F Echo Show 5 -- Smart display with Alexa – stay connected with video calling - Charcoal $69.99\n",
      "https://www.amazon.com/Ring-Video-Doorbell/dp/B07WGJ8XWZ/ref=zg_bs_electronics_19?_encoding=UTF8&psc=1&refRID=0N2NJ4X7R0F0RQXF4X6F All-new Ring Video Doorbell – 1080p HD video, improved motion detection, easy installation – Satin Nickel (2nd Gen) $99.99\n",
      "https://www.amazon.com/Fire-7-Kids-Edition-Tablet/dp/B07H8WS1FT/ref=zg_bs_electronics_9?_encoding=UTF8&psc=1&refRID=0N2NJ4X7R0F0RQXF4X6F None None\n",
      "https://www.amazon.com/GE-Outlet-Protector-Extension-14092/dp/B00DOMYL24/ref=zg_bs_electronics_24?_encoding=UTF8&psc=1&refRID=0N2NJ4X7R0F0RQXF4X6F GE 6 Outlet Surge Protector, 10 Ft Extension Cord, Power Strip, 800 Joules, Flat Plug, Twist-to-Close Safety Covers, White, 14092 $12.82\n",
      "https://www.amazon.com/Wyze-Indoor-Wireless-Detection-Assistant/dp/B076H3SRXG/ref=zg_bs_electronics_11?_encoding=UTF8&psc=1&refRID=0N2NJ4X7R0F0RQXF4X6F Wyze Cam 1080p HD Indoor Wireless Smart Home Camera with Night Vision, 2-Way Audio, Works with Alexa & the Google Assistant, One Pack, White - WYZEC2 $25.98\n",
      "https://www.amazon.com/Fire-Tablet-7/dp/B07FKR6KXF/ref=zg_bs_electronics_3?_encoding=UTF8&psc=1&refRID=0N2NJ4X7R0F0RQXF4X6F None None\n",
      "https://www.amazon.com/Roku-Premiere-HDR-Streaming-Player-Premium/dp/B07HDBZN7Q/ref=zg_bs_electronics_21?_encoding=UTF8&psc=1&refRID=0N2NJ4X7R0F0RQXF4X6F Roku Premiere | HD/4K/HDR Streaming Media Player, Simple Remote and Premium HDMI Cable $38.99\n",
      "https://www.amazon.com/Roku-Streaming-Stick-HDR-Streaming-Long-range/dp/B075XLWML4/ref=zg_bs_electronics_8?_encoding=UTF8&psc=1&refRID=0N2NJ4X7R0F0RQXF4X6F Roku Streaming Stick+ | HD/4K/HDR Streaming Device with Long-range Wireless and Voice Remote with TV Controls (updated for 2019) $39.00\n",
      "https://www.amazon.com/Wyze-1080p-Indoor-Camera-Vision/dp/B07DGR98VQ/ref=zg_bs_electronics_31?_encoding=UTF8&psc=1&refRID=0N2NJ4X7R0F0RQXF4X6F Wyze Cam Pan 1080p Pan/Tilt/Zoom Wi-Fi Indoor Smart Home Camera with Night Vision, 2-Way Audio, Works with Alexa & the Google Assistant, White - WYZECP1 $37.98\n",
      "https://www.amazon.com/Fire-HD-10/dp/B07K1RZWMC/ref=zg_bs_electronics_5?_encoding=UTF8&psc=1&refRID=0N2NJ4X7R0F0RQXF4X6F None None\n",
      "https://www.amazon.com/JBL-Bluetooth-Portable-Stereo-Speaker/dp/B01MSYQWNY/ref=zg_bs_electronics_39?_encoding=UTF8&psc=1&refRID=0N2NJ4X7R0F0RQXF4X6F JBL FLIP 4 - Waterproof Portable Bluetooth Speaker - Black $79.90\n",
      "https://www.amazon.com/Fujifilm-INSTAX-Instant-Twin-Pack/dp/B00EB4ADQW/ref=zg_bs_electronics_30?_encoding=UTF8&psc=1&refRID=0N2NJ4X7R0F0RQXF4X6F Fujifilm Instax Mini Instant Film Twin Pack (White) $12.11\n",
      "https://www.amazon.com/Fire-TV-Stick-with-Alexa-Voice-Remote/dp/B0791TX5P5/ref=zg_bs_electronics_4?_encoding=UTF8&psc=1&refRID=0N2NJ4X7R0F0RQXF4X6F Fire TV Stick streaming media player with Alexa built in, includes Alexa Voice Remote, HD, easy set-up, released 2019 $39.99\n",
      "https://www.amazon.com/Echo-Show-8/dp/B07PF1Y28C/ref=zg_bs_electronics_22?_encoding=UTF8&psc=1&refRID=0N2NJ4X7R0F0RQXF4X6F Echo Show 8 -- HD smart display with Alexa – stay connected with video calling - Charcoal $99.99\n",
      "https://www.amazon.com/Hanes-Comfortsoft-T-Shirt-Black-Small/dp/B00KBZOR94/ref=zg_bs_fashion_25?_encoding=UTF8&psc=1&refRID=1RGYHW4TCM2K0JGNHEWE Hanes Men's ComfortSoft Short Sleeve T-Shirt (4 Pack ) $15.99\n",
      "https://www.amazon.com/Bigib-Zapatillas-antideslizantes-descalzos-zapatillas/dp/B07DDG2R7M/ref=zg_bs_fashion_49?_encoding=UTF8&psc=1&refRID=1RGYHW4TCM2K0JGNHEWE Bigib Toddler Kids Swim Water Shoes Quick Dry Non-Slip Water Skin Barefoot Sports Shoes Aqua Socks for Boys Girls Toddler $9.99\n",
      "https://www.amazon.com/hiitave-Water-Non-Slip-Barefoot-Toddler/dp/B07WJK15X9/ref=zg_bs_fashion_12?_encoding=UTF8&psc=1&refRID=1RGYHW4TCM2K0JGNHEWE hiitave Kids Water Shoes Non-Slip Quick Dry Swim Barefoot Beach Aqua Pool Socks for Boys & Girls Toddler $12.99\n",
      "https://www.amazon.com/Summer-2-Pack-Face-Protection-Aerosols/dp/B088WS5WR7/ref=zg_bs_fashion_32?_encoding=UTF8&psc=1&refRID=1RGYHW4TCM2K0JGNHEWE Self Pro Summer Face Mask Protection from Dust, UV & Aerosols - Washable Neck Gaiter Balaclava, Bandana Face Cover UPF50++ $21.95\n",
      "https://www.amazon.com/Crocs-Classic-Comfortable-Casual-cantaloupe/dp/B07S854C5B/ref=zg_bs_fashion_6?_encoding=UTF8&psc=1&refRID=1RGYHW4TCM2K0JGNHEWE Crocs Men's and Women's Classic Clog | Water Comfortable Slip on Shoes $44.95\n",
      "https://www.amazon.com/FAYBOX-Wicking-Headbands-Headwear-Motorcycling/dp/B07TB33P1J/ref=zg_bs_fashion_44?_encoding=UTF8&psc=1&refRID=1RGYHW4TCM2K0JGNHEWE None None\n",
      "https://www.amazon.com/Womens-V-Neck-Short-Sleeve-Shirt/dp/B079JY5N8W/ref=zg_bs_fashion_21?_encoding=UTF8&psc=1&refRID=1RGYHW4TCM2K0JGNHEWE None None\n",
      "https://www.amazon.com/VIFUUR-Water-Sports-Unisex-Shoes/dp/B0859X2PMF/ref=zg_bs_fashion_2?_encoding=UTF8&psc=1&refRID=1RGYHW4TCM2K0JGNHEWE VIFUUR Water Sports Shoes Barefoot Quick-Dry Aqua Yoga Socks Slip-on for Men Women $13.68\n",
      "https://www.amazon.com/Kanu-Surf-Barracuda-Trunks-Small/dp/B004DNVP8G/ref=zg_bs_fashion_10?_encoding=UTF8&psc=1&refRID=1RGYHW4TCM2K0JGNHEWE Kanu Surf Men's Swim Trunks $17.99\n",
      "https://www.amazon.com/Womens-Water-Barefoot-Quick-Dry-Exercise/dp/B079LZVWX7/ref=zg_bs_fashion_19?_encoding=UTF8&psc=1&refRID=1RGYHW4TCM2K0JGNHEWE None None\n"
     ]
    },
    {
     "name": "stdout",
     "output_type": "stream",
     "text": [
      "https://www.amazon.com/YunJey-sleeve-triple-stripe-T-shirt/dp/B074T31XSC/ref=zg_bs_fashion_48?_encoding=UTF8&psc=1&refRID=1RGYHW4TCM2K0JGNHEWE None None\n",
      "https://www.amazon.com/Womens-Sleeve-Shirts-Summer-Blouses/dp/B08661QD1N/ref=zg_bs_fashion_8?_encoding=UTF8&psc=1&refRID=1RGYHW4TCM2K0JGNHEWE NSQTBA Womens Rolled Short Sleeve Tops V Neck T Shirts Summer Blouses Knot Front Tees $17.99\n",
      "https://www.amazon.com/Baleaf-Womens-Workout-Control-Pockets/dp/B07LF27WBQ/ref=zg_bs_fashion_1?_encoding=UTF8&psc=1&refRID=1RGYHW4TCM2K0JGNHEWE BALEAF Women's 8\" /5\" /2\" High Waist Workout Biker Yoga Running Compression Exercise Shorts Side Pockets (Regular/Plus Size) $22.99\n",
      "https://www.amazon.com/Hanes-Womens-T-Shirt-Small-Black/dp/B00KRYLG7U/ref=zg_bs_fashion_46?_encoding=UTF8&psc=1&refRID=1RGYHW4TCM2K0JGNHEWE Hanes Women's Nano T-Shirt $5.96\n",
      "https://www.amazon.com/MIHOLL-Womens-Summer-Casual-Sleeve/dp/B07N4P8VM9/ref=zg_bs_fashion_33?_encoding=UTF8&psc=1&refRID=1RGYHW4TCM2K0JGNHEWE MIHOLL Women's Short Sleeve V-Neck Shirts Loose Casual Tee T-Shirt $18.99\n",
      "https://www.amazon.com/Gildan-G2000-Cotton-T-Shirt-2-Pack/dp/B07611Y7NN/ref=zg_bs_fashion_43?_encoding=UTF8&psc=1&refRID=1RGYHW4TCM2K0JGNHEWE Gildan Men's G2000 Ultra Cotton Adult T-Shirt, 2-Pack $8.67\n",
      "https://www.amazon.com/Dockers-Mens-Classic-Fit-Perfect-Short-Cotton/dp/B009CTUHOY/ref=zg_bs_fashion_22?_encoding=UTF8&psc=1&refRID=1RGYHW4TCM2K0JGNHEWE Dockers Men's Classic Fit Perfect Short $24.99\n",
      "https://www.amazon.com/SOJOS-Polarized-Sunglasses-Polygon-Mirrored/dp/B078JCZ7MX/ref=zg_bs_fashion_27?_encoding=UTF8&psc=1&refRID=1RGYHW4TCM2K0JGNHEWE SOJOS Small Square Polarized Sunglasses for Men and Women Polygon Mirrored Lens SJ1072 $14.83\n",
      "https://www.amazon.com/FUNKYMONKEY-Waterproof-Adjustable-Sandals-Flipflops/dp/B07X9STSZR/ref=zg_bs_fashion_30?_encoding=UTF8&psc=1&refRID=1RGYHW4TCM2K0JGNHEWE FUNKYMONKEY Women's Comfort Slides Double Buckle Adjustable EVA Flat Sandals $15.99\n",
      "https://www.amazon.com/ODODOS-Control-Workout-Athletic-See-Through/dp/B07KVXBFZL/ref=zg_bs_fashion_29?_encoding=UTF8&psc=1&refRID=1RGYHW4TCM2K0JGNHEWE ODODOS High Waist Out Pocket Yoga Short Tummy Control Workout Running Athletic Non See-Through Yoga Shorts $21.98\n",
      "https://www.amazon.com/Under-Armour-Sleeve-T-Shirt-Baroque/dp/B07YXLFYQ3/ref=zg_bs_fashion_14?_encoding=UTF8&psc=1&refRID=1RGYHW4TCM2K0JGNHEWE None None\n",
      "https://www.amazon.com/Leggings-Depot-JGA128-BLACK-SMALL/dp/B07B8V774Y/ref=zg_bs_fashion_47?_encoding=UTF8&psc=1&refRID=1RGYHW4TCM2K0JGNHEWE Leggings Depot Women's Printed Solid Activewear Jogger Track Cuff Sweatpants $14.99\n",
      "https://www.amazon.com/Fruit-Loom-CoolZone-Briefs-Assorted/dp/B07P7FGBGB/ref=zg_bs_fashion_7?_encoding=UTF8&psc=1&refRID=1RGYHW4TCM2K0JGNHEWE Fruit of the Loom Men's Coolzone Boxer Briefs (Assorted colors) $14.93\n",
      "https://www.amazon.com/MIRITY-Women-Racerback-Sports-Bras/dp/B07M893LY6/ref=zg_bs_fashion_37?_encoding=UTF8&psc=1&refRID=1RGYHW4TCM2K0JGNHEWE MIRITY Women Racerback Sports Bras - High Impact Workout Gym Activewear Bra $37.99\n",
      "https://www.amazon.com/Carhartt-Workwear-Pocket-Short-Sleeve-T-Shirt/dp/B0007XB2Y8/ref=zg_bs_fashion_9?_encoding=UTF8&psc=1&refRID=1RGYHW4TCM2K0JGNHEWE Carhartt Men's K87 Workwear Pocket Short Sleeve T-Shirt (Regular and Big & Tall Sizes) $16.99\n",
      "https://www.amazon.com/Next-Level-Apparel-Womens-Racerback/dp/B01A4C7BVO/ref=zg_bs_fashion_28?_encoding=UTF8&psc=1&refRID=1RGYHW4TCM2K0JGNHEWE None None\n",
      "https://www.amazon.com/MERRYS-Polarized-Aluminum-Sunglasses-Vintage/dp/B01MQ08MTS/ref=zg_bs_fashion_15?_encoding=UTF8&psc=1&refRID=1RGYHW4TCM2K0JGNHEWE MERRY'S Unisex Polarized Aluminum Sunglasses Vintage Sun Glasses For Men/Women S8286 $12.91\n",
      "https://www.amazon.com/Lemedy-Padded-Fitness-Workout-Running/dp/B07TSCZ7XQ/ref=zg_bs_fashion_13?_encoding=UTF8&psc=1&refRID=1RGYHW4TCM2K0JGNHEWE Lemedy Women Padded Sports Bra Fitness Workout Running Shirts Yoga Tank Top $22.99\n",
      "https://www.amazon.com/Fruit-Loom-T-Shirt-Multipack-Assorted/dp/B07BBJKPLZ/ref=zg_bs_fashion_35?_encoding=UTF8&psc=1&refRID=1RGYHW4TCM2K0JGNHEWE Fruit of the Loom Men's Stay Tucked Crew T-Shirt $15.99\n",
      "https://www.amazon.com/VIISHOW-Vestido-largo-suelto-bolsillos/dp/B07PNGB9H3/ref=zg_bs_fashion_17?_encoding=UTF8&psc=1&refRID=1RGYHW4TCM2K0JGNHEWE VIISHOW Women's Short Sleeve Loose Plain Maxi Dresses Casual Long Dresses with Pockets $30.99\n",
      "https://www.amazon.com/Champion-Short-Pockets-Athletic-Small/dp/B000J6ZYL0/ref=zg_bs_fashion_18?_encoding=UTF8&psc=1&refRID=1RGYHW4TCM2K0JGNHEWE Champion Men's Long Mesh Short with Pockets $13.94\n",
      "https://www.amazon.com/Under-Armour-Running-Anthracite-Reflective/dp/B07PT8SB9Z/ref=zg_bs_fashion_41?_encoding=UTF8&psc=1&refRID=1RGYHW4TCM2K0JGNHEWE Under Armour Women's Fly By 2.0 Running Shorts $25.00\n",
      "https://www.amazon.com/adidas-Adilette-Shower-Slide-Sandal/dp/B07S8KY8Z4/ref=zg_bs_fashion_16?_encoding=UTF8&psc=1&refRID=1RGYHW4TCM2K0JGNHEWE adidas Men's Adilette Shower Slides $24.95\n",
      "https://www.amazon.com/ODODOS-Control-Workout-Running-Leggings/dp/B07KVNCKXY/ref=zg_bs_fashion_45?_encoding=UTF8&psc=1&refRID=1RGYHW4TCM2K0JGNHEWE ODODOS Out Pocket High Waist Yoga Pants,Tummy Control,Pocket Workout Yoga Pant $23.98\n",
      "https://www.amazon.com/LOLONG-Bandana-Stylish-Gaiters-Motorcycle/dp/B08772WJHX/ref=zg_bs_fashion_34?_encoding=UTF8&psc=1&refRID=1RGYHW4TCM2K0JGNHEWE LOLONG Face Bandana Ear Loops Stylish Men Women Neck Gaiters for Dust Wind Motorcycle $15.99\n",
      "https://www.amazon.com/SUNGAIT-Vintage-Sunglasses-Classic-Designer/dp/B06XNWW2L1/ref=zg_bs_fashion_31?_encoding=UTF8&psc=1&refRID=1RGYHW4TCM2K0JGNHEWE SUNGAIT Vintage Round Sunglasses for Women Classic Retro Designer Style $15.99\n",
      "https://www.amazon.com/Under-Armour-Shorts-Graphite-X-Small/dp/B017HTKLFU/ref=zg_bs_fashion_40?_encoding=UTF8&psc=1&refRID=1RGYHW4TCM2K0JGNHEWE Under Armour Men's Raid 10-inch Workout Gym Shorts $29.99\n",
      "https://www.amazon.com/Levis-Bandanas-100-Cotton-Headband/dp/B009YQX1SO/ref=zg_bs_fashion_36?_encoding=UTF8&psc=1&refRID=1RGYHW4TCM2K0JGNHEWE Levi's Men's 100% Cotton Multi-Purpose Bandana Gift Sets – Headband, Wrap, Protective Coverage $12.00\n",
      "https://www.amazon.com/Achiou-Protection-Lightweight-Breathable-All-terrain/dp/B08773DM4H/ref=zg_bs_fashion_4?_encoding=UTF8&psc=1&refRID=1RGYHW4TCM2K0JGNHEWE Achiou Neck Gaiter Face Scarf Mask-Dust, Sun Protection Cool Lightweight Windproof, Breathable Fishing Hiking Running Cycling $12.95\n",
      "https://www.amazon.com/Comfort-Colors-Adult-Sleeve-1717/dp/B07M8YFH8V/ref=zg_bs_fashion_42?_encoding=UTF8&psc=1&refRID=1RGYHW4TCM2K0JGNHEWE Comfort Colors Men's Adult Short Sleeve Tee, Style 1717 $9.21\n",
      "https://www.amazon.com/iHeartRaves-Skeleton-Multi-functional-Seamless-Bandana/dp/B015YGSG0U/ref=zg_bs_fashion_3?_encoding=UTF8&psc=1&refRID=1RGYHW4TCM2K0JGNHEWE None None\n",
      "https://www.amazon.com/Balaclava-Bandana-Headwear-Cooling-Outdoors/dp/B087YZTJF8/ref=zg_bs_fashion_11?_encoding=UTF8&psc=1&refRID=1RGYHW4TCM2K0JGNHEWE None None\n",
      "https://www.amazon.com/Gildan-Ultra-Cotton-Black-Small/dp/B01LZ2WFDA/ref=zg_bs_fashion_26?_encoding=UTF8&psc=1&refRID=1RGYHW4TCM2K0JGNHEWE None None\n",
      "https://www.amazon.com/Dickies-Multi-Pack-Dri-tech-Moisture-Control/dp/B01LWAEPR5/ref=zg_bs_fashion_23?_encoding=UTF8&psc=1&refRID=1RGYHW4TCM2K0JGNHEWE Dickies Men's Dri-tech Moisture Control Crew Socks Multipack $25.98\n",
      "https://www.amazon.com/Mission-Cooling-Gaiter-Wears-Charcoal/dp/B087D8RBJ1/ref=zg_bs_fashion_20?_encoding=UTF8&psc=1&refRID=1RGYHW4TCM2K0JGNHEWE Mission Cooling Neck Gaiter 12+ Ways To Wears, Face Mask, UPF 50, Cools when Wet $19.99\n",
      "https://www.amazon.com/Birkenstock-Unisex-Arizona-Essentials-Sandals/dp/B00LFCGHWM/ref=zg_bs_fashion_38?_encoding=UTF8&psc=1&refRID=1RGYHW4TCM2K0JGNHEWE None None\n",
      "https://www.amazon.com/Hanes-Mens-Sleeve-T-Shirt-X-Small/dp/B06ZZB5M4H/ref=zg_bs_fashion_24?_encoding=UTF8&psc=1&refRID=1RGYHW4TCM2K0JGNHEWE Hanes Men's Long Sleeve Cool Dri T-Shirt UPF 50+ (Pack of 2) $28.30\n",
      "https://www.amazon.com/Under-Armour-Locker-Sandal-Metallic/dp/B01GSWXE6A/ref=zg_bs_fashion_50?_encoding=UTF8&psc=1&refRID=1RGYHW4TCM2K0JGNHEWE Under Armour Men's Locker III Slide Sandal $19.95\n",
      "https://www.amazon.com/INTO-AM-Europa-Seamless-Bandana/dp/B01DUTYGXE/ref=zg_bs_fashion_5?_encoding=UTF8&psc=1&refRID=1RGYHW4TCM2K0JGNHEWE None None\n"
     ]
    },
    {
     "name": "stdout",
     "output_type": "stream",
     "text": [
      "https://www.amazon.com/Under-Armour-Graphic-Shorts-Graphite/dp/B072J36KT1/ref=zg_bs_fashion_39?_encoding=UTF8&psc=1&refRID=1RGYHW4TCM2K0JGNHEWE Under Armour Men's Tech Graphic Shorts $19.99\n"
     ]
    }
   ],
   "source": [
    "df_sub = df_sub.apply(row_scrape_event, axis=1)\n"
   ]
  },
  {
   "cell_type": "code",
   "execution_count": null,
   "metadata": {},
   "outputs": [],
   "source": [
    "# df.to_csv(product_output, index=False)"
   ]
  },
  {
   "cell_type": "code",
   "execution_count": 37,
   "metadata": {},
   "outputs": [
    {
     "ename": "FileNotFoundError",
     "evalue": "[Errno 2] File C:\\projects\\30-days-of-python\\amazon-price\\data\\products.csv does not exist: 'C:\\\\projects\\\\30-days-of-python\\\\amazon-price\\\\data\\\\products.csv'",
     "output_type": "error",
     "traceback": [
      "\u001b[1;31m---------------------------------------------------------------------------\u001b[0m",
      "\u001b[1;31mFileNotFoundError\u001b[0m                         Traceback (most recent call last)",
      "\u001b[1;32m<ipython-input-37-2c6fc7632b28>\u001b[0m in \u001b[0;36m<module>\u001b[1;34m\u001b[0m\n\u001b[1;32m----> 1\u001b[1;33m \u001b[0mproducts_df\u001b[0m \u001b[1;33m=\u001b[0m \u001b[0mpd\u001b[0m\u001b[1;33m.\u001b[0m\u001b[0mread_csv\u001b[0m\u001b[1;33m(\u001b[0m\u001b[0mproduct_output\u001b[0m\u001b[1;33m)\u001b[0m\u001b[1;33m\u001b[0m\u001b[1;33m\u001b[0m\u001b[0m\n\u001b[0m\u001b[0;32m      2\u001b[0m \u001b[0mproducts_df\u001b[0m\u001b[1;33m.\u001b[0m\u001b[0mhead\u001b[0m\u001b[1;33m(\u001b[0m\u001b[1;33m)\u001b[0m\u001b[1;33m\u001b[0m\u001b[1;33m\u001b[0m\u001b[0m\n",
      "\u001b[1;32mc:\\users\\phil\\.virtualenvs\\amazon-price-z3pzabff\\lib\\site-packages\\pandas\\io\\parsers.py\u001b[0m in \u001b[0;36mparser_f\u001b[1;34m(filepath_or_buffer, sep, delimiter, header, names, index_col, usecols, squeeze, prefix, mangle_dupe_cols, dtype, engine, converters, true_values, false_values, skipinitialspace, skiprows, skipfooter, nrows, na_values, keep_default_na, na_filter, verbose, skip_blank_lines, parse_dates, infer_datetime_format, keep_date_col, date_parser, dayfirst, cache_dates, iterator, chunksize, compression, thousands, decimal, lineterminator, quotechar, quoting, doublequote, escapechar, comment, encoding, dialect, error_bad_lines, warn_bad_lines, delim_whitespace, low_memory, memory_map, float_precision)\u001b[0m\n\u001b[0;32m    674\u001b[0m         )\n\u001b[0;32m    675\u001b[0m \u001b[1;33m\u001b[0m\u001b[0m\n\u001b[1;32m--> 676\u001b[1;33m         \u001b[1;32mreturn\u001b[0m \u001b[0m_read\u001b[0m\u001b[1;33m(\u001b[0m\u001b[0mfilepath_or_buffer\u001b[0m\u001b[1;33m,\u001b[0m \u001b[0mkwds\u001b[0m\u001b[1;33m)\u001b[0m\u001b[1;33m\u001b[0m\u001b[1;33m\u001b[0m\u001b[0m\n\u001b[0m\u001b[0;32m    677\u001b[0m \u001b[1;33m\u001b[0m\u001b[0m\n\u001b[0;32m    678\u001b[0m     \u001b[0mparser_f\u001b[0m\u001b[1;33m.\u001b[0m\u001b[0m__name__\u001b[0m \u001b[1;33m=\u001b[0m \u001b[0mname\u001b[0m\u001b[1;33m\u001b[0m\u001b[1;33m\u001b[0m\u001b[0m\n",
      "\u001b[1;32mc:\\users\\phil\\.virtualenvs\\amazon-price-z3pzabff\\lib\\site-packages\\pandas\\io\\parsers.py\u001b[0m in \u001b[0;36m_read\u001b[1;34m(filepath_or_buffer, kwds)\u001b[0m\n\u001b[0;32m    446\u001b[0m \u001b[1;33m\u001b[0m\u001b[0m\n\u001b[0;32m    447\u001b[0m     \u001b[1;31m# Create the parser.\u001b[0m\u001b[1;33m\u001b[0m\u001b[1;33m\u001b[0m\u001b[1;33m\u001b[0m\u001b[0m\n\u001b[1;32m--> 448\u001b[1;33m     \u001b[0mparser\u001b[0m \u001b[1;33m=\u001b[0m \u001b[0mTextFileReader\u001b[0m\u001b[1;33m(\u001b[0m\u001b[0mfp_or_buf\u001b[0m\u001b[1;33m,\u001b[0m \u001b[1;33m**\u001b[0m\u001b[0mkwds\u001b[0m\u001b[1;33m)\u001b[0m\u001b[1;33m\u001b[0m\u001b[1;33m\u001b[0m\u001b[0m\n\u001b[0m\u001b[0;32m    449\u001b[0m \u001b[1;33m\u001b[0m\u001b[0m\n\u001b[0;32m    450\u001b[0m     \u001b[1;32mif\u001b[0m \u001b[0mchunksize\u001b[0m \u001b[1;32mor\u001b[0m \u001b[0miterator\u001b[0m\u001b[1;33m:\u001b[0m\u001b[1;33m\u001b[0m\u001b[1;33m\u001b[0m\u001b[0m\n",
      "\u001b[1;32mc:\\users\\phil\\.virtualenvs\\amazon-price-z3pzabff\\lib\\site-packages\\pandas\\io\\parsers.py\u001b[0m in \u001b[0;36m__init__\u001b[1;34m(self, f, engine, **kwds)\u001b[0m\n\u001b[0;32m    878\u001b[0m             \u001b[0mself\u001b[0m\u001b[1;33m.\u001b[0m\u001b[0moptions\u001b[0m\u001b[1;33m[\u001b[0m\u001b[1;34m\"has_index_names\"\u001b[0m\u001b[1;33m]\u001b[0m \u001b[1;33m=\u001b[0m \u001b[0mkwds\u001b[0m\u001b[1;33m[\u001b[0m\u001b[1;34m\"has_index_names\"\u001b[0m\u001b[1;33m]\u001b[0m\u001b[1;33m\u001b[0m\u001b[1;33m\u001b[0m\u001b[0m\n\u001b[0;32m    879\u001b[0m \u001b[1;33m\u001b[0m\u001b[0m\n\u001b[1;32m--> 880\u001b[1;33m         \u001b[0mself\u001b[0m\u001b[1;33m.\u001b[0m\u001b[0m_make_engine\u001b[0m\u001b[1;33m(\u001b[0m\u001b[0mself\u001b[0m\u001b[1;33m.\u001b[0m\u001b[0mengine\u001b[0m\u001b[1;33m)\u001b[0m\u001b[1;33m\u001b[0m\u001b[1;33m\u001b[0m\u001b[0m\n\u001b[0m\u001b[0;32m    881\u001b[0m \u001b[1;33m\u001b[0m\u001b[0m\n\u001b[0;32m    882\u001b[0m     \u001b[1;32mdef\u001b[0m \u001b[0mclose\u001b[0m\u001b[1;33m(\u001b[0m\u001b[0mself\u001b[0m\u001b[1;33m)\u001b[0m\u001b[1;33m:\u001b[0m\u001b[1;33m\u001b[0m\u001b[1;33m\u001b[0m\u001b[0m\n",
      "\u001b[1;32mc:\\users\\phil\\.virtualenvs\\amazon-price-z3pzabff\\lib\\site-packages\\pandas\\io\\parsers.py\u001b[0m in \u001b[0;36m_make_engine\u001b[1;34m(self, engine)\u001b[0m\n\u001b[0;32m   1112\u001b[0m     \u001b[1;32mdef\u001b[0m \u001b[0m_make_engine\u001b[0m\u001b[1;33m(\u001b[0m\u001b[0mself\u001b[0m\u001b[1;33m,\u001b[0m \u001b[0mengine\u001b[0m\u001b[1;33m=\u001b[0m\u001b[1;34m\"c\"\u001b[0m\u001b[1;33m)\u001b[0m\u001b[1;33m:\u001b[0m\u001b[1;33m\u001b[0m\u001b[1;33m\u001b[0m\u001b[0m\n\u001b[0;32m   1113\u001b[0m         \u001b[1;32mif\u001b[0m \u001b[0mengine\u001b[0m \u001b[1;33m==\u001b[0m \u001b[1;34m\"c\"\u001b[0m\u001b[1;33m:\u001b[0m\u001b[1;33m\u001b[0m\u001b[1;33m\u001b[0m\u001b[0m\n\u001b[1;32m-> 1114\u001b[1;33m             \u001b[0mself\u001b[0m\u001b[1;33m.\u001b[0m\u001b[0m_engine\u001b[0m \u001b[1;33m=\u001b[0m \u001b[0mCParserWrapper\u001b[0m\u001b[1;33m(\u001b[0m\u001b[0mself\u001b[0m\u001b[1;33m.\u001b[0m\u001b[0mf\u001b[0m\u001b[1;33m,\u001b[0m \u001b[1;33m**\u001b[0m\u001b[0mself\u001b[0m\u001b[1;33m.\u001b[0m\u001b[0moptions\u001b[0m\u001b[1;33m)\u001b[0m\u001b[1;33m\u001b[0m\u001b[1;33m\u001b[0m\u001b[0m\n\u001b[0m\u001b[0;32m   1115\u001b[0m         \u001b[1;32melse\u001b[0m\u001b[1;33m:\u001b[0m\u001b[1;33m\u001b[0m\u001b[1;33m\u001b[0m\u001b[0m\n\u001b[0;32m   1116\u001b[0m             \u001b[1;32mif\u001b[0m \u001b[0mengine\u001b[0m \u001b[1;33m==\u001b[0m \u001b[1;34m\"python\"\u001b[0m\u001b[1;33m:\u001b[0m\u001b[1;33m\u001b[0m\u001b[1;33m\u001b[0m\u001b[0m\n",
      "\u001b[1;32mc:\\users\\phil\\.virtualenvs\\amazon-price-z3pzabff\\lib\\site-packages\\pandas\\io\\parsers.py\u001b[0m in \u001b[0;36m__init__\u001b[1;34m(self, src, **kwds)\u001b[0m\n\u001b[0;32m   1889\u001b[0m         \u001b[0mkwds\u001b[0m\u001b[1;33m[\u001b[0m\u001b[1;34m\"usecols\"\u001b[0m\u001b[1;33m]\u001b[0m \u001b[1;33m=\u001b[0m \u001b[0mself\u001b[0m\u001b[1;33m.\u001b[0m\u001b[0musecols\u001b[0m\u001b[1;33m\u001b[0m\u001b[1;33m\u001b[0m\u001b[0m\n\u001b[0;32m   1890\u001b[0m \u001b[1;33m\u001b[0m\u001b[0m\n\u001b[1;32m-> 1891\u001b[1;33m         \u001b[0mself\u001b[0m\u001b[1;33m.\u001b[0m\u001b[0m_reader\u001b[0m \u001b[1;33m=\u001b[0m \u001b[0mparsers\u001b[0m\u001b[1;33m.\u001b[0m\u001b[0mTextReader\u001b[0m\u001b[1;33m(\u001b[0m\u001b[0msrc\u001b[0m\u001b[1;33m,\u001b[0m \u001b[1;33m**\u001b[0m\u001b[0mkwds\u001b[0m\u001b[1;33m)\u001b[0m\u001b[1;33m\u001b[0m\u001b[1;33m\u001b[0m\u001b[0m\n\u001b[0m\u001b[0;32m   1892\u001b[0m         \u001b[0mself\u001b[0m\u001b[1;33m.\u001b[0m\u001b[0munnamed_cols\u001b[0m \u001b[1;33m=\u001b[0m \u001b[0mself\u001b[0m\u001b[1;33m.\u001b[0m\u001b[0m_reader\u001b[0m\u001b[1;33m.\u001b[0m\u001b[0munnamed_cols\u001b[0m\u001b[1;33m\u001b[0m\u001b[1;33m\u001b[0m\u001b[0m\n\u001b[0;32m   1893\u001b[0m \u001b[1;33m\u001b[0m\u001b[0m\n",
      "\u001b[1;32mpandas\\_libs\\parsers.pyx\u001b[0m in \u001b[0;36mpandas._libs.parsers.TextReader.__cinit__\u001b[1;34m()\u001b[0m\n",
      "\u001b[1;32mpandas\\_libs\\parsers.pyx\u001b[0m in \u001b[0;36mpandas._libs.parsers.TextReader._setup_parser_source\u001b[1;34m()\u001b[0m\n",
      "\u001b[1;31mFileNotFoundError\u001b[0m: [Errno 2] File C:\\projects\\30-days-of-python\\amazon-price\\data\\products.csv does not exist: 'C:\\\\projects\\\\30-days-of-python\\\\amazon-price\\\\data\\\\products.csv'"
     ]
    }
   ],
   "source": [
    "products_df = pd.read_csv(product_output)\n",
    "products_df.head()"
   ]
  },
  {
   "cell_type": "code",
   "execution_count": null,
   "metadata": {},
   "outputs": [],
   "source": [
    "final_df = pd.concat([products_df, df_sub])\n",
    "final_df.to_csv(product_output, index=False)"
   ]
  },
  {
   "cell_type": "code",
   "execution_count": null,
   "metadata": {},
   "outputs": [],
   "source": [
    "final_df.head()"
   ]
  },
  {
   "cell_type": "code",
   "execution_count": null,
   "metadata": {},
   "outputs": [],
   "source": []
  }
 ],
 "metadata": {
  "kernelspec": {
   "display_name": "Python 3",
   "language": "python",
   "name": "python3"
  },
  "language_info": {
   "codemirror_mode": {
    "name": "ipython",
    "version": 3
   },
   "file_extension": ".py",
   "mimetype": "text/x-python",
   "name": "python",
   "nbconvert_exporter": "python",
   "pygments_lexer": "ipython3",
   "version": "3.7.7"
  }
 },
 "nbformat": 4,
 "nbformat_minor": 4
}
